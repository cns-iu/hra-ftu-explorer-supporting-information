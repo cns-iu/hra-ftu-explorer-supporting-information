{
 "cells": [
  {
   "cell_type": "code",
   "execution_count": 25,
   "id": "e6a9c8dc-62dc-4605-aa6e-eb77c7789a69",
   "metadata": {},
   "outputs": [],
   "source": [
    "import pandas as pd\n",
    "import numpy as np\n",
    "from difflib import get_close_matches"
   ]
  },
  {
   "cell_type": "code",
   "execution_count": 26,
   "id": "0964e637-78a9-4325-8e78-316ef703b021",
   "metadata": {},
   "outputs": [],
   "source": [
    "ftu = '../ref_data/FTU Cell Count Table - Cell_Type_Count.csv'"
   ]
  },
  {
   "cell_type": "code",
   "execution_count": 27,
   "id": "f6b6e8a9-ae85-4f52-baf6-268f1a30d400",
   "metadata": {},
   "outputs": [],
   "source": [
    "ftu_df = pd.read_csv(ftu, sep = '\\t')"
   ]
  },
  {
   "cell_type": "code",
   "execution_count": 28,
   "id": "39911d39-bfbf-4471-afb3-d9f65e6c6e1c",
   "metadata": {},
   "outputs": [
    {
     "data": {
      "text/html": [
       "<div>\n",
       "<style scoped>\n",
       "    .dataframe tbody tr th:only-of-type {\n",
       "        vertical-align: middle;\n",
       "    }\n",
       "\n",
       "    .dataframe tbody tr th {\n",
       "        vertical-align: top;\n",
       "    }\n",
       "\n",
       "    .dataframe thead th {\n",
       "        text-align: right;\n",
       "    }\n",
       "</style>\n",
       "<table border=\"1\" class=\"dataframe\">\n",
       "  <thead>\n",
       "    <tr style=\"text-align: right;\">\n",
       "      <th></th>\n",
       "      <th>Organ</th>\n",
       "      <th>Organ_ID</th>\n",
       "      <th>FTU Label in Uberon</th>\n",
       "      <th>FTU ID in Uberon</th>\n",
       "      <th>CT Label in CL</th>\n",
       "      <th>CT ID in CL</th>\n",
       "      <th>CT Label in 2D Object</th>\n",
       "    </tr>\n",
       "  </thead>\n",
       "  <tbody>\n",
       "    <tr>\n",
       "      <th>0</th>\n",
       "      <td>Kidney</td>\n",
       "      <td>http://purl.obolibrary.org/obo/UBERON_0002113</td>\n",
       "      <td>Cortical Collecting Duct</td>\n",
       "      <td>UBERON:0004203</td>\n",
       "      <td>kidney collecting duct beta-intercalated cell</td>\n",
       "      <td>CL:4030021</td>\n",
       "      <td>Cortical Collecting Duct Intercalated Cell Type B</td>\n",
       "    </tr>\n",
       "  </tbody>\n",
       "</table>\n",
       "</div>"
      ],
      "text/plain": [
       "    Organ                                       Organ_ID  \\\n",
       "0  Kidney  http://purl.obolibrary.org/obo/UBERON_0002113   \n",
       "\n",
       "        FTU Label in Uberon FTU ID in Uberon  \\\n",
       "0  Cortical Collecting Duct   UBERON:0004203   \n",
       "\n",
       "                                  CT Label in CL CT ID in CL  \\\n",
       "0  kidney collecting duct beta-intercalated cell  CL:4030021   \n",
       "\n",
       "                               CT Label in 2D Object  \n",
       "0  Cortical Collecting Duct Intercalated Cell Type B  "
      ]
     },
     "execution_count": 28,
     "metadata": {},
     "output_type": "execute_result"
    }
   ],
   "source": [
    "ftu_df.head(1)"
   ]
  },
  {
   "cell_type": "code",
   "execution_count": 29,
   "id": "a3fede10-c72d-4aa9-b7d4-949a1a1714ff",
   "metadata": {},
   "outputs": [],
   "source": [
    "# File paths\n",
    "file_paths = {\n",
    "    \"Kidney\" : '../ref_data/Anatomogram/ExpDesign-E-CURD-119.tsv',\n",
    "    \"Liver\" : '../ref_data/Anatomogram/ExpDesign-E-MTAB-10553.tsv',\n",
    "    \"Lung\" : '../ref_data/Anatomogram/ExpDesign-E-GEOD-130148.tsv',\n",
    "    \"Pancreas\" : '../ref_data/Anatomogram/ExpDesign-E-MTAB-5061.tsv'\n",
    "}"
   ]
  },
  {
   "cell_type": "code",
   "execution_count": 30,
   "id": "b3ba038f-c96f-4c21-8232-4ac40304b1b6",
   "metadata": {},
   "outputs": [
    {
     "data": {
      "text/plain": [
       "{'Kidney': ['Assay',\n",
       "  'Sample Characteristic[organism]',\n",
       "  'Sample Characteristic Ontology Term[organism]',\n",
       "  'Sample Characteristic[individual]',\n",
       "  'Sample Characteristic Ontology Term[individual]',\n",
       "  'Sample Characteristic[ethnic group]',\n",
       "  'Sample Characteristic Ontology Term[ethnic group]',\n",
       "  'Sample Characteristic[sex]',\n",
       "  'Sample Characteristic Ontology Term[sex]',\n",
       "  'Sample Characteristic[age]',\n",
       "  'Sample Characteristic Ontology Term[age]',\n",
       "  'Sample Characteristic[developmental stage]',\n",
       "  'Sample Characteristic Ontology Term[developmental stage]',\n",
       "  'Sample Characteristic[disease]',\n",
       "  'Sample Characteristic Ontology Term[disease]',\n",
       "  'Sample Characteristic[organism part]',\n",
       "  'Sample Characteristic Ontology Term[organism part]',\n",
       "  'Sample Characteristic[clinical information]',\n",
       "  'Sample Characteristic Ontology Term[clinical information]',\n",
       "  'Factor Value[sex]',\n",
       "  'Factor Value Ontology Term[sex]',\n",
       "  'Factor Value[inferred cell type - ontology labels]',\n",
       "  'Factor Value Ontology Term[inferred cell type - ontology labels]',\n",
       "  'Factor Value[inferred cell type - authors labels]',\n",
       "  'Factor Value Ontology Term[inferred cell type - authors labels]'],\n",
       " 'Liver': ['Assay',\n",
       "  'Sample Characteristic[organism]',\n",
       "  'Sample Characteristic Ontology Term[organism]',\n",
       "  'Sample Characteristic[individual]',\n",
       "  'Sample Characteristic Ontology Term[individual]',\n",
       "  'Sample Characteristic[sex]',\n",
       "  'Sample Characteristic Ontology Term[sex]',\n",
       "  'Sample Characteristic[age]',\n",
       "  'Sample Characteristic Ontology Term[age]',\n",
       "  'Sample Characteristic[developmental stage]',\n",
       "  'Sample Characteristic Ontology Term[developmental stage]',\n",
       "  'Sample Characteristic[disease]',\n",
       "  'Sample Characteristic Ontology Term[disease]',\n",
       "  'Sample Characteristic[organism part]',\n",
       "  'Sample Characteristic Ontology Term[organism part]',\n",
       "  'Sample Characteristic[cell type]',\n",
       "  'Sample Characteristic Ontology Term[cell type]',\n",
       "  'Factor Value[cell type]',\n",
       "  'Factor Value Ontology Term[cell type]',\n",
       "  'Factor Value[inferred cell type - ontology labels]',\n",
       "  'Factor Value Ontology Term[inferred cell type - ontology labels]',\n",
       "  'Factor Value[inferred cell type - authors labels]',\n",
       "  'Factor Value Ontology Term[inferred cell type - authors labels]'],\n",
       " 'Lung': ['Assay',\n",
       "  'Sample Characteristic[organism]',\n",
       "  'Sample Characteristic Ontology Term[organism]',\n",
       "  'Sample Characteristic[individual]',\n",
       "  'Sample Characteristic Ontology Term[individual]',\n",
       "  'Sample Characteristic[age]',\n",
       "  'Sample Characteristic Ontology Term[age]',\n",
       "  'Sample Characteristic[sex]',\n",
       "  'Sample Characteristic Ontology Term[sex]',\n",
       "  'Sample Characteristic[organism part]',\n",
       "  'Sample Characteristic Ontology Term[organism part]',\n",
       "  'Sample Characteristic[sampling site]',\n",
       "  'Sample Characteristic Ontology Term[sampling site]',\n",
       "  'Sample Characteristic[disease]',\n",
       "  'Sample Characteristic Ontology Term[disease]',\n",
       "  'Sample Characteristic[disease staging]',\n",
       "  'Sample Characteristic Ontology Term[disease staging]',\n",
       "  'Sample Characteristic[clinical information]',\n",
       "  'Sample Characteristic Ontology Term[clinical information]',\n",
       "  'Factor Value[sampling site]',\n",
       "  'Factor Value Ontology Term[sampling site]',\n",
       "  'Factor Value[disease]',\n",
       "  'Factor Value Ontology Term[disease]',\n",
       "  'Factor Value[clinical information]',\n",
       "  'Factor Value Ontology Term[clinical information]',\n",
       "  'Factor Value[inferred cell type - ontology labels]',\n",
       "  'Factor Value Ontology Term[inferred cell type - ontology labels]'],\n",
       " 'Pancreas': ['Assay',\n",
       "  'Sample Characteristic[organism]',\n",
       "  'Sample Characteristic Ontology Term[organism]',\n",
       "  'Sample Characteristic[individual]',\n",
       "  'Sample Characteristic Ontology Term[individual]',\n",
       "  'Sample Characteristic[sex]',\n",
       "  'Sample Characteristic Ontology Term[sex]',\n",
       "  'Sample Characteristic[age]',\n",
       "  'Sample Characteristic Ontology Term[age]',\n",
       "  'Sample Characteristic[body mass index]',\n",
       "  'Sample Characteristic Ontology Term[body mass index]',\n",
       "  'Sample Characteristic[organism status]',\n",
       "  'Sample Characteristic Ontology Term[organism status]',\n",
       "  'Sample Characteristic[clinical information]',\n",
       "  'Sample Characteristic Ontology Term[clinical information]',\n",
       "  'Sample Characteristic[organism part]',\n",
       "  'Sample Characteristic Ontology Term[organism part]',\n",
       "  'Sample Characteristic[cell type]',\n",
       "  'Sample Characteristic Ontology Term[cell type]',\n",
       "  'Sample Characteristic[disease]',\n",
       "  'Sample Characteristic Ontology Term[disease]',\n",
       "  'Sample Characteristic[biosource provider]',\n",
       "  'Sample Characteristic Ontology Term[biosource provider]',\n",
       "  'Sample Characteristic[single cell quality]',\n",
       "  'Sample Characteristic Ontology Term[single cell quality]',\n",
       "  'Sample Characteristic[submitted single cell quality]',\n",
       "  'Sample Characteristic Ontology Term[submitted single cell quality]',\n",
       "  'Factor Value[single cell identifier]',\n",
       "  'Factor Value Ontology Term[single cell identifier]',\n",
       "  'Factor Value[disease]',\n",
       "  'Factor Value Ontology Term[disease]',\n",
       "  'Factor Value[inferred cell type - ontology labels]',\n",
       "  'Factor Value Ontology Term[inferred cell type - ontology labels]',\n",
       "  'Factor Value[inferred cell type - authors labels]',\n",
       "  'Factor Value Ontology Term[inferred cell type - authors labels]']}"
      ]
     },
     "execution_count": 30,
     "metadata": {},
     "output_type": "execute_result"
    }
   ],
   "source": [
    "# Inspect column names in each file\n",
    "file_columns = {}\n",
    "for organ, file_path in file_paths.items():  # Corrected iteration\n",
    "    try:\n",
    "        df = pd.read_csv(file_path, sep=\"\\t\", nrows=5)  # Read only first few rows for inspection\n",
    "        file_columns[organ] = df.columns.tolist()  # Store column names under organ key\n",
    "    except Exception as e:\n",
    "        file_columns[organ] = f\"Error reading file: {e}\"\n",
    "\n",
    "# Display the column names for inspection\n",
    "file_columns"
   ]
  },
  {
   "cell_type": "code",
   "execution_count": 31,
   "id": "af042637-6b1d-43a4-8c93-255ecbb82c16",
   "metadata": {},
   "outputs": [
    {
     "data": {
      "text/plain": [
       "[                               assay      organism     donor  \\\n",
       " 0      SAMN15040593-AAACCTGAGGACATTA  Homo sapiens  Healthy5   \n",
       " 1      SAMN15040593-AAACCTGCAGCTCGAC  Homo sapiens  Healthy5   \n",
       " 2      SAMN15040593-AAACCTGCAGTATAAG  Homo sapiens  Healthy5   \n",
       " 3      SAMN15040593-AAACCTGCATGCCTAA  Homo sapiens  Healthy5   \n",
       " 4      SAMN15040593-AAACCTGGTATAGTAG  Homo sapiens  Healthy5   \n",
       " ...                              ...           ...       ...   \n",
       " 30584  SAMN15040597-TTTGTCATCACAGGCC  Homo sapiens  Healthy1   \n",
       " 30585  SAMN15040597-TTTGTCATCACCAGGC  Homo sapiens  Healthy1   \n",
       " 30586  SAMN15040597-TTTGTCATCACCGTAA  Homo sapiens  Healthy1   \n",
       " 30587  SAMN15040597-TTTGTCATCCTACAGA  Homo sapiens  Healthy1   \n",
       " 30588  SAMN15040597-TTTGTCATCGGCGCTA  Homo sapiens  Healthy1   \n",
       " \n",
       "                as_label                                          as_id  \\\n",
       " 0      cortex of kidney  http://purl.obolibrary.org/obo/UBERON_0001225   \n",
       " 1      cortex of kidney  http://purl.obolibrary.org/obo/UBERON_0001225   \n",
       " 2      cortex of kidney  http://purl.obolibrary.org/obo/UBERON_0001225   \n",
       " 3      cortex of kidney  http://purl.obolibrary.org/obo/UBERON_0001225   \n",
       " 4      cortex of kidney  http://purl.obolibrary.org/obo/UBERON_0001225   \n",
       " ...                 ...                                            ...   \n",
       " 30584  cortex of kidney  http://purl.obolibrary.org/obo/UBERON_0001225   \n",
       " 30585  cortex of kidney  http://purl.obolibrary.org/obo/UBERON_0001225   \n",
       " 30586  cortex of kidney  http://purl.obolibrary.org/obo/UBERON_0001225   \n",
       " 30587  cortex of kidney  http://purl.obolibrary.org/obo/UBERON_0001225   \n",
       " 30588  cortex of kidney  http://purl.obolibrary.org/obo/UBERON_0001225   \n",
       " \n",
       "           sex ethnicity      age disease     cell_id  \\\n",
       " 0      female  European  52 year  normal  CL:1001106   \n",
       " 1      female  European  52 year  normal         nan   \n",
       " 2      female  European  52 year  normal         nan   \n",
       " 3      female  European  52 year  normal         nan   \n",
       " 4      female  European  52 year  normal         nan   \n",
       " ...       ...       ...      ...     ...         ...   \n",
       " 30584    male  European  54 year  normal         nan   \n",
       " 30585    male  European  54 year  normal         nan   \n",
       " 30586    male  European  54 year  normal  CL:1000768   \n",
       " 30587    male  European  54 year  normal  CL:1000849   \n",
       " 30588    male  European  54 year  normal  CL:1000849   \n",
       " \n",
       "                                                cell_type  \\\n",
       " 0      kidney loop of Henle thick ascending limb epit...   \n",
       " 1                                                    NaN   \n",
       " 2                                                    NaN   \n",
       " 3                                                    NaN   \n",
       " 4                                                    NaN   \n",
       " ...                                                  ...   \n",
       " 30584                                                NaN   \n",
       " 30585                                                NaN   \n",
       " 30586           kidney connecting tubule epithelial cell   \n",
       " 30587    kidney distal convoluted tubule epithelial cell   \n",
       " 30588    kidney distal convoluted tubule epithelial cell   \n",
       " \n",
       "                     source_file   organ  \n",
       " 0      ExpDesign-E-CURD-119.tsv  Kidney  \n",
       " 1      ExpDesign-E-CURD-119.tsv  Kidney  \n",
       " 2      ExpDesign-E-CURD-119.tsv  Kidney  \n",
       " 3      ExpDesign-E-CURD-119.tsv  Kidney  \n",
       " 4      ExpDesign-E-CURD-119.tsv  Kidney  \n",
       " ...                         ...     ...  \n",
       " 30584  ExpDesign-E-CURD-119.tsv  Kidney  \n",
       " 30585  ExpDesign-E-CURD-119.tsv  Kidney  \n",
       " 30586  ExpDesign-E-CURD-119.tsv  Kidney  \n",
       " 30587  ExpDesign-E-CURD-119.tsv  Kidney  \n",
       " 30588  ExpDesign-E-CURD-119.tsv  Kidney  \n",
       " \n",
       " [30589 rows x 13 columns],\n",
       "                                 assay      organism   donor as_label  \\\n",
       " 0      SAMEA11294524-AAAACTCGTCCGAAGA  Homo sapiens  donor1    liver   \n",
       " 1      SAMEA11294524-AAACCTGAGTCTCCTC  Homo sapiens  donor1    liver   \n",
       " 2      SAMEA11294524-AAACCTGCAATGTAAG  Homo sapiens  donor1    liver   \n",
       " 3      SAMEA11294524-AAACCTGCACCGATAT  Homo sapiens  donor1    liver   \n",
       " 4      SAMEA11294524-AAACCTGCAGTAAGCG  Homo sapiens  donor1    liver   \n",
       " ...                               ...           ...     ...      ...   \n",
       " 17118  SAMEA11294531-TTTGGTTCACGGTTTA  Homo sapiens  donor6    liver   \n",
       " 17119  SAMEA11294531-TTTGGTTGTGACGCCT  Homo sapiens  donor6    liver   \n",
       " 17120  SAMEA11294531-TTTGGTTTCCAAATGC  Homo sapiens  donor6    liver   \n",
       " 17121  SAMEA11294531-TTTGTCAAGATCTGCT  Homo sapiens  donor6    liver   \n",
       " 17122  SAMEA11294531-TTTGTCAAGCTAGTCT  Homo sapiens  donor6    liver   \n",
       " \n",
       "                                                as_id     sex      age disease  \\\n",
       " 0      http://purl.obolibrary.org/obo/UBERON_0002107    male  84 year  normal   \n",
       " 1      http://purl.obolibrary.org/obo/UBERON_0002107    male  84 year  normal   \n",
       " 2      http://purl.obolibrary.org/obo/UBERON_0002107    male  84 year  normal   \n",
       " 3      http://purl.obolibrary.org/obo/UBERON_0002107    male  84 year  normal   \n",
       " 4      http://purl.obolibrary.org/obo/UBERON_0002107    male  84 year  normal   \n",
       " ...                                              ...     ...      ...     ...   \n",
       " 17118  http://purl.obolibrary.org/obo/UBERON_0002107  female  46 year  normal   \n",
       " 17119  http://purl.obolibrary.org/obo/UBERON_0002107  female  46 year  normal   \n",
       " 17120  http://purl.obolibrary.org/obo/UBERON_0002107  female  46 year  normal   \n",
       " 17121  http://purl.obolibrary.org/obo/UBERON_0002107  female  46 year  normal   \n",
       " 17122  http://purl.obolibrary.org/obo/UBERON_0002107  female  46 year  normal   \n",
       " \n",
       "           cell_id     cell_type                 source_file  organ  \n",
       " 0             nan           NaN  ExpDesign-E-MTAB-10553.tsv  Liver  \n",
       " 1      CL:0000182    hepatocyte  ExpDesign-E-MTAB-10553.tsv  Liver  \n",
       " 2      CL:0000235    macrophage  ExpDesign-E-MTAB-10553.tsv  Liver  \n",
       " 3      CL:0000084        T cell  ExpDesign-E-MTAB-10553.tsv  Liver  \n",
       " 4             nan           NaN  ExpDesign-E-MTAB-10553.tsv  Liver  \n",
       " ...           ...           ...                         ...    ...  \n",
       " 17118  CL:0000084        T cell  ExpDesign-E-MTAB-10553.tsv  Liver  \n",
       " 17119         nan           NaN  ExpDesign-E-MTAB-10553.tsv  Liver  \n",
       " 17120  CL:0000235    macrophage  ExpDesign-E-MTAB-10553.tsv  Liver  \n",
       " 17121  CL:0000091  Kupffer cell  ExpDesign-E-MTAB-10553.tsv  Liver  \n",
       " 17122  CL:0000236        B cell  ExpDesign-E-MTAB-10553.tsv  Liver  \n",
       " \n",
       " [17123 rows x 12 columns],\n",
       "                         assay      organism    donor         as_label  \\\n",
       " 0     SRR8942433-AAAACGAATTCT  Homo sapiens  muc3843  lung parenchyma   \n",
       " 1     SRR8942433-AAAATAATCTGT  Homo sapiens  muc3843  lung parenchyma   \n",
       " 2     SRR8942433-AAAGACTGTCAA  Homo sapiens  muc3843  lung parenchyma   \n",
       " 3     SRR8942433-AAAGCGGATCGC  Homo sapiens  muc3843  lung parenchyma   \n",
       " 4     SRR8942433-AAAGGGCGATGG  Homo sapiens  muc3843  lung parenchyma   \n",
       " ...                       ...           ...      ...              ...   \n",
       " 3561  SRR8942436-TTTTAGCGCTCA  Homo sapiens  muc5104  lung parenchyma   \n",
       " 3562  SRR8942436-TTTTCTACCCTA  Homo sapiens  muc5104  lung parenchyma   \n",
       " 3563  SRR8942436-TTTTGTAATATA  Homo sapiens  muc5104  lung parenchyma   \n",
       " 3564  SRR8942436-TTTTTCGCGCGG  Homo sapiens  muc5104  lung parenchyma   \n",
       " 3565  SRR8942436-TTTTTGGAGCCC  Homo sapiens  muc5104  lung parenchyma   \n",
       " \n",
       "                                               as_id   sex      age  \\\n",
       " 0     http://purl.obolibrary.org/obo/UBERON_0008946  male  62 year   \n",
       " 1     http://purl.obolibrary.org/obo/UBERON_0008946  male  62 year   \n",
       " 2     http://purl.obolibrary.org/obo/UBERON_0008946  male  62 year   \n",
       " 3     http://purl.obolibrary.org/obo/UBERON_0008946  male  62 year   \n",
       " 4     http://purl.obolibrary.org/obo/UBERON_0008946  male  62 year   \n",
       " ...                                             ...   ...      ...   \n",
       " 3561  http://purl.obolibrary.org/obo/UBERON_0008946  male  69 year   \n",
       " 3562  http://purl.obolibrary.org/obo/UBERON_0008946  male  69 year   \n",
       " 3563  http://purl.obolibrary.org/obo/UBERON_0008946  male  69 year   \n",
       " 3564  http://purl.obolibrary.org/obo/UBERON_0008946  male  69 year   \n",
       " 3565  http://purl.obolibrary.org/obo/UBERON_0008946  male  69 year   \n",
       " \n",
       "                                     disease     cell_id            cell_type  \\\n",
       " 0     chronic obstructive pulmonary disease  CL:1001603      lung macrophage   \n",
       " 1     chronic obstructive pulmonary disease  CL:0002063   type II pneumocyte   \n",
       " 2     chronic obstructive pulmonary disease  CL:0002063   type II pneumocyte   \n",
       " 3     chronic obstructive pulmonary disease  CL:1001603      lung macrophage   \n",
       " 4     chronic obstructive pulmonary disease  CL:1001603      lung macrophage   \n",
       " ...                                     ...         ...                  ...   \n",
       " 3561                                 normal  CL:0000236               B cell   \n",
       " 3562                                 normal  CL:0000623  natural killer cell   \n",
       " 3563                                 normal  CL:0000084               T cell   \n",
       " 3564                                 normal  CL:0000236               B cell   \n",
       " 3565                                 normal  CL:0000097            mast cell   \n",
       " \n",
       "                       source_file organ  \n",
       " 0     ExpDesign-E-GEOD-130148.tsv  Lung  \n",
       " 1     ExpDesign-E-GEOD-130148.tsv  Lung  \n",
       " 2     ExpDesign-E-GEOD-130148.tsv  Lung  \n",
       " 3     ExpDesign-E-GEOD-130148.tsv  Lung  \n",
       " 4     ExpDesign-E-GEOD-130148.tsv  Lung  \n",
       " ...                           ...   ...  \n",
       " 3561  ExpDesign-E-GEOD-130148.tsv  Lung  \n",
       " 3562  ExpDesign-E-GEOD-130148.tsv  Lung  \n",
       " 3563  ExpDesign-E-GEOD-130148.tsv  Lung  \n",
       " 3564  ExpDesign-E-GEOD-130148.tsv  Lung  \n",
       " 3565  ExpDesign-E-GEOD-130148.tsv  Lung  \n",
       " \n",
       " [3566 rows x 12 columns],\n",
       "            assay      organism donor  as_label  \\\n",
       " 0     ERR1630013  Homo sapiens    H1  pancreas   \n",
       " 1     ERR1630014  Homo sapiens    H1  pancreas   \n",
       " 2     ERR1630015  Homo sapiens    H1  pancreas   \n",
       " 3     ERR1630016  Homo sapiens    H1  pancreas   \n",
       " 4     ERR1630017  Homo sapiens    H1  pancreas   \n",
       " ...          ...           ...   ...       ...   \n",
       " 3509  ERR1633522  Homo sapiens  T2D4  pancreas   \n",
       " 3510  ERR1633523  Homo sapiens  T2D4  pancreas   \n",
       " 3511  ERR1633524  Homo sapiens  T2D4  pancreas   \n",
       " 3512  ERR1633525  Homo sapiens  T2D4  pancreas   \n",
       " 3513  ERR1633526  Homo sapiens  T2D4  pancreas   \n",
       " \n",
       "                                               as_id     sex      age  \\\n",
       " 0     http://purl.obolibrary.org/obo/UBERON_0001264    male  43 year   \n",
       " 1     http://purl.obolibrary.org/obo/UBERON_0001264    male  43 year   \n",
       " 2     http://purl.obolibrary.org/obo/UBERON_0001264    male  43 year   \n",
       " 3     http://purl.obolibrary.org/obo/UBERON_0001264    male  43 year   \n",
       " 4     http://purl.obolibrary.org/obo/UBERON_0001264    male  43 year   \n",
       " ...                                             ...     ...      ...   \n",
       " 3509  http://purl.obolibrary.org/obo/UBERON_0001264  female  55 year   \n",
       " 3510  http://purl.obolibrary.org/obo/UBERON_0001264  female  55 year   \n",
       " 3511  http://purl.obolibrary.org/obo/UBERON_0001264  female  55 year   \n",
       " 3512  http://purl.obolibrary.org/obo/UBERON_0001264  female  55 year   \n",
       " 3513  http://purl.obolibrary.org/obo/UBERON_0001264  female  55 year   \n",
       " \n",
       "                                  bmi                    disease     cell_id  \\\n",
       " 0     30.8 kilogram per square meter                     normal         nan   \n",
       " 1     30.8 kilogram per square meter                     normal  CL:0000173   \n",
       " 2     30.8 kilogram per square meter                     normal  CL:0000171   \n",
       " 3     30.8 kilogram per square meter                     normal  CL:0000173   \n",
       " 4     30.8 kilogram per square meter                     normal  CL:0002275   \n",
       " ...                              ...                        ...         ...   \n",
       " 3509  29.8 kilogram per square meter  type II diabetes mellitus         nan   \n",
       " 3510  29.8 kilogram per square meter  type II diabetes mellitus         nan   \n",
       " 3511  29.8 kilogram per square meter  type II diabetes mellitus  CL:0000169   \n",
       " 3512  29.8 kilogram per square meter  type II diabetes mellitus         nan   \n",
       " 3513  29.8 kilogram per square meter  type II diabetes mellitus  CL:0000169   \n",
       " \n",
       "                    cell_type                source_file     organ  \n",
       " 0                        NaN  ExpDesign-E-MTAB-5061.tsv  Pancreas  \n",
       " 1          pancreatic D cell  ExpDesign-E-MTAB-5061.tsv  Pancreas  \n",
       " 2          pancreatic A cell  ExpDesign-E-MTAB-5061.tsv  Pancreas  \n",
       " 3          pancreatic D cell  ExpDesign-E-MTAB-5061.tsv  Pancreas  \n",
       " 4         pancreatic PP cell  ExpDesign-E-MTAB-5061.tsv  Pancreas  \n",
       " ...                      ...                        ...       ...  \n",
       " 3509                     NaN  ExpDesign-E-MTAB-5061.tsv  Pancreas  \n",
       " 3510                     NaN  ExpDesign-E-MTAB-5061.tsv  Pancreas  \n",
       " 3511  type B pancreatic cell  ExpDesign-E-MTAB-5061.tsv  Pancreas  \n",
       " 3512                     NaN  ExpDesign-E-MTAB-5061.tsv  Pancreas  \n",
       " 3513  type B pancreatic cell  ExpDesign-E-MTAB-5061.tsv  Pancreas  \n",
       " \n",
       " [3514 rows x 13 columns]]"
      ]
     },
     "execution_count": 31,
     "metadata": {},
     "output_type": "execute_result"
    }
   ],
   "source": [
    "# Updated mapping of columns to extract\n",
    "column_mapping = {\n",
    "    \"assay\": \"Assay\",\n",
    "    \"organism\": \"Sample Characteristic[organism]\",\n",
    "    \"donor\": \"Sample Characteristic[individual]\",\n",
    "    \"as_label\": \"Sample Characteristic[organism part]\",\n",
    "    \"as_id\": \"Sample Characteristic Ontology Term[organism part]\",\n",
    "    \"sex\": \"Sample Characteristic[sex]\",\n",
    "    \"ethnicity\": \"Sample Characteristic[ethnic group]\",\n",
    "    \"age\": \"Sample Characteristic[age]\",\n",
    "    \"bmi\": \"Sample Characteristic[body mass index]\", \n",
    "    \"disease\": \"Sample Characteristic[disease]\",\n",
    "    \"cell_id\": \"Factor Value Ontology Term[inferred cell type - ontology labels]\",\n",
    "    \"cell_type\": [\n",
    "        \"Factor Value[inferred cell type - ontology labels]\",\n",
    "        \"Factor Value[cell type]\"\n",
    "    ]  \n",
    "}\n",
    "\n",
    "# Read and extract relevant columns\n",
    "dataframes = []\n",
    "for organ, file_path in file_paths.items():  # Include organ name in iteration\n",
    "    try:\n",
    "        df = pd.read_csv(file_path, sep=\"\\t\", low_memory=False)\n",
    "        \n",
    "        # Select available columns based on mapping\n",
    "        selected_columns = {key: col for key, col in column_mapping.items() if isinstance(col, str) and col in df.columns}\n",
    "        \n",
    "        # Handle cell type separately (use the first available column)\n",
    "        cell_type_col = next((col for col in column_mapping[\"cell_type\"] if col in df.columns), None)\n",
    "        if cell_type_col:\n",
    "            selected_columns[\"cell_type\"] = cell_type_col\n",
    "\n",
    "        # Check if cell_id column exists and process it correctly\n",
    "        if \"cell_id\" in selected_columns and selected_columns[\"cell_id\"] in df.columns:\n",
    "            df[\"cell_id\"] = df[selected_columns[\"cell_id\"]].astype(str).apply(lambda x: x.split('/')[-1].replace('_', ':') if pd.notna(x) else x)\n",
    "            selected_columns[\"cell_id\"] = \"cell_id\"  # Update to processed column\n",
    "\n",
    "        if selected_columns:\n",
    "            extracted_df = df[list(selected_columns.values())].copy()\n",
    "            extracted_df = extracted_df.rename(columns={v: k for k, v in selected_columns.items()})\n",
    "            \n",
    "            # Add source file and organ columns\n",
    "            extracted_df[\"source_file\"] = file_path.split(\"/\")[-1]\n",
    "            extracted_df[\"organ\"] = organ  # Assign organ name\n",
    "\n",
    "            # Reset index to avoid conflicts\n",
    "            extracted_df = extracted_df.reset_index(drop=True)\n",
    "\n",
    "            dataframes.append(extracted_df)\n",
    "    except Exception as e:\n",
    "        print(f\"Error processing {file_path}: {e}\")\n",
    "\n",
    "dataframes\n"
   ]
  },
  {
   "cell_type": "code",
   "execution_count": 32,
   "id": "2e4f74cc-0404-4d24-8e31-f591d0c4fd32",
   "metadata": {},
   "outputs": [],
   "source": [
    "# Verify and standardize column names before merging\n",
    "standard_columns = set()\n",
    "\n",
    "# Collect all unique column names across all extracted DataFrames\n",
    "for df in dataframes:\n",
    "    standard_columns.update(df.columns)\n",
    "\n",
    "# Ensure all DataFrames have the same columns\n",
    "for i in range(len(dataframes)):\n",
    "    for col in standard_columns:\n",
    "        if col not in dataframes[i].columns:\n",
    "            dataframes[i][col] = None  \n",
    "    dataframes[i] = dataframes[i][sorted(standard_columns)]  "
   ]
  },
  {
   "cell_type": "code",
   "execution_count": 33,
   "id": "4788cd2c-9583-41fa-8ecc-cbb7e30301cf",
   "metadata": {},
   "outputs": [
    {
     "name": "stdout",
     "output_type": "stream",
     "text": [
      "       age                                          as_id          as_label  \\\n",
      "0  52 year  http://purl.obolibrary.org/obo/UBERON_0001225  cortex of kidney   \n",
      "1  52 year  http://purl.obolibrary.org/obo/UBERON_0001225  cortex of kidney   \n",
      "2  52 year  http://purl.obolibrary.org/obo/UBERON_0001225  cortex of kidney   \n",
      "3  52 year  http://purl.obolibrary.org/obo/UBERON_0001225  cortex of kidney   \n",
      "4  52 year  http://purl.obolibrary.org/obo/UBERON_0001225  cortex of kidney   \n",
      "\n",
      "                           assay   bmi     cell_id  \\\n",
      "0  SAMN15040593-AAACCTGAGGACATTA  None  CL:1001106   \n",
      "1  SAMN15040593-AAACCTGCAGCTCGAC  None         nan   \n",
      "2  SAMN15040593-AAACCTGCAGTATAAG  None         nan   \n",
      "3  SAMN15040593-AAACCTGCATGCCTAA  None         nan   \n",
      "4  SAMN15040593-AAACCTGGTATAGTAG  None         nan   \n",
      "\n",
      "                                           cell_type disease     donor  \\\n",
      "0  kidney loop of Henle thick ascending limb epit...  normal  Healthy5   \n",
      "1                                                NaN  normal  Healthy5   \n",
      "2                                                NaN  normal  Healthy5   \n",
      "3                                                NaN  normal  Healthy5   \n",
      "4                                                NaN  normal  Healthy5   \n",
      "\n",
      "  ethnicity   organ      organism     sex               source_file  \n",
      "0  European  Kidney  Homo sapiens  female  ExpDesign-E-CURD-119.tsv  \n",
      "1  European  Kidney  Homo sapiens  female  ExpDesign-E-CURD-119.tsv  \n",
      "2  European  Kidney  Homo sapiens  female  ExpDesign-E-CURD-119.tsv  \n",
      "3  European  Kidney  Homo sapiens  female  ExpDesign-E-CURD-119.tsv  \n",
      "4  European  Kidney  Homo sapiens  female  ExpDesign-E-CURD-119.tsv  \n"
     ]
    }
   ],
   "source": [
    "if dataframes:\n",
    "    combined_df = pd.concat(dataframes, ignore_index=True, sort=False)\n",
    "    print(combined_df.head())\n",
    "    combined_df.to_csv('../output/EBI-Anatomogram-metadata.csv', index=False)\n",
    "else:\n",
    "    print(\"No relevant data found in the provided files.\")"
   ]
  },
  {
   "cell_type": "code",
   "execution_count": 34,
   "id": "2abbf445-6b8e-40d3-a109-19dc7b63e158",
   "metadata": {},
   "outputs": [
    {
     "data": {
      "text/plain": [
       "Index(['age', 'as_id', 'as_label', 'assay', 'bmi', 'cell_id', 'cell_type',\n",
       "       'disease', 'donor', 'ethnicity', 'organ', 'organism', 'sex',\n",
       "       'source_file'],\n",
       "      dtype='object')"
      ]
     },
     "execution_count": 34,
     "metadata": {},
     "output_type": "execute_result"
    }
   ],
   "source": [
    "combined_df.columns"
   ]
  },
  {
   "cell_type": "code",
   "execution_count": 35,
   "id": "c0c03cee-8ca2-4a04-b9b3-4e9d0844303c",
   "metadata": {},
   "outputs": [],
   "source": [
    "combined_df['number_of_cells_total'] = combined_df.groupby('source_file')['cell_type'].transform('count')\n",
    "combined_df['number_of_unique_cell_types'] = combined_df.groupby('source_file')['cell_type'].transform('nunique')"
   ]
  },
  {
   "cell_type": "code",
   "execution_count": 36,
   "id": "31a652c3-2f38-4413-abf2-46157f4e0fef",
   "metadata": {},
   "outputs": [
    {
     "data": {
      "text/plain": [
       "array([19974, 15000,  3202,  2207])"
      ]
     },
     "execution_count": 36,
     "metadata": {},
     "output_type": "execute_result"
    }
   ],
   "source": [
    "combined_df['number_of_cells_total'].unique()"
   ]
  },
  {
   "cell_type": "code",
   "execution_count": 45,
   "id": "494dc4c3-c596-4918-930a-d0b2156c0d54",
   "metadata": {},
   "outputs": [
    {
     "name": "stdout",
     "output_type": "stream",
     "text": [
      "                   source_file  number_of_cells_total  \\\n",
      "0     ExpDesign-E-CURD-119.tsv                  19974   \n",
      "1  ExpDesign-E-GEOD-130148.tsv                   3202   \n",
      "2   ExpDesign-E-MTAB-10553.tsv                  15000   \n",
      "3    ExpDesign-E-MTAB-5061.tsv                   2207   \n",
      "\n",
      "   number_of_unique_cell_types  \n",
      "0                           13  \n",
      "1                           13  \n",
      "2                           13  \n",
      "3                           13  \n"
     ]
    }
   ],
   "source": [
    "source_file_summary = combined_df.groupby('source_file').agg(\n",
    "    number_of_cells_total=('cell_type', 'count'),\n",
    "    number_of_unique_cell_types=('cell_type', lambda x: x.nunique())\n",
    ").reset_index()\n",
    "\n",
    "print(source_file_summary)"
   ]
  },
  {
   "cell_type": "code",
   "execution_count": 38,
   "id": "2aeaf11c-0e34-4f1f-ba41-42aff478b58b",
   "metadata": {},
   "outputs": [
    {
     "data": {
      "text/plain": [
       "array(['kidney loop of Henle thick ascending limb epithelial cell', nan,\n",
       "       'parietal epithelial cell', 'kidney capillary endothelial cell',\n",
       "       'renal alpha-intercalated cell', 'fibroblast',\n",
       "       'kidney distal convoluted tubule epithelial cell',\n",
       "       'epithelial cell of proximal tubule',\n",
       "       'glomerular visceral epithelial cell',\n",
       "       'kidney connecting tubule epithelial cell', 'renal principal cell',\n",
       "       'renal beta-intercalated cell', 'mesangial cell', 'leukocyte'],\n",
       "      dtype=object)"
      ]
     },
     "execution_count": 38,
     "metadata": {},
     "output_type": "execute_result"
    }
   ],
   "source": [
    "combined_df[combined_df['organ'] == 'Kidney']['cell_type'].unique()"
   ]
  },
  {
   "cell_type": "code",
   "execution_count": 39,
   "id": "916d86e8-a687-4ea0-a3b8-f00fb2a8a95d",
   "metadata": {},
   "outputs": [
    {
     "data": {
      "text/plain": [
       "array(['lung macrophage', 'type II pneumocyte', 'T cell',\n",
       "       'type I pneumocyte', 'lung secretory cell', nan, 'mast cell',\n",
       "       'lung ciliated cell', 'natural killer cell',\n",
       "       'transformed epithelial cell', 'lymphocyte',\n",
       "       'lung endothelial cell', 'fibroblast of lung', 'B cell'],\n",
       "      dtype=object)"
      ]
     },
     "execution_count": 39,
     "metadata": {},
     "output_type": "execute_result"
    }
   ],
   "source": [
    "combined_df[combined_df['organ'] == 'Lung']['cell_type'].unique()"
   ]
  },
  {
   "cell_type": "code",
   "execution_count": 40,
   "id": "5f1e3ecb-51c1-485b-b046-9dc46ca126ec",
   "metadata": {},
   "outputs": [
    {
     "data": {
      "text/plain": [
       "array([nan, 'pancreatic D cell', 'pancreatic A cell',\n",
       "       'pancreatic PP cell', 'pancreatic ductal cell', 'acinar cell',\n",
       "       'type B pancreatic cell', 'pancreatic endocrine cell',\n",
       "       'co-expression cell', 'professional antigen presenting cell',\n",
       "       'pancreatic stellate cell', 'endothelial cell',\n",
       "       'pancreatic epsilon cell', 'mast cell'], dtype=object)"
      ]
     },
     "execution_count": 40,
     "metadata": {},
     "output_type": "execute_result"
    }
   ],
   "source": [
    "combined_df[combined_df['organ'] == 'Pancreas']['cell_type'].unique()"
   ]
  },
  {
   "cell_type": "code",
   "execution_count": 41,
   "id": "059a29f7-9fa7-4a4e-9235-2c76022dfe81",
   "metadata": {},
   "outputs": [
    {
     "data": {
      "text/plain": [
       "array([nan, 'hepatocyte', 'macrophage', 'T cell',\n",
       "       'endothelial cell of hepatic sinusoid', 'natural killer cell',\n",
       "       'cycling cell', 'plasma cell', 'B cell', 'cholangiocyte',\n",
       "       'Kupffer cell', 'endothelial cell of vascular tree',\n",
       "       'hematopoietic stem cell', 'mesothelial cell'], dtype=object)"
      ]
     },
     "execution_count": 41,
     "metadata": {},
     "output_type": "execute_result"
    }
   ],
   "source": [
    "combined_df[combined_df['organ'] == 'Liver']['cell_type'].unique()"
   ]
  },
  {
   "cell_type": "code",
   "execution_count": 42,
   "id": "579e5828-cc4a-42e6-ad70-66df76b9144e",
   "metadata": {},
   "outputs": [],
   "source": [
    "# Perform a left join on both conditions (organ and cell_id)\n",
    "merged_df = combined_df.merge(\n",
    "    ftu_df[['Organ', 'CT ID in CL', 'FTU Label in Uberon', 'FTU ID in Uberon']],\n",
    "    left_on=['organ', 'cell_id'],\n",
    "    right_on=['Organ', 'CT ID in CL'],\n",
    "    how='left'\n",
    ")\n",
    "\n",
    "# Drop redundant columns after merge\n",
    "merged_df.drop(columns=['Organ', 'CT ID in CL'], inplace=True)\n",
    "\n",
    "# Rename FTU columns for clarity\n",
    "merged_df.rename(columns={'FTU Label in Uberon': 'FTU_Label', 'FTU ID in Uberon': 'FTU_ID'}, inplace=True)"
   ]
  },
  {
   "cell_type": "code",
   "execution_count": 43,
   "id": "d90baeec-3ea9-4649-89f0-01304cbbd710",
   "metadata": {},
   "outputs": [],
   "source": [
    "filtered_df = merged_df.dropna(subset=['cell_id', 'FTU_Label'])"
   ]
  },
  {
   "cell_type": "code",
   "execution_count": 44,
   "id": "6c435e50-a559-4159-8edc-2d0c02b66a62",
   "metadata": {},
   "outputs": [],
   "source": [
    "filtered_df.to_csv('../output/EBI-Anatomogram-metadata.csv', index=False)"
   ]
  },
  {
   "cell_type": "code",
   "execution_count": null,
   "id": "0745654a-d88c-4533-81a1-99c204a60b2e",
   "metadata": {},
   "outputs": [],
   "source": []
  }
 ],
 "metadata": {
  "kernelspec": {
   "display_name": "iftuExplorer",
   "language": "python",
   "name": "iftuexplorer"
  },
  "language_info": {
   "codemirror_mode": {
    "name": "ipython",
    "version": 3
   },
   "file_extension": ".py",
   "mimetype": "text/x-python",
   "name": "python",
   "nbconvert_exporter": "python",
   "pygments_lexer": "ipython3",
   "version": "3.10.13"
  }
 },
 "nbformat": 4,
 "nbformat_minor": 5
}
