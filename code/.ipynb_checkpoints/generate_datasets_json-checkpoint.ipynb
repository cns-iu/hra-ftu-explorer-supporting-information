{
 "cells": [
  {
   "cell_type": "code",
   "execution_count": null,
   "id": "c66bfed1-b857-43cd-abca-c7a18d7ed88e",
   "metadata": {},
   "outputs": [],
   "source": [
    "import pandas as pd\n",
    "import json\n",
    "import modify_data"
   ]
  },
  {
   "cell_type": "code",
   "execution_count": null,
   "id": "9f1bef38-f7f6-4a14-9ca7-cbb32152d959",
   "metadata": {},
   "outputs": [],
   "source": [
    "summary_df = modify_data.generate_summary()\n",
    "genes_df = modify_data.generate_genes_info()\n",
    "fileName = modify_data.dataSource()\n",
    "organ = str(modify_data.dataSource()).split('/')[-2].split('_')[-1]\n"
   ]
  },
  {
   "cell_type": "code",
   "execution_count": null,
   "id": "2ea3fbaf-fe32-4e87-9e02-766976345d82",
   "metadata": {},
   "outputs": [],
   "source": [
    "# Initialize the JSON data structure\n",
    "data = {\n",
    "  \"@context\": [\n",
    "    \"https://cns-iu.github.io/hra-cell-type-populations-supporting-information/data-processor/ccf-context.jsonld\",\n",
    "    {\n",
    "      \"UBERON\": {\n",
    "        \"@id\": \"http://purl.obolibrary.org/obo/UBERON_\",\n",
    "        \"@prefix\": true\n",
    "      },\n",
    "      \"illustration_files\": {\n",
    "        \"@id\": \"ccf:has_illustration_file\",\n",
    "        \"@type\": \"@id\"\n",
    "      },\n",
    "      \"mapping\": {\n",
    "        \"@id\": \"ccf:has_illustration_node\",\n",
    "        \"@type\": \"@id\"\n",
    "      },\n",
    "      \"organ_id\": {\n",
    "        \"@id\": \"ccf:organ_id\",\n",
    "        \"@type\": \"@id\"\n",
    "      },\n",
    "      \"data_sources\": {\n",
    "        \"@id\": \"ccf:has_data_source\",\n",
    "        \"@type\": \"@id\"\n",
    "      }\n",
    "    }\n",
    "  ],\n",
    "  \"@graph\": [\n",
    "    {\n",
    "      \"@type\": \"CellSummary\",\n",
    "      \"cell_source\": modify_data.dataSource(),  # Corrected to call the function\n",
    "      \"annotation_method\": \"Aggregation\",\n",
    "      \"biomarker_type\": \"gene\",\n",
    "      \"summary\": []\n",
    "        }\n",
    "    ]\n",
    "}\n"
   ]
  },
  {
   "cell_type": "code",
   "execution_count": null,
   "id": "fa946dc1-8f1d-49f5-9951-d43cce70634a",
   "metadata": {},
   "outputs": [],
   "source": [
    "# Create a dictionary to store cell-label-to-genes mapping\n",
    "cell_label_to_genes = {}\n",
    "\n",
    "# Iterate through rows in genes_df\n",
    "for _, genes_row in genes_df.iterrows():\n",
    "    cell_label = genes_row['cell_label']\n",
    "    gene_data = {\n",
    "        \"@type\": \"GeneExpression\",\n",
    "        \"ensembl_id\": genes_row['ensembl_id'],\n",
    "        \"gene_id\": genes_row['gene_id'],\n",
    "        \"gene_label\": genes_row['gene_label'],\n",
    "        \"mean_expression\": genes_row['mean_expression'],\n",
    "        \"p_fold\": genes_row['pfold_val']\n",
    "    }\n",
    "    \n",
    "    if cell_label in cell_label_to_genes:\n",
    "        cell_label_to_genes[cell_label].append(gene_data)\n",
    "    else:\n",
    "        cell_label_to_genes[cell_label] = [gene_data]\n",
    "\n",
    "# Iterate through rows in summary_df to create the JSON structure\n",
    "for _, summary_row in summary_df.iterrows():\n",
    "    cell_label = summary_row['cell_label']\n",
    "    \n",
    "    cell_summary = {\n",
    "        \"@type\": \"CellSummaryRow\",\n",
    "        \"cell_id\": summary_row['cell_id'],\n",
    "        \"cell_label\": cell_label,\n",
    "        \"genes\": cell_label_to_genes.get(cell_label, []),\n",
    "        \"count\": summary_row['count'],\n",
    "        \"percentage\": summary_row['percentage']\n",
    "    }\n",
    "    \n",
    "    data[\"@graph\"][0][\"summary\"].append(cell_summary)\n",
    "\n"
   ]
  },
  {
   "cell_type": "code",
   "execution_count": null,
   "id": "344f3a0f-aa96-449b-af22-bbf6bcf2d10b",
   "metadata": {},
   "outputs": [],
   "source": [
    "# Corrected the way to include the organ variable in the filename\n",
    "with open(f'{organ}.json', 'w') as json_file:\n",
    "    json.dump(data, json_file, indent=4)\n",
    "\n",
    "print(f\"JSON file {organ}.json has been created.\")"
   ]
  }
 ],
 "metadata": {
  "kernelspec": {
   "display_name": "Python 3 (ipykernel)",
   "language": "python",
   "name": "python3"
  },
  "language_info": {
   "codemirror_mode": {
    "name": "ipython",
    "version": 3
   },
   "file_extension": ".py",
   "mimetype": "text/x-python",
   "name": "python",
   "nbconvert_exporter": "python",
   "pygments_lexer": "ipython3",
   "version": "3.10.13"
  }
 },
 "nbformat": 4,
 "nbformat_minor": 5
}
