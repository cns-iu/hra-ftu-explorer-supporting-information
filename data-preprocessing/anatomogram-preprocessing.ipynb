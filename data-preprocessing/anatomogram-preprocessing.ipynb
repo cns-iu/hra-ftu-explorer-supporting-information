{
 "cells": [
  {
   "cell_type": "markdown",
   "id": "dc3126fa",
   "metadata": {},
   "source": [
    "## Download and preprocess anatomogram data from the EMBL-EBI"
   ]
  },
  {
   "cell_type": "markdown",
   "id": "e36091f8",
   "metadata": {},
   "source": [
    "Download links:\n",
    "1. Kidney: https://www.ebi.ac.uk/gxa/sc/experiment/E-CURD-119/download/zip?fileType=normalised\n",
    "2. Liver: https://www.ebi.ac.uk/gxa/sc/experiment/E-MTAB-10553/download/zip?fileType=normalised\n",
    "3. Lung: https://www.ebi.ac.uk/gxa/sc/experiment/E-GEOD-130148/download/zip?fileType=normalised\n",
    "4. Pancreas : https://www.ebi.ac.uk/gxa/sc/experiment/E-MTAB-5061/download/zip?fileType=normalised\n",
    "\n",
    "Experimental design files:\n",
    "1. Kidney: https://www.ebi.ac.uk/gxa/sc/experiment/E-CURD-119/download?fileType=experiment-design\n",
    "2. Liver: https://www.ebi.ac.uk/gxa/sc/experiment/E-MTAB-10553/download?fileType=experiment-design\n",
    "3. Lung: https://www.ebi.ac.uk/gxa/sc/experiment/E-GEOD-130148/download?fileType=experiment-design\n",
    "4. Pancreas : https://www.ebi.ac.uk/gxa/sc/experiment/E-MTAB-5061/download?fileType=experiment-design\n",
    "\n",
    "SCEA websites: \n",
    "1. Kidney: https://www.ebi.ac.uk/gxa/sc/experiments/E-CURD-119/downloads\n",
    "2. Liver: https://www.ebi.ac.uk/gxa/sc/experiments/E-MTAB-10553/downloads\n",
    "3. Lung: https://www.ebi.ac.uk/gxa/sc/experiments/E-GEOD-130148/downloads\n",
    "4. Pancreas : https://www.ebi.ac.uk/gxa/sc/experiments/E-MTAB-5061/downloads"
   ]
  },
  {
   "cell_type": "markdown",
   "id": "f997ad26",
   "metadata": {},
   "source": [
    "## Install and import libraries"
   ]
  },
  {
   "cell_type": "code",
   "execution_count": 15,
   "id": "1fcd8d90",
   "metadata": {},
   "outputs": [
    {
     "name": "stdout",
     "output_type": "stream",
     "text": [
      "Requirement already satisfied: numpy in c:\\users\\abueckle\\documents\\github\\hra-ftu-explorer-supporting-information\\.venv\\lib\\site-packages (2.2.3)\n",
      "Requirement already satisfied: pandas in c:\\users\\abueckle\\documents\\github\\hra-ftu-explorer-supporting-information\\.venv\\lib\\site-packages (2.2.3)\n",
      "Requirement already satisfied: scanpy in c:\\users\\abueckle\\documents\\github\\hra-ftu-explorer-supporting-information\\.venv\\lib\\site-packages (1.11.4)\n",
      "Requirement already satisfied: anndata in c:\\users\\abueckle\\documents\\github\\hra-ftu-explorer-supporting-information\\.venv\\lib\\site-packages (0.12.2)\n",
      "Requirement already satisfied: mygene in c:\\users\\abueckle\\documents\\github\\hra-ftu-explorer-supporting-information\\.venv\\lib\\site-packages (3.2.2)\n",
      "Requirement already satisfied: ipywidgets in c:\\users\\abueckle\\documents\\github\\hra-ftu-explorer-supporting-information\\.venv\\lib\\site-packages (8.1.7)\n",
      "Requirement already satisfied: hra_jupyter_widgets in c:\\users\\abueckle\\documents\\github\\hra-ftu-explorer-supporting-information\\.venv\\lib\\site-packages (0.4.1)\n",
      "Requirement already satisfied: python-dateutil>=2.8.2 in c:\\users\\abueckle\\documents\\github\\hra-ftu-explorer-supporting-information\\.venv\\lib\\site-packages (from pandas) (2.9.0.post0)\n",
      "Requirement already satisfied: pytz>=2020.1 in c:\\users\\abueckle\\documents\\github\\hra-ftu-explorer-supporting-information\\.venv\\lib\\site-packages (from pandas) (2025.1)\n",
      "Requirement already satisfied: tzdata>=2022.7 in c:\\users\\abueckle\\documents\\github\\hra-ftu-explorer-supporting-information\\.venv\\lib\\site-packages (from pandas) (2025.1)\n",
      "Requirement already satisfied: h5py>=3.7.0 in c:\\users\\abueckle\\documents\\github\\hra-ftu-explorer-supporting-information\\.venv\\lib\\site-packages (from scanpy) (3.14.0)\n",
      "Requirement already satisfied: joblib in c:\\users\\abueckle\\documents\\github\\hra-ftu-explorer-supporting-information\\.venv\\lib\\site-packages (from scanpy) (1.5.2)\n",
      "Requirement already satisfied: legacy-api-wrap>=1.4.1 in c:\\users\\abueckle\\documents\\github\\hra-ftu-explorer-supporting-information\\.venv\\lib\\site-packages (from scanpy) (1.4.1)\n",
      "Requirement already satisfied: matplotlib>=3.7.5 in c:\\users\\abueckle\\documents\\github\\hra-ftu-explorer-supporting-information\\.venv\\lib\\site-packages (from scanpy) (3.10.6)\n",
      "Requirement already satisfied: natsort in c:\\users\\abueckle\\documents\\github\\hra-ftu-explorer-supporting-information\\.venv\\lib\\site-packages (from scanpy) (8.4.0)\n",
      "Requirement already satisfied: networkx>=2.7.1 in c:\\users\\abueckle\\documents\\github\\hra-ftu-explorer-supporting-information\\.venv\\lib\\site-packages (from scanpy) (3.5)\n",
      "Requirement already satisfied: numba>=0.57.1 in c:\\users\\abueckle\\documents\\github\\hra-ftu-explorer-supporting-information\\.venv\\lib\\site-packages (from scanpy) (0.62.0)\n",
      "Requirement already satisfied: packaging>=21.3 in c:\\users\\abueckle\\documents\\github\\hra-ftu-explorer-supporting-information\\.venv\\lib\\site-packages (from scanpy) (24.2)\n",
      "Requirement already satisfied: patsy!=1.0.0 in c:\\users\\abueckle\\documents\\github\\hra-ftu-explorer-supporting-information\\.venv\\lib\\site-packages (from scanpy) (1.0.1)\n",
      "Requirement already satisfied: pynndescent>=0.5.13 in c:\\users\\abueckle\\documents\\github\\hra-ftu-explorer-supporting-information\\.venv\\lib\\site-packages (from scanpy) (0.5.13)\n",
      "Requirement already satisfied: scikit-learn>=1.1.3 in c:\\users\\abueckle\\documents\\github\\hra-ftu-explorer-supporting-information\\.venv\\lib\\site-packages (from scanpy) (1.7.2)\n",
      "Requirement already satisfied: scipy>=1.8.1 in c:\\users\\abueckle\\documents\\github\\hra-ftu-explorer-supporting-information\\.venv\\lib\\site-packages (from scanpy) (1.16.2)\n",
      "Requirement already satisfied: seaborn>=0.13.2 in c:\\users\\abueckle\\documents\\github\\hra-ftu-explorer-supporting-information\\.venv\\lib\\site-packages (from scanpy) (0.13.2)\n",
      "Requirement already satisfied: session-info2 in c:\\users\\abueckle\\documents\\github\\hra-ftu-explorer-supporting-information\\.venv\\lib\\site-packages (from scanpy) (0.2.2)\n",
      "Requirement already satisfied: statsmodels>=0.14.5 in c:\\users\\abueckle\\documents\\github\\hra-ftu-explorer-supporting-information\\.venv\\lib\\site-packages (from scanpy) (0.14.5)\n",
      "Requirement already satisfied: tqdm in c:\\users\\abueckle\\documents\\github\\hra-ftu-explorer-supporting-information\\.venv\\lib\\site-packages (from scanpy) (4.67.1)\n",
      "Requirement already satisfied: typing-extensions in c:\\users\\abueckle\\documents\\github\\hra-ftu-explorer-supporting-information\\.venv\\lib\\site-packages (from scanpy) (4.12.2)\n",
      "Requirement already satisfied: umap-learn>=0.5.6 in c:\\users\\abueckle\\documents\\github\\hra-ftu-explorer-supporting-information\\.venv\\lib\\site-packages (from scanpy) (0.5.9.post2)\n",
      "Requirement already satisfied: array-api-compat>=1.7.1 in c:\\users\\abueckle\\documents\\github\\hra-ftu-explorer-supporting-information\\.venv\\lib\\site-packages (from anndata) (1.12.0)\n",
      "Requirement already satisfied: zarr!=3.0.*,>=2.18.7 in c:\\users\\abueckle\\documents\\github\\hra-ftu-explorer-supporting-information\\.venv\\lib\\site-packages (from anndata) (3.1.3)\n",
      "Requirement already satisfied: biothings-client>=0.2.6 in c:\\users\\abueckle\\documents\\github\\hra-ftu-explorer-supporting-information\\.venv\\lib\\site-packages (from mygene) (0.4.1)\n",
      "Requirement already satisfied: comm>=0.1.3 in c:\\users\\abueckle\\documents\\github\\hra-ftu-explorer-supporting-information\\.venv\\lib\\site-packages (from ipywidgets) (0.2.2)\n",
      "Requirement already satisfied: ipython>=6.1.0 in c:\\users\\abueckle\\documents\\github\\hra-ftu-explorer-supporting-information\\.venv\\lib\\site-packages (from ipywidgets) (8.32.0)\n",
      "Requirement already satisfied: traitlets>=4.3.1 in c:\\users\\abueckle\\documents\\github\\hra-ftu-explorer-supporting-information\\.venv\\lib\\site-packages (from ipywidgets) (5.14.3)\n",
      "Requirement already satisfied: widgetsnbextension~=4.0.14 in c:\\users\\abueckle\\documents\\github\\hra-ftu-explorer-supporting-information\\.venv\\lib\\site-packages (from ipywidgets) (4.0.14)\n",
      "Requirement already satisfied: jupyterlab_widgets~=3.0.15 in c:\\users\\abueckle\\documents\\github\\hra-ftu-explorer-supporting-information\\.venv\\lib\\site-packages (from ipywidgets) (3.0.15)\n",
      "Requirement already satisfied: anywidget in c:\\users\\abueckle\\documents\\github\\hra-ftu-explorer-supporting-information\\.venv\\lib\\site-packages (from hra_jupyter_widgets) (0.9.18)\n",
      "Requirement already satisfied: httpx>=0.22.0 in c:\\users\\abueckle\\documents\\github\\hra-ftu-explorer-supporting-information\\.venv\\lib\\site-packages (from biothings-client>=0.2.6->mygene) (0.28.1)\n",
      "Requirement already satisfied: anyio in c:\\users\\abueckle\\documents\\github\\hra-ftu-explorer-supporting-information\\.venv\\lib\\site-packages (from httpx>=0.22.0->biothings-client>=0.2.6->mygene) (4.11.0)\n",
      "Requirement already satisfied: certifi in c:\\users\\abueckle\\documents\\github\\hra-ftu-explorer-supporting-information\\.venv\\lib\\site-packages (from httpx>=0.22.0->biothings-client>=0.2.6->mygene) (2025.8.3)\n",
      "Requirement already satisfied: httpcore==1.* in c:\\users\\abueckle\\documents\\github\\hra-ftu-explorer-supporting-information\\.venv\\lib\\site-packages (from httpx>=0.22.0->biothings-client>=0.2.6->mygene) (1.0.9)\n",
      "Requirement already satisfied: idna in c:\\users\\abueckle\\documents\\github\\hra-ftu-explorer-supporting-information\\.venv\\lib\\site-packages (from httpx>=0.22.0->biothings-client>=0.2.6->mygene) (3.10)\n",
      "Requirement already satisfied: h11>=0.16 in c:\\users\\abueckle\\documents\\github\\hra-ftu-explorer-supporting-information\\.venv\\lib\\site-packages (from httpcore==1.*->httpx>=0.22.0->biothings-client>=0.2.6->mygene) (0.16.0)\n",
      "Requirement already satisfied: colorama in c:\\users\\abueckle\\documents\\github\\hra-ftu-explorer-supporting-information\\.venv\\lib\\site-packages (from ipython>=6.1.0->ipywidgets) (0.4.6)\n",
      "Requirement already satisfied: decorator in c:\\users\\abueckle\\documents\\github\\hra-ftu-explorer-supporting-information\\.venv\\lib\\site-packages (from ipython>=6.1.0->ipywidgets) (5.2.1)\n",
      "Requirement already satisfied: jedi>=0.16 in c:\\users\\abueckle\\documents\\github\\hra-ftu-explorer-supporting-information\\.venv\\lib\\site-packages (from ipython>=6.1.0->ipywidgets) (0.19.2)\n",
      "Requirement already satisfied: matplotlib-inline in c:\\users\\abueckle\\documents\\github\\hra-ftu-explorer-supporting-information\\.venv\\lib\\site-packages (from ipython>=6.1.0->ipywidgets) (0.1.7)\n",
      "Requirement already satisfied: prompt_toolkit<3.1.0,>=3.0.41 in c:\\users\\abueckle\\documents\\github\\hra-ftu-explorer-supporting-information\\.venv\\lib\\site-packages (from ipython>=6.1.0->ipywidgets) (3.0.50)\n",
      "Requirement already satisfied: pygments>=2.4.0 in c:\\users\\abueckle\\documents\\github\\hra-ftu-explorer-supporting-information\\.venv\\lib\\site-packages (from ipython>=6.1.0->ipywidgets) (2.19.1)\n",
      "Requirement already satisfied: stack_data in c:\\users\\abueckle\\documents\\github\\hra-ftu-explorer-supporting-information\\.venv\\lib\\site-packages (from ipython>=6.1.0->ipywidgets) (0.6.3)\n",
      "Requirement already satisfied: wcwidth in c:\\users\\abueckle\\documents\\github\\hra-ftu-explorer-supporting-information\\.venv\\lib\\site-packages (from prompt_toolkit<3.1.0,>=3.0.41->ipython>=6.1.0->ipywidgets) (0.2.13)\n",
      "Requirement already satisfied: parso<0.9.0,>=0.8.4 in c:\\users\\abueckle\\documents\\github\\hra-ftu-explorer-supporting-information\\.venv\\lib\\site-packages (from jedi>=0.16->ipython>=6.1.0->ipywidgets) (0.8.4)\n",
      "Requirement already satisfied: contourpy>=1.0.1 in c:\\users\\abueckle\\documents\\github\\hra-ftu-explorer-supporting-information\\.venv\\lib\\site-packages (from matplotlib>=3.7.5->scanpy) (1.3.3)\n",
      "Requirement already satisfied: cycler>=0.10 in c:\\users\\abueckle\\documents\\github\\hra-ftu-explorer-supporting-information\\.venv\\lib\\site-packages (from matplotlib>=3.7.5->scanpy) (0.12.1)\n",
      "Requirement already satisfied: fonttools>=4.22.0 in c:\\users\\abueckle\\documents\\github\\hra-ftu-explorer-supporting-information\\.venv\\lib\\site-packages (from matplotlib>=3.7.5->scanpy) (4.60.0)\n",
      "Requirement already satisfied: kiwisolver>=1.3.1 in c:\\users\\abueckle\\documents\\github\\hra-ftu-explorer-supporting-information\\.venv\\lib\\site-packages (from matplotlib>=3.7.5->scanpy) (1.4.9)\n",
      "Requirement already satisfied: pillow>=8 in c:\\users\\abueckle\\documents\\github\\hra-ftu-explorer-supporting-information\\.venv\\lib\\site-packages (from matplotlib>=3.7.5->scanpy) (11.3.0)\n",
      "Requirement already satisfied: pyparsing>=2.3.1 in c:\\users\\abueckle\\documents\\github\\hra-ftu-explorer-supporting-information\\.venv\\lib\\site-packages (from matplotlib>=3.7.5->scanpy) (3.2.5)\n",
      "Requirement already satisfied: llvmlite<0.46,>=0.45.0dev0 in c:\\users\\abueckle\\documents\\github\\hra-ftu-explorer-supporting-information\\.venv\\lib\\site-packages (from numba>=0.57.1->scanpy) (0.45.0)\n",
      "Requirement already satisfied: six>=1.5 in c:\\users\\abueckle\\documents\\github\\hra-ftu-explorer-supporting-information\\.venv\\lib\\site-packages (from python-dateutil>=2.8.2->pandas) (1.17.0)\n",
      "Requirement already satisfied: threadpoolctl>=3.1.0 in c:\\users\\abueckle\\documents\\github\\hra-ftu-explorer-supporting-information\\.venv\\lib\\site-packages (from scikit-learn>=1.1.3->scanpy) (3.6.0)\n",
      "Requirement already satisfied: donfig>=0.8 in c:\\users\\abueckle\\documents\\github\\hra-ftu-explorer-supporting-information\\.venv\\lib\\site-packages (from zarr!=3.0.*,>=2.18.7->anndata) (0.8.1.post1)\n",
      "Requirement already satisfied: numcodecs>=0.14 in c:\\users\\abueckle\\documents\\github\\hra-ftu-explorer-supporting-information\\.venv\\lib\\site-packages (from numcodecs[crc32c]>=0.14->zarr!=3.0.*,>=2.18.7->anndata) (0.16.3)\n",
      "Requirement already satisfied: pyyaml in c:\\users\\abueckle\\documents\\github\\hra-ftu-explorer-supporting-information\\.venv\\lib\\site-packages (from donfig>=0.8->zarr!=3.0.*,>=2.18.7->anndata) (6.0.2)\n",
      "Requirement already satisfied: crc32c>=2.7 in c:\\users\\abueckle\\documents\\github\\hra-ftu-explorer-supporting-information\\.venv\\lib\\site-packages (from numcodecs[crc32c]>=0.14->zarr!=3.0.*,>=2.18.7->anndata) (2.7.1)\n",
      "Requirement already satisfied: sniffio>=1.1 in c:\\users\\abueckle\\documents\\github\\hra-ftu-explorer-supporting-information\\.venv\\lib\\site-packages (from anyio->httpx>=0.22.0->biothings-client>=0.2.6->mygene) (1.3.1)\n",
      "Requirement already satisfied: psygnal>=0.8.1 in c:\\users\\abueckle\\documents\\github\\hra-ftu-explorer-supporting-information\\.venv\\lib\\site-packages (from anywidget->hra_jupyter_widgets) (0.14.1)\n",
      "Requirement already satisfied: executing>=1.2.0 in c:\\users\\abueckle\\documents\\github\\hra-ftu-explorer-supporting-information\\.venv\\lib\\site-packages (from stack_data->ipython>=6.1.0->ipywidgets) (2.2.0)\n",
      "Requirement already satisfied: asttokens>=2.1.0 in c:\\users\\abueckle\\documents\\github\\hra-ftu-explorer-supporting-information\\.venv\\lib\\site-packages (from stack_data->ipython>=6.1.0->ipywidgets) (3.0.0)\n",
      "Requirement already satisfied: pure-eval in c:\\users\\abueckle\\documents\\github\\hra-ftu-explorer-supporting-information\\.venv\\lib\\site-packages (from stack_data->ipython>=6.1.0->ipywidgets) (0.2.3)\n",
      "Note: you may need to restart the kernel to use updated packages.\n"
     ]
    }
   ],
   "source": [
    "%pip install numpy pandas scanpy anndata mygene ipywidgets hra_jupyter_widgets\n",
    "\n",
    "import os\n",
    "from pathlib import Path\n",
    "import shutil\n",
    "import numpy as np\n",
    "import pandas as pd\n",
    "import scanpy as sc\n",
    "import anndata as ad\n",
    "import csv\n",
    "import mygene\n",
    "import ipywidgets as widgets\n",
    "# Import hra-jupyter-widgets. For documentation, please see https://github.com/x-atlas-consortia/hra-jupyter-widgets/blob/main/usage.ipynb\n",
    "from hra_jupyter_widgets import FtuExplorerSmall\n",
    "\n",
    "import warnings\n",
    "warnings.filterwarnings(\"ignore\")"
   ]
  },
  {
   "cell_type": "markdown",
   "id": "473af2d8",
   "metadata": {},
   "source": [
    "## Global settings"
   ]
  },
  {
   "cell_type": "code",
   "execution_count": 16,
   "id": "fac5d71e",
   "metadata": {},
   "outputs": [],
   "source": [
    "organ_links = {\n",
    "  'kidney':{\n",
    "      'url_counts': 'https://www.ebi.ac.uk/gxa/sc/experiment/E-CURD-119/download/zip?fileType=normalised',\n",
    "      'url_experimental_design': 'https://www.ebi.ac.uk/gxa/sc/experiment/E-CURD-119/download?fileType=experiment-design',\n",
    "      'experiment_id': 'E-CURD-119'\n",
    "  }\n",
    "}"
   ]
  },
  {
   "cell_type": "markdown",
   "id": "5689572e",
   "metadata": {},
   "source": [
    "## Functions"
   ]
  },
  {
   "cell_type": "code",
   "execution_count": 17,
   "id": "14a7341b",
   "metadata": {},
   "outputs": [],
   "source": [
    "def download_file(url:str, file_name:str, sub_folder_name:str):\n",
    "  \"\"\"Downloads \n",
    "\n",
    "  Args:\n",
    "      url (str): URL for file download\n",
    "      file_name (str): file name\n",
    "      subfolder_name (str): subfolder name\n",
    "  \"\"\"\n",
    "  # Make sure the data folder is present\n",
    "  folder_path = f\"data/{sub_folder_name}\"\n",
    "\n",
    "  if not os.path.exists(folder_path):\n",
    "      os.makedirs(folder_path)\n",
    "      print(f\"Folder '{folder_path}' created.\")\n",
    "  else:\n",
    "      print(f\"Folder '{folder_path}' already exists.\")\n",
    "\n",
    "  # Define the path to the file. \n",
    "  file_path = f'{folder_path}/{file_name}'\n",
    "\n",
    "  # Check if the file exists\n",
    "  if not os.path.exists(file_path):\n",
    "      # If the file doesn't exist, run the curl command\n",
    "      !curl -L {url} -o {file_path}\n",
    "      print(f\"File downloaded and saved at {file_path}\")\n",
    "  else:\n",
    "      print(f\"File already exists at {file_path}\")"
   ]
  },
  {
   "cell_type": "code",
   "execution_count": 18,
   "id": "94cc2e64",
   "metadata": {},
   "outputs": [],
   "source": [
    "def unzip_to_folder(file_path: str, target_folder: str):\n",
    "    \"\"\"\n",
    "    Unzip the file at the specified file_path into target_folder,\n",
    "    but only if the folder is empty.\n",
    "\n",
    "    Args:\n",
    "        file_path (str): Path to the .zip (or other archive) file.\n",
    "        target_folder (str): Path where the archive should be extracted.\n",
    "    \"\"\"\n",
    "    target = Path(target_folder)\n",
    "\n",
    "    # Exclude the archive itself when checking contents\n",
    "    if target.exists() and any(\n",
    "        p.is_file() and p.suffix != \".zip\" and \"ExpDesign\" not in p.name\n",
    "        for p in target.iterdir()\n",
    "    ):\n",
    "        print(f\"Skipped: {target} already contains extracted files.\")\n",
    "        return\n",
    "\n",
    "    # Otherwise, unzip\n",
    "    shutil.unpack_archive(file_path, target)\n",
    "    print(f\"Unzipped {file_path} → {target}\")"
   ]
  },
  {
   "cell_type": "code",
   "execution_count": 19,
   "id": "c4031e7d",
   "metadata": {},
   "outputs": [],
   "source": [
    "def download_anatomogram_data(url_counts:str, url_experiment:str, experiment_name:str, organ_name:str):\n",
    "  \"\"\"Download and unzip anatomogram data for a given organ.\n",
    "\n",
    "    Args:\n",
    "        url_counts (str): The URL to download the data from.\n",
    "        url_experiment (str): The URL to download the experimental metadata from.\n",
    "        url_experiment (str): The name for the experimental design file.\n",
    "        organ_name (str): The name of the organ (used for file and folder names).\n",
    "  \"\"\"\n",
    "  download_file(url_counts, f'{organ_name}.zip', f'{organ_name}')\n",
    "  download_file(url_experiment, f'{experiment_name}', f'{organ_name}')\n",
    "  unzip_to_folder(f'data/{organ_name}/{organ_name}.zip', f'data/{organ_name}')"
   ]
  },
  {
   "cell_type": "markdown",
   "id": "13343c09",
   "metadata": {},
   "source": [
    "## Process kidney data"
   ]
  },
  {
   "cell_type": "code",
   "execution_count": 20,
   "id": "02bad272",
   "metadata": {},
   "outputs": [
    {
     "name": "stdout",
     "output_type": "stream",
     "text": [
      "Folder 'data/kidney' already exists.\n",
      "File already exists at data/kidney/kidney.zip\n",
      "Folder 'data/kidney' already exists.\n",
      "File already exists at data/kidney/ExpDesign-E-CURD-119\n",
      "Skipped: data\\kidney already contains extracted files.\n"
     ]
    }
   ],
   "source": [
    "download_anatomogram_data(\n",
    "  'https://www.ebi.ac.uk/gxa/sc/experiment/E-CURD-119/download/zip?fileType=normalised', \n",
    "  'https://www.ebi.ac.uk/gxa/sc/experiment/E-CURD-119/download?fileType=experiment-design',\n",
    "  'ExpDesign-E-CURD-119',\n",
    "  'kidney'\n",
    "  )"
   ]
  },
  {
   "cell_type": "code",
   "execution_count": 21,
   "id": "0c95ddc2",
   "metadata": {},
   "outputs": [],
   "source": [
    "# anndata_kidney = sc.read_mtx('data/kidney/E-CURD-119.aggregated_filtered_normalised_counts.mtx')\n",
    "# df_kidney = anndata_kidney.to_df()\n",
    "# df_kidney"
   ]
  },
  {
   "cell_type": "code",
   "execution_count": 22,
   "id": "f88c37d2",
   "metadata": {},
   "outputs": [],
   "source": [
    "# # Load genes and cell type information for kidney\n",
    "# rows_kidney = pd.read_csv('data/kidney/E-CURD-119.aggregated_filtered_normalised_counts.mtx_rows',names=['col1', 'col2'], sep='\\t').drop(['col2'], axis=1)\n",
    "# cols_kidney = pd.read_csv('data/kidney/E-CURD-119.aggregated_filtered_normalised_counts.mtx_cols', names=['col1'])"
   ]
  },
  {
   "cell_type": "code",
   "execution_count": 23,
   "id": "5efaaffe",
   "metadata": {},
   "outputs": [],
   "source": [
    "# rows_kidney"
   ]
  },
  {
   "cell_type": "code",
   "execution_count": 24,
   "id": "89cc6b63",
   "metadata": {},
   "outputs": [],
   "source": [
    "# cols_kidney"
   ]
  },
  {
   "cell_type": "code",
   "execution_count": 25,
   "id": "5f28ce61",
   "metadata": {},
   "outputs": [],
   "source": [
    "# ref_data_kidney = pd.read_csv(\n",
    "#     'data/kidney/ExpDesign-E-CURD-119.tsv', sep='\\t')\n",
    "# ref_data_kidney"
   ]
  },
  {
   "cell_type": "markdown",
   "id": "206f8fb2",
   "metadata": {},
   "source": [
    "## Process liver data"
   ]
  },
  {
   "cell_type": "code",
   "execution_count": 26,
   "id": "b43b1092",
   "metadata": {},
   "outputs": [
    {
     "name": "stdout",
     "output_type": "stream",
     "text": [
      "Folder 'data/liver' already exists.\n",
      "File already exists at data/liver/liver.zip\n",
      "Folder 'data/liver' already exists.\n",
      "File already exists at data/liver/ExpDesign-E-MTAB-10553\n",
      "Skipped: data\\liver already contains extracted files.\n"
     ]
    }
   ],
   "source": [
    "download_anatomogram_data('https://www.ebi.ac.uk/gxa/sc/experiment/E-MTAB-10553/download/zip?fileType=normalised', 'https://www.ebi.ac.uk/gxa/sc/experiment/E-MTAB-10553/download?fileType=experiment-design', 'ExpDesign-E-MTAB-10553', 'liver')"
   ]
  },
  {
   "cell_type": "markdown",
   "id": "0f0a8820",
   "metadata": {},
   "source": [
    "## Process lung data"
   ]
  },
  {
   "cell_type": "code",
   "execution_count": 27,
   "id": "62560a1c",
   "metadata": {},
   "outputs": [
    {
     "name": "stdout",
     "output_type": "stream",
     "text": [
      "Folder 'data/lung' already exists.\n",
      "File already exists at data/lung/lung.zip\n",
      "Folder 'data/lung' already exists.\n",
      "File already exists at data/lung/ExpDesign-E-GEOD-130148\n",
      "Skipped: data\\lung already contains extracted files.\n"
     ]
    }
   ],
   "source": [
    "download_anatomogram_data('https://www.ebi.ac.uk/gxa/sc/experiment/E-GEOD-130148/download/zip?fileType=normalised', 'https://www.ebi.ac.uk/gxa/sc/experiment/E-GEOD-130148/download?fileType=experiment-design', 'ExpDesign-E-GEOD-130148', 'lung')"
   ]
  },
  {
   "cell_type": "markdown",
   "id": "cb592988",
   "metadata": {},
   "source": [
    "## Process pancreas"
   ]
  },
  {
   "cell_type": "code",
   "execution_count": 28,
   "id": "c0c44dc2",
   "metadata": {},
   "outputs": [
    {
     "name": "stdout",
     "output_type": "stream",
     "text": [
      "Folder 'data/pancreas' already exists.\n",
      "File already exists at data/pancreas/pancreas.zip\n",
      "Folder 'data/pancreas' already exists.\n",
      "File downloaded and saved at data/pancreas/ExpDesign-/E-MTAB-5061\n",
      "Skipped: data\\pancreas already contains extracted files.\n"
     ]
    },
    {
     "name": "stderr",
     "output_type": "stream",
     "text": [
      "  % Total    % Received % Xferd  Average Speed   Time    Time     Time  Current\n",
      "                                 Dload  Upload   Total   Spent    Left  Speed\n",
      "\n",
      "  0     0    0     0    0     0      0      0 --:--:-- --:--:-- --:--:--     0Warning: Failed to open the file data/pancreas/ExpDesign-/E-MTAB-5061: No such \n",
      "Warning: file or directory\n",
      "\n",
      "  0 2234k    0     0    0     0      0      0 --:--:-- --:--:-- --:--:--     0\n",
      "curl: (23) client returned ERROR on write of 6993 bytes\n"
     ]
    }
   ],
   "source": [
    "download_anatomogram_data('https://www.ebi.ac.uk/gxa/sc/experiment/E-MTAB-5061/download/zip?fileType=normalised', 'https://www.ebi.ac.uk/gxa/sc/experiment/E-MTAB-5061/download?fileType=experiment-design','ExpDesign-/E-MTAB-5061', 'pancreas')"
   ]
  },
  {
   "cell_type": "markdown",
   "id": "0452e047",
   "metadata": {},
   "source": [
    "## Filter to only keep CTs in FTUs"
   ]
  },
  {
   "cell_type": "code",
   "execution_count": 29,
   "id": "68c8009f",
   "metadata": {},
   "outputs": [],
   "source": [
    "# neet to get listing of AS-CT combos in tables only for FTUs and then the same for crosswalks"
   ]
  }
 ],
 "metadata": {
  "kernelspec": {
   "display_name": ".venv",
   "language": "python",
   "name": "python3"
  },
  "language_info": {
   "codemirror_mode": {
    "name": "ipython",
    "version": 3
   },
   "file_extension": ".py",
   "mimetype": "text/x-python",
   "name": "python",
   "nbconvert_exporter": "python",
   "pygments_lexer": "ipython3",
   "version": "3.12.4"
  }
 },
 "nbformat": 4,
 "nbformat_minor": 5
}
