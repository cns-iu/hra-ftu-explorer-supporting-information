{
 "cells": [
  {
   "cell_type": "code",
   "execution_count": 1,
   "id": "12652428-5683-4297-9979-d98ee91c6999",
   "metadata": {},
   "outputs": [],
   "source": [
    "import pandas as pd"
   ]
  },
  {
   "cell_type": "code",
   "execution_count": 2,
   "id": "8600c41e-98e5-45e6-93b7-f772e28d5617",
   "metadata": {},
   "outputs": [
    {
     "name": "stderr",
     "output_type": "stream",
     "text": [
      "/var/folders/p7/kpn2wtl53w9bjt1kf0s_jfh40000gq/T/ipykernel_44292/498692012.py:1: DtypeWarning: Columns (8) have mixed types. Specify dtype option on import or set low_memory=False.\n",
      "  enriched_data = pd.read_csv('../ref_data/enriched_dataset.csv')\n"
     ]
    }
   ],
   "source": [
    "enriched_data = pd.read_csv('../ref_data/enriched_dataset.csv')"
   ]
  },
  {
   "cell_type": "code",
   "execution_count": 3,
   "id": "a278c940-7852-4744-80d2-ea51e81a9444",
   "metadata": {},
   "outputs": [
    {
     "data": {
      "text/plain": [
       "Index(['reference_organ', 'as_label', 'as_3d_id', 'as_id', 'as_volume',\n",
       "       'collision_method', 'collision_percentage', 'sex', 'race', 'bmi',\n",
       "       'x_value', 'y_value', 'z_value', 'creation_date', 'creator',\n",
       "       'creator_first_name', 'creator_last_name', 'dimension_units',\n",
       "       'x_translation', 'y_translation', 'z_translation', 'rotation_order',\n",
       "       'translation_units', 'link', 'technology', 'cell_count', 'gene_count',\n",
       "       'organ_id', 'label', 'description', 'cell_id', 'cell_label',\n",
       "       'annotation_method', 'modality', 'dataset', 'gene_id', 'gene_label',\n",
       "       'ensembl_id', 'mean_gene_expr_value'],\n",
       "      dtype='object')"
      ]
     },
     "execution_count": 3,
     "metadata": {},
     "output_type": "execute_result"
    }
   ],
   "source": [
    "enriched_data.columns"
   ]
  },
  {
   "cell_type": "code",
   "execution_count": 15,
   "id": "ba665568-7bde-47dc-85cb-3c8646edbc4b",
   "metadata": {},
   "outputs": [
    {
     "data": {
      "text/html": [
       "<div>\n",
       "<style scoped>\n",
       "    .dataframe tbody tr th:only-of-type {\n",
       "        vertical-align: middle;\n",
       "    }\n",
       "\n",
       "    .dataframe tbody tr th {\n",
       "        vertical-align: top;\n",
       "    }\n",
       "\n",
       "    .dataframe thead th {\n",
       "        text-align: right;\n",
       "    }\n",
       "</style>\n",
       "<table border=\"1\" class=\"dataframe\">\n",
       "  <thead>\n",
       "    <tr style=\"text-align: right;\">\n",
       "      <th></th>\n",
       "      <th>reference_organ</th>\n",
       "      <th>as_3d_id</th>\n",
       "      <th>as_label</th>\n",
       "    </tr>\n",
       "  </thead>\n",
       "  <tbody>\n",
       "    <tr>\n",
       "      <th>8590</th>\n",
       "      <td>Colon</td>\n",
       "      <td>https://purl.humanatlas.io/ref-organ/large-int...</td>\n",
       "      <td>ascending colon</td>\n",
       "    </tr>\n",
       "    <tr>\n",
       "      <th>5600</th>\n",
       "      <td>Colon</td>\n",
       "      <td>https://purl.humanatlas.io/ref-organ/large-int...</td>\n",
       "      <td>descending colon</td>\n",
       "    </tr>\n",
       "    <tr>\n",
       "      <th>7520</th>\n",
       "      <td>Colon</td>\n",
       "      <td>https://purl.humanatlas.io/ref-organ/large-int...</td>\n",
       "      <td>sigmoid colon</td>\n",
       "    </tr>\n",
       "    <tr>\n",
       "      <th>11440</th>\n",
       "      <td>Colon</td>\n",
       "      <td>https://purl.humanatlas.io/ref-organ/large-int...</td>\n",
       "      <td>transverse colon</td>\n",
       "    </tr>\n",
       "    <tr>\n",
       "      <th>127360</th>\n",
       "      <td>Heart</td>\n",
       "      <td>https://purl.humanatlas.io/ref-organ/heart-fem...</td>\n",
       "      <td>interventricular septum</td>\n",
       "    </tr>\n",
       "    <tr>\n",
       "      <th>...</th>\n",
       "      <td>...</td>\n",
       "      <td>...</td>\n",
       "      <td>...</td>\n",
       "    </tr>\n",
       "    <tr>\n",
       "      <th>20630</th>\n",
       "      <td>SmallIntestine</td>\n",
       "      <td>https://purl.humanatlas.io/ref-organ/small-int...</td>\n",
       "      <td>jejunum</td>\n",
       "    </tr>\n",
       "    <tr>\n",
       "      <th>320</th>\n",
       "      <td>Spleen</td>\n",
       "      <td>https://purl.humanatlas.io/ref-organ/spleen-fe...</td>\n",
       "      <td>diaphragmatic surface of spleen</td>\n",
       "    </tr>\n",
       "    <tr>\n",
       "      <th>0</th>\n",
       "      <td>Spleen</td>\n",
       "      <td>https://purl.humanatlas.io/ref-organ/spleen-fe...</td>\n",
       "      <td>hilum of spleen</td>\n",
       "    </tr>\n",
       "    <tr>\n",
       "      <th>640</th>\n",
       "      <td>Spleen</td>\n",
       "      <td>https://purl.humanatlas.io/ref-organ/spleen-ma...</td>\n",
       "      <td>diaphragmatic surface of spleen</td>\n",
       "    </tr>\n",
       "    <tr>\n",
       "      <th>1030</th>\n",
       "      <td>Spleen</td>\n",
       "      <td>https://purl.humanatlas.io/ref-organ/spleen-ma...</td>\n",
       "      <td>hilum of spleen</td>\n",
       "    </tr>\n",
       "  </tbody>\n",
       "</table>\n",
       "<p>70 rows × 3 columns</p>\n",
       "</div>"
      ],
      "text/plain": [
       "       reference_organ                                           as_3d_id  \\\n",
       "8590             Colon  https://purl.humanatlas.io/ref-organ/large-int...   \n",
       "5600             Colon  https://purl.humanatlas.io/ref-organ/large-int...   \n",
       "7520             Colon  https://purl.humanatlas.io/ref-organ/large-int...   \n",
       "11440            Colon  https://purl.humanatlas.io/ref-organ/large-int...   \n",
       "127360           Heart  https://purl.humanatlas.io/ref-organ/heart-fem...   \n",
       "...                ...                                                ...   \n",
       "20630   SmallIntestine  https://purl.humanatlas.io/ref-organ/small-int...   \n",
       "320             Spleen  https://purl.humanatlas.io/ref-organ/spleen-fe...   \n",
       "0               Spleen  https://purl.humanatlas.io/ref-organ/spleen-fe...   \n",
       "640             Spleen  https://purl.humanatlas.io/ref-organ/spleen-ma...   \n",
       "1030            Spleen  https://purl.humanatlas.io/ref-organ/spleen-ma...   \n",
       "\n",
       "                               as_label  \n",
       "8590                    ascending colon  \n",
       "5600                   descending colon  \n",
       "7520                      sigmoid colon  \n",
       "11440                  transverse colon  \n",
       "127360          interventricular septum  \n",
       "...                                 ...  \n",
       "20630                           jejunum  \n",
       "320     diaphragmatic surface of spleen  \n",
       "0                       hilum of spleen  \n",
       "640     diaphragmatic surface of spleen  \n",
       "1030                    hilum of spleen  \n",
       "\n",
       "[70 rows x 3 columns]"
      ]
     },
     "execution_count": 15,
     "metadata": {},
     "output_type": "execute_result"
    }
   ],
   "source": [
    "unique_pairs = enriched_data[['reference_organ', 'as_3d_id', 'as_label']].drop_duplicates().sort_values(by=['reference_organ', 'as_3d_id', 'as_label'])\n",
    "unique_pairs"
   ]
  },
  {
   "cell_type": "code",
   "execution_count": 6,
   "id": "2caa8a29-66fd-4300-813c-2917ff46bdc3",
   "metadata": {},
   "outputs": [
    {
     "data": {
      "text/plain": [
       "array(['Colon', 'Heart', 'HeartV1.1', 'LargeIntestine', 'LeftKidney',\n",
       "       'LeftKidneyV1.1', 'Liver', 'Lung', 'LungV1.1', 'Prostate',\n",
       "       'RightKidney', 'RightMammaryGland', 'SkinV1.1', 'SmallIntestine',\n",
       "       'Spleen'], dtype=object)"
      ]
     },
     "execution_count": 6,
     "metadata": {},
     "output_type": "execute_result"
    }
   ],
   "source": [
    "unique_pairs['reference_organ'].unique()"
   ]
  },
  {
   "cell_type": "code",
   "execution_count": 7,
   "id": "373e6846-ef4b-4cc2-b6bd-fbda88459876",
   "metadata": {},
   "outputs": [],
   "source": [
    "organ_rename_map = {\n",
    "    \"Colon\": \"Colon\",\n",
    "    \"Heart\": \"Heart\",\n",
    "    \"HeartV1.1\": \"Heart V1.1\",\n",
    "    \"LargeIntestine\": \"Large Intestine\",\n",
    "    \"LeftKidney\": \"Left Kidney\",\n",
    "    \"LeftKidneyV1.1\": \"Left kidney V1.1\",\n",
    "    \"Liver\": \"Liver\",\n",
    "    \"Lung\": \"Lung\",\n",
    "    \"LungV1.1\": \"Lung V1.1\",\n",
    "    \"Prostate\": \"Prostate\",\n",
    "    \"RightKidney\": \"Right Kidney\",\n",
    "    \"RightMammaryGland\": \"Right Mammary Gland\",\n",
    "    \"SkinV1.1\": \"Skin V1.1\",\n",
    "    \"SmallIntestine\": \"Small Intestine\",\n",
    "    \"Spleen\": \"Spleen\"\n",
    "}"
   ]
  },
  {
   "cell_type": "code",
   "execution_count": 8,
   "id": "4ef84496-ea82-49aa-bafc-2bb10242715b",
   "metadata": {},
   "outputs": [],
   "source": [
    "unique_pairs['reference_organ'] = unique_pairs['reference_organ'].replace(organ_rename_map)\n",
    "\n",
    "# Extract the updated unique pairs again\n",
    "updated_unique_pairs = unique_pairs[['reference_organ', 'as_label']].drop_duplicates().sort_values(by=['reference_organ', 'as_label'])"
   ]
  },
  {
   "cell_type": "code",
   "execution_count": 12,
   "id": "e254d5d6-f77d-494f-b25a-f77604ad452c",
   "metadata": {},
   "outputs": [],
   "source": [
    "unique_pairs.to_csv('reference-as_label-FTU.csv', index=False)"
   ]
  },
  {
   "cell_type": "code",
   "execution_count": null,
   "id": "1a1960cd-1e58-48dd-ab8a-7bcac8e9ff11",
   "metadata": {},
   "outputs": [],
   "source": []
  }
 ],
 "metadata": {
  "kernelspec": {
   "display_name": "iftuExplorer",
   "language": "python",
   "name": "iftuexplorer"
  },
  "language_info": {
   "codemirror_mode": {
    "name": "ipython",
    "version": 3
   },
   "file_extension": ".py",
   "mimetype": "text/x-python",
   "name": "python",
   "nbconvert_exporter": "python",
   "pygments_lexer": "ipython3",
   "version": "3.10.13"
  }
 },
 "nbformat": 4,
 "nbformat_minor": 5
}
