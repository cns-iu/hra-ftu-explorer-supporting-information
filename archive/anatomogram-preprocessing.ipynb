{
 "cells": [
  {
   "cell_type": "markdown",
   "id": "dc3126fa",
   "metadata": {},
   "source": [
    "## Download and preprocess anatomogram data from the EMBL-EBI"
   ]
  },
  {
   "cell_type": "markdown",
   "id": "e36091f8",
   "metadata": {},
   "source": [
    "Download links:\n",
    "1. Kidney: https://www.ebi.ac.uk/gxa/sc/experiment/E-CURD-119/download/zip?fileType=normalised\n",
    "2. Liver: https://www.ebi.ac.uk/gxa/sc/experiment/E-MTAB-10553/download/zip?fileType=normalised\n",
    "3. Lung: https://www.ebi.ac.uk/gxa/sc/experiment/E-GEOD-130148/download/zip?fileType=normalised\n",
    "4. Pancreas : https://www.ebi.ac.uk/gxa/sc/experiment/E-MTAB-5061/download/zip?fileType=normalised\n",
    "\n",
    "Experimental design files:\n",
    "1. Kidney: https://www.ebi.ac.uk/gxa/sc/experiment/E-CURD-119/download?fileType=experiment-design\n",
    "2. Liver: https://www.ebi.ac.uk/gxa/sc/experiment/E-MTAB-10553/download?fileType=experiment-design\n",
    "3. Lung: https://www.ebi.ac.uk/gxa/sc/experiment/E-GEOD-130148/download?fileType=experiment-design\n",
    "4. Pancreas : https://www.ebi.ac.uk/gxa/sc/experiment/E-MTAB-5061/download?fileType=experiment-design\n",
    "\n",
    "SCEA websites: \n",
    "1. Kidney: https://www.ebi.ac.uk/gxa/sc/experiments/E-CURD-119/downloads\n",
    "2. Liver: https://www.ebi.ac.uk/gxa/sc/experiments/E-MTAB-10553/downloads\n",
    "3. Lung: https://www.ebi.ac.uk/gxa/sc/experiments/E-GEOD-130148/downloads\n",
    "4. Pancreas : https://www.ebi.ac.uk/gxa/sc/experiments/E-MTAB-5061/downloads"
   ]
  },
  {
   "cell_type": "markdown",
   "id": "f997ad26",
   "metadata": {},
   "source": [
    "## Install and import libraries"
   ]
  },
  {
   "cell_type": "code",
   "execution_count": 56,
   "id": "1fcd8d90",
   "metadata": {},
   "outputs": [
    {
     "name": "stdout",
     "output_type": "stream",
     "text": [
      "Requirement already satisfied: numpy in c:\\users\\abueckle\\documents\\github\\hra-ftu-explorer-supporting-information\\.venv\\lib\\site-packages (2.2.3)Note: you may need to restart the kernel to use updated packages.\n",
      "\n",
      "Requirement already satisfied: pandas in c:\\users\\abueckle\\documents\\github\\hra-ftu-explorer-supporting-information\\.venv\\lib\\site-packages (2.2.3)\n",
      "Requirement already satisfied: scanpy in c:\\users\\abueckle\\documents\\github\\hra-ftu-explorer-supporting-information\\.venv\\lib\\site-packages (1.11.4)\n",
      "Requirement already satisfied: anndata in c:\\users\\abueckle\\documents\\github\\hra-ftu-explorer-supporting-information\\.venv\\lib\\site-packages (0.12.2)\n",
      "Requirement already satisfied: mygene in c:\\users\\abueckle\\documents\\github\\hra-ftu-explorer-supporting-information\\.venv\\lib\\site-packages (3.2.2)\n",
      "Requirement already satisfied: ipywidgets in c:\\users\\abueckle\\documents\\github\\hra-ftu-explorer-supporting-information\\.venv\\lib\\site-packages (8.1.7)\n",
      "Requirement already satisfied: hra_jupyter_widgets in c:\\users\\abueckle\\documents\\github\\hra-ftu-explorer-supporting-information\\.venv\\lib\\site-packages (0.4.1)\n",
      "Requirement already satisfied: python-dateutil>=2.8.2 in c:\\users\\abueckle\\documents\\github\\hra-ftu-explorer-supporting-information\\.venv\\lib\\site-packages (from pandas) (2.9.0.post0)\n",
      "Requirement already satisfied: pytz>=2020.1 in c:\\users\\abueckle\\documents\\github\\hra-ftu-explorer-supporting-information\\.venv\\lib\\site-packages (from pandas) (2025.1)\n",
      "Requirement already satisfied: tzdata>=2022.7 in c:\\users\\abueckle\\documents\\github\\hra-ftu-explorer-supporting-information\\.venv\\lib\\site-packages (from pandas) (2025.1)\n",
      "Requirement already satisfied: h5py>=3.7.0 in c:\\users\\abueckle\\documents\\github\\hra-ftu-explorer-supporting-information\\.venv\\lib\\site-packages (from scanpy) (3.14.0)\n",
      "Requirement already satisfied: joblib in c:\\users\\abueckle\\documents\\github\\hra-ftu-explorer-supporting-information\\.venv\\lib\\site-packages (from scanpy) (1.5.2)\n",
      "Requirement already satisfied: legacy-api-wrap>=1.4.1 in c:\\users\\abueckle\\documents\\github\\hra-ftu-explorer-supporting-information\\.venv\\lib\\site-packages (from scanpy) (1.4.1)\n",
      "Requirement already satisfied: matplotlib>=3.7.5 in c:\\users\\abueckle\\documents\\github\\hra-ftu-explorer-supporting-information\\.venv\\lib\\site-packages (from scanpy) (3.10.6)\n",
      "Requirement already satisfied: natsort in c:\\users\\abueckle\\documents\\github\\hra-ftu-explorer-supporting-information\\.venv\\lib\\site-packages (from scanpy) (8.4.0)\n",
      "Requirement already satisfied: networkx>=2.7.1 in c:\\users\\abueckle\\documents\\github\\hra-ftu-explorer-supporting-information\\.venv\\lib\\site-packages (from scanpy) (3.5)\n",
      "Requirement already satisfied: numba>=0.57.1 in c:\\users\\abueckle\\documents\\github\\hra-ftu-explorer-supporting-information\\.venv\\lib\\site-packages (from scanpy) (0.62.0)\n",
      "Requirement already satisfied: packaging>=21.3 in c:\\users\\abueckle\\documents\\github\\hra-ftu-explorer-supporting-information\\.venv\\lib\\site-packages (from scanpy) (24.2)\n",
      "Requirement already satisfied: patsy!=1.0.0 in c:\\users\\abueckle\\documents\\github\\hra-ftu-explorer-supporting-information\\.venv\\lib\\site-packages (from scanpy) (1.0.1)\n",
      "Requirement already satisfied: pynndescent>=0.5.13 in c:\\users\\abueckle\\documents\\github\\hra-ftu-explorer-supporting-information\\.venv\\lib\\site-packages (from scanpy) (0.5.13)\n",
      "Requirement already satisfied: scikit-learn>=1.1.3 in c:\\users\\abueckle\\documents\\github\\hra-ftu-explorer-supporting-information\\.venv\\lib\\site-packages (from scanpy) (1.7.2)\n",
      "Requirement already satisfied: scipy>=1.8.1 in c:\\users\\abueckle\\documents\\github\\hra-ftu-explorer-supporting-information\\.venv\\lib\\site-packages (from scanpy) (1.16.2)\n",
      "Requirement already satisfied: seaborn>=0.13.2 in c:\\users\\abueckle\\documents\\github\\hra-ftu-explorer-supporting-information\\.venv\\lib\\site-packages (from scanpy) (0.13.2)\n",
      "Requirement already satisfied: session-info2 in c:\\users\\abueckle\\documents\\github\\hra-ftu-explorer-supporting-information\\.venv\\lib\\site-packages (from scanpy) (0.2.2)\n",
      "Requirement already satisfied: statsmodels>=0.14.5 in c:\\users\\abueckle\\documents\\github\\hra-ftu-explorer-supporting-information\\.venv\\lib\\site-packages (from scanpy) (0.14.5)\n",
      "Requirement already satisfied: tqdm in c:\\users\\abueckle\\documents\\github\\hra-ftu-explorer-supporting-information\\.venv\\lib\\site-packages (from scanpy) (4.67.1)\n",
      "Requirement already satisfied: typing-extensions in c:\\users\\abueckle\\documents\\github\\hra-ftu-explorer-supporting-information\\.venv\\lib\\site-packages (from scanpy) (4.12.2)\n",
      "Requirement already satisfied: umap-learn>=0.5.6 in c:\\users\\abueckle\\documents\\github\\hra-ftu-explorer-supporting-information\\.venv\\lib\\site-packages (from scanpy) (0.5.9.post2)\n",
      "Requirement already satisfied: array-api-compat>=1.7.1 in c:\\users\\abueckle\\documents\\github\\hra-ftu-explorer-supporting-information\\.venv\\lib\\site-packages (from anndata) (1.12.0)\n",
      "Requirement already satisfied: zarr!=3.0.*,>=2.18.7 in c:\\users\\abueckle\\documents\\github\\hra-ftu-explorer-supporting-information\\.venv\\lib\\site-packages (from anndata) (3.1.3)\n",
      "Requirement already satisfied: biothings-client>=0.2.6 in c:\\users\\abueckle\\documents\\github\\hra-ftu-explorer-supporting-information\\.venv\\lib\\site-packages (from mygene) (0.4.1)\n",
      "Requirement already satisfied: comm>=0.1.3 in c:\\users\\abueckle\\documents\\github\\hra-ftu-explorer-supporting-information\\.venv\\lib\\site-packages (from ipywidgets) (0.2.2)\n",
      "Requirement already satisfied: ipython>=6.1.0 in c:\\users\\abueckle\\documents\\github\\hra-ftu-explorer-supporting-information\\.venv\\lib\\site-packages (from ipywidgets) (8.32.0)\n",
      "Requirement already satisfied: traitlets>=4.3.1 in c:\\users\\abueckle\\documents\\github\\hra-ftu-explorer-supporting-information\\.venv\\lib\\site-packages (from ipywidgets) (5.14.3)\n",
      "Requirement already satisfied: widgetsnbextension~=4.0.14 in c:\\users\\abueckle\\documents\\github\\hra-ftu-explorer-supporting-information\\.venv\\lib\\site-packages (from ipywidgets) (4.0.14)\n",
      "Requirement already satisfied: jupyterlab_widgets~=3.0.15 in c:\\users\\abueckle\\documents\\github\\hra-ftu-explorer-supporting-information\\.venv\\lib\\site-packages (from ipywidgets) (3.0.15)\n",
      "Requirement already satisfied: anywidget in c:\\users\\abueckle\\documents\\github\\hra-ftu-explorer-supporting-information\\.venv\\lib\\site-packages (from hra_jupyter_widgets) (0.9.18)\n",
      "Requirement already satisfied: httpx>=0.22.0 in c:\\users\\abueckle\\documents\\github\\hra-ftu-explorer-supporting-information\\.venv\\lib\\site-packages (from biothings-client>=0.2.6->mygene) (0.28.1)\n",
      "Requirement already satisfied: anyio in c:\\users\\abueckle\\documents\\github\\hra-ftu-explorer-supporting-information\\.venv\\lib\\site-packages (from httpx>=0.22.0->biothings-client>=0.2.6->mygene) (4.11.0)\n",
      "Requirement already satisfied: certifi in c:\\users\\abueckle\\documents\\github\\hra-ftu-explorer-supporting-information\\.venv\\lib\\site-packages (from httpx>=0.22.0->biothings-client>=0.2.6->mygene) (2025.8.3)\n",
      "Requirement already satisfied: httpcore==1.* in c:\\users\\abueckle\\documents\\github\\hra-ftu-explorer-supporting-information\\.venv\\lib\\site-packages (from httpx>=0.22.0->biothings-client>=0.2.6->mygene) (1.0.9)\n",
      "Requirement already satisfied: idna in c:\\users\\abueckle\\documents\\github\\hra-ftu-explorer-supporting-information\\.venv\\lib\\site-packages (from httpx>=0.22.0->biothings-client>=0.2.6->mygene) (3.10)\n",
      "Requirement already satisfied: h11>=0.16 in c:\\users\\abueckle\\documents\\github\\hra-ftu-explorer-supporting-information\\.venv\\lib\\site-packages (from httpcore==1.*->httpx>=0.22.0->biothings-client>=0.2.6->mygene) (0.16.0)\n",
      "Requirement already satisfied: colorama in c:\\users\\abueckle\\documents\\github\\hra-ftu-explorer-supporting-information\\.venv\\lib\\site-packages (from ipython>=6.1.0->ipywidgets) (0.4.6)\n",
      "Requirement already satisfied: decorator in c:\\users\\abueckle\\documents\\github\\hra-ftu-explorer-supporting-information\\.venv\\lib\\site-packages (from ipython>=6.1.0->ipywidgets) (5.2.1)\n",
      "Requirement already satisfied: jedi>=0.16 in c:\\users\\abueckle\\documents\\github\\hra-ftu-explorer-supporting-information\\.venv\\lib\\site-packages (from ipython>=6.1.0->ipywidgets) (0.19.2)\n",
      "Requirement already satisfied: matplotlib-inline in c:\\users\\abueckle\\documents\\github\\hra-ftu-explorer-supporting-information\\.venv\\lib\\site-packages (from ipython>=6.1.0->ipywidgets) (0.1.7)\n",
      "Requirement already satisfied: prompt_toolkit<3.1.0,>=3.0.41 in c:\\users\\abueckle\\documents\\github\\hra-ftu-explorer-supporting-information\\.venv\\lib\\site-packages (from ipython>=6.1.0->ipywidgets) (3.0.50)\n",
      "Requirement already satisfied: pygments>=2.4.0 in c:\\users\\abueckle\\documents\\github\\hra-ftu-explorer-supporting-information\\.venv\\lib\\site-packages (from ipython>=6.1.0->ipywidgets) (2.19.1)\n",
      "Requirement already satisfied: stack_data in c:\\users\\abueckle\\documents\\github\\hra-ftu-explorer-supporting-information\\.venv\\lib\\site-packages (from ipython>=6.1.0->ipywidgets) (0.6.3)\n",
      "Requirement already satisfied: wcwidth in c:\\users\\abueckle\\documents\\github\\hra-ftu-explorer-supporting-information\\.venv\\lib\\site-packages (from prompt_toolkit<3.1.0,>=3.0.41->ipython>=6.1.0->ipywidgets) (0.2.13)\n",
      "Requirement already satisfied: parso<0.9.0,>=0.8.4 in c:\\users\\abueckle\\documents\\github\\hra-ftu-explorer-supporting-information\\.venv\\lib\\site-packages (from jedi>=0.16->ipython>=6.1.0->ipywidgets) (0.8.4)\n",
      "Requirement already satisfied: contourpy>=1.0.1 in c:\\users\\abueckle\\documents\\github\\hra-ftu-explorer-supporting-information\\.venv\\lib\\site-packages (from matplotlib>=3.7.5->scanpy) (1.3.3)\n",
      "Requirement already satisfied: cycler>=0.10 in c:\\users\\abueckle\\documents\\github\\hra-ftu-explorer-supporting-information\\.venv\\lib\\site-packages (from matplotlib>=3.7.5->scanpy) (0.12.1)\n",
      "Requirement already satisfied: fonttools>=4.22.0 in c:\\users\\abueckle\\documents\\github\\hra-ftu-explorer-supporting-information\\.venv\\lib\\site-packages (from matplotlib>=3.7.5->scanpy) (4.60.0)\n",
      "Requirement already satisfied: kiwisolver>=1.3.1 in c:\\users\\abueckle\\documents\\github\\hra-ftu-explorer-supporting-information\\.venv\\lib\\site-packages (from matplotlib>=3.7.5->scanpy) (1.4.9)\n",
      "Requirement already satisfied: pillow>=8 in c:\\users\\abueckle\\documents\\github\\hra-ftu-explorer-supporting-information\\.venv\\lib\\site-packages (from matplotlib>=3.7.5->scanpy) (11.3.0)\n",
      "Requirement already satisfied: pyparsing>=2.3.1 in c:\\users\\abueckle\\documents\\github\\hra-ftu-explorer-supporting-information\\.venv\\lib\\site-packages (from matplotlib>=3.7.5->scanpy) (3.2.5)\n",
      "Requirement already satisfied: llvmlite<0.46,>=0.45.0dev0 in c:\\users\\abueckle\\documents\\github\\hra-ftu-explorer-supporting-information\\.venv\\lib\\site-packages (from numba>=0.57.1->scanpy) (0.45.0)\n",
      "Requirement already satisfied: six>=1.5 in c:\\users\\abueckle\\documents\\github\\hra-ftu-explorer-supporting-information\\.venv\\lib\\site-packages (from python-dateutil>=2.8.2->pandas) (1.17.0)\n",
      "Requirement already satisfied: threadpoolctl>=3.1.0 in c:\\users\\abueckle\\documents\\github\\hra-ftu-explorer-supporting-information\\.venv\\lib\\site-packages (from scikit-learn>=1.1.3->scanpy) (3.6.0)\n",
      "Requirement already satisfied: donfig>=0.8 in c:\\users\\abueckle\\documents\\github\\hra-ftu-explorer-supporting-information\\.venv\\lib\\site-packages (from zarr!=3.0.*,>=2.18.7->anndata) (0.8.1.post1)\n",
      "Requirement already satisfied: numcodecs>=0.14 in c:\\users\\abueckle\\documents\\github\\hra-ftu-explorer-supporting-information\\.venv\\lib\\site-packages (from numcodecs[crc32c]>=0.14->zarr!=3.0.*,>=2.18.7->anndata) (0.16.3)\n",
      "Requirement already satisfied: pyyaml in c:\\users\\abueckle\\documents\\github\\hra-ftu-explorer-supporting-information\\.venv\\lib\\site-packages (from donfig>=0.8->zarr!=3.0.*,>=2.18.7->anndata) (6.0.2)\n",
      "Requirement already satisfied: crc32c>=2.7 in c:\\users\\abueckle\\documents\\github\\hra-ftu-explorer-supporting-information\\.venv\\lib\\site-packages (from numcodecs[crc32c]>=0.14->zarr!=3.0.*,>=2.18.7->anndata) (2.7.1)\n",
      "Requirement already satisfied: sniffio>=1.1 in c:\\users\\abueckle\\documents\\github\\hra-ftu-explorer-supporting-information\\.venv\\lib\\site-packages (from anyio->httpx>=0.22.0->biothings-client>=0.2.6->mygene) (1.3.1)\n",
      "Requirement already satisfied: psygnal>=0.8.1 in c:\\users\\abueckle\\documents\\github\\hra-ftu-explorer-supporting-information\\.venv\\lib\\site-packages (from anywidget->hra_jupyter_widgets) (0.14.1)\n",
      "Requirement already satisfied: executing>=1.2.0 in c:\\users\\abueckle\\documents\\github\\hra-ftu-explorer-supporting-information\\.venv\\lib\\site-packages (from stack_data->ipython>=6.1.0->ipywidgets) (2.2.0)\n",
      "Requirement already satisfied: asttokens>=2.1.0 in c:\\users\\abueckle\\documents\\github\\hra-ftu-explorer-supporting-information\\.venv\\lib\\site-packages (from stack_data->ipython>=6.1.0->ipywidgets) (3.0.0)\n",
      "Requirement already satisfied: pure-eval in c:\\users\\abueckle\\documents\\github\\hra-ftu-explorer-supporting-information\\.venv\\lib\\site-packages (from stack_data->ipython>=6.1.0->ipywidgets) (0.2.3)\n"
     ]
    }
   ],
   "source": [
    "%pip install numpy pandas scanpy anndata mygene ipywidgets hra_jupyter_widgets\n",
    "\n",
    "import os\n",
    "from pathlib import Path\n",
    "import shutil\n",
    "import numpy as np\n",
    "import pandas as pd\n",
    "import scanpy as sc\n",
    "import anndata as ad\n",
    "import csv\n",
    "import mygene\n",
    "import ipywidgets as widgets\n",
    "# Import hra-jupyter-widgets. For documentation, please see https://github.com/x-atlas-consortia/hra-jupyter-widgets/blob/main/usage.ipynb\n",
    "from hra_jupyter_widgets import FtuExplorerSmall\n",
    "\n",
    "import warnings\n",
    "warnings.filterwarnings(\"ignore\")"
   ]
  },
  {
   "cell_type": "markdown",
   "id": "473af2d8",
   "metadata": {},
   "source": [
    "## Global settings"
   ]
  },
  {
   "cell_type": "code",
   "execution_count": 57,
   "id": "fac5d71e",
   "metadata": {},
   "outputs": [],
   "source": [
    "organ_metadata = [\n",
    "    {\n",
    "        'name': 'kidney',\n",
    "        'url_counts': 'https://www.ebi.ac.uk/gxa/sc/experiment/E-CURD-119/download/zip?fileType=normalised',\n",
    "        'url_experimental_design': 'https://www.ebi.ac.uk/gxa/sc/experiment/E-CURD-119/download?fileType=experiment-design',\n",
    "        'experiment_id': 'E-CURD-119'\n",
    "    },\n",
    "    {\n",
    "        'name': 'liver',\n",
    "        'url_counts': 'https://www.ebi.ac.uk/gxa/sc/experiment/E-MTAB-10553/download/zip?fileType=normalised',\n",
    "        'url_experimental_design': 'https://www.ebi.ac.uk/gxa/sc/experiment/E-MTAB-10553/download?fileType=experiment-design',\n",
    "        'experiment_id': 'E-MTAB-10553'\n",
    "    },\n",
    "    {\n",
    "        'name': 'lung',\n",
    "        'url_counts': 'https://www.ebi.ac.uk/gxa/sc/experiment/E-GEOD-130148/download/zip?fileType=normalised',\n",
    "        'url_experimental_design': 'https://www.ebi.ac.uk/gxa/sc/experiment/E-GEOD-130148/download?fileType=experiment-design',\n",
    "        'experiment_id': 'E-GEOD-130148'\n",
    "    },\n",
    "    {\n",
    "        'name': 'pancreas',\n",
    "        'url_counts': 'https://www.ebi.ac.uk/gxa/sc/experiment/E-MTAB-5061/download/zip?fileType=normalised',\n",
    "        'url_experimental_design': 'https://www.ebi.ac.uk/gxa/sc/experiment/E-MTAB-5061/download?fileType=experiment-design',\n",
    "        'experiment_id': 'E-MTAB-5061'\n",
    "    }\n",
    "]"
   ]
  },
  {
   "cell_type": "markdown",
   "id": "5689572e",
   "metadata": {},
   "source": [
    "## Functions"
   ]
  },
  {
   "cell_type": "code",
   "execution_count": 58,
   "id": "14a7341b",
   "metadata": {},
   "outputs": [],
   "source": [
    "def download_file(url:str, file_name:str, sub_folder_name:str):\n",
    "  \"\"\"Downloads \n",
    "\n",
    "  Args:\n",
    "      url (str): URL for file download\n",
    "      file_name (str): file name\n",
    "      subfolder_name (str): subfolder name\n",
    "  \"\"\"\n",
    "  # Make sure the data folder is present\n",
    "  folder_path = f\"data/{sub_folder_name}\"\n",
    "\n",
    "  if not os.path.exists(folder_path):\n",
    "      os.makedirs(folder_path)\n",
    "      print(f\"Folder '{folder_path}' created.\")\n",
    "  else:\n",
    "      print(f\"Folder '{folder_path}' already exists.\")\n",
    "\n",
    "  # Define the path to the file. \n",
    "  file_path = f'{folder_path}/{file_name}'\n",
    "\n",
    "  # Check if the file exists\n",
    "  if not os.path.exists(file_path):\n",
    "      # If the file doesn't exist, run the curl command\n",
    "      !curl -L {url} -o {file_path}\n",
    "      print(f\"File downloaded and saved at {file_path}\")\n",
    "  else:\n",
    "      print(f\"File already exists at {file_path}\")"
   ]
  },
  {
   "cell_type": "code",
   "execution_count": 59,
   "id": "94cc2e64",
   "metadata": {},
   "outputs": [],
   "source": [
    "def unzip_to_folder(file_path: str, target_folder: str):\n",
    "    \"\"\"\n",
    "    Unzip the file at the specified file_path into target_folder,\n",
    "    but only if the folder is empty.\n",
    "\n",
    "    Args:\n",
    "        file_path (str): Path to the .zip (or other archive) file.\n",
    "        target_folder (str): Path where the archive should be extracted.\n",
    "    \"\"\"\n",
    "    target = Path(target_folder)\n",
    "\n",
    "    # Exclude the archive itself when checking contents\n",
    "    if target.exists() and any(\n",
    "        p.is_file() and p.suffix != \".zip\" and \".tsv\" not in p.name\n",
    "        for p in target.iterdir()\n",
    "    ):\n",
    "        print(f\"Skipped: {target} already contains extracted files.\")\n",
    "        return\n",
    "\n",
    "    # Otherwise, unzip\n",
    "    shutil.unpack_archive(file_path, target)\n",
    "    print(f\"Unzipped {file_path} → {target}\")"
   ]
  },
  {
   "cell_type": "code",
   "execution_count": 60,
   "id": "c4031e7d",
   "metadata": {},
   "outputs": [],
   "source": [
    "def download_anatomogram_data(url_counts:str, url_experiment:str, experiment_name:str, organ_name:str):\n",
    "  \"\"\"Download and unzip anatomogram data for a given organ.\n",
    "\n",
    "    Args:\n",
    "        url_counts (str): The URL to download the data from.\n",
    "        url_experiment (str): The URL to download the experimental metadata from.\n",
    "        url_experiment (str): The name for the experimental design file.\n",
    "        organ_name (str): The name of the organ (used for file and folder names).\n",
    "  \"\"\"\n",
    "  download_file(url_counts, f'{organ_name}.zip', f'{organ_name}')\n",
    "  download_file(url_experiment, f'{experiment_name}.tsv', f'{organ_name}')\n",
    "  unzip_to_folder(f'data/{organ_name}/{organ_name}.zip', f'data/{organ_name}')"
   ]
  },
  {
   "cell_type": "markdown",
   "id": "acc856c4",
   "metadata": {},
   "source": [
    "## Download all data"
   ]
  },
  {
   "cell_type": "code",
   "execution_count": 61,
   "id": "2d395323",
   "metadata": {},
   "outputs": [
    {
     "name": "stdout",
     "output_type": "stream",
     "text": [
      "Folder 'data/kidney' already exists.\n",
      "File already exists at data/kidney/kidney.zip\n",
      "Folder 'data/kidney' already exists.\n",
      "File already exists at data/kidney/E-CURD-119.tsv\n",
      "Skipped: data\\kidney already contains extracted files.\n",
      "Folder 'data/liver' already exists.\n",
      "File already exists at data/liver/liver.zip\n",
      "Folder 'data/liver' already exists.\n",
      "File already exists at data/liver/E-MTAB-10553.tsv\n",
      "Skipped: data\\liver already contains extracted files.\n",
      "Folder 'data/lung' already exists.\n",
      "File already exists at data/lung/lung.zip\n",
      "Folder 'data/lung' already exists.\n",
      "File already exists at data/lung/E-GEOD-130148.tsv\n",
      "Skipped: data\\lung already contains extracted files.\n",
      "Folder 'data/pancreas' already exists.\n",
      "File already exists at data/pancreas/pancreas.zip\n",
      "Folder 'data/pancreas' already exists.\n",
      "File already exists at data/pancreas/E-MTAB-5061.tsv\n",
      "Skipped: data\\pancreas already contains extracted files.\n"
     ]
    }
   ],
   "source": [
    "for organ in organ_metadata:\n",
    "  download_anatomogram_data(\n",
    "      organ['url_counts'],\n",
    "      organ['url_experimental_design'],\n",
    "      organ['experiment_id'],\n",
    "      organ['name']\n",
    "  )"
   ]
  },
  {
   "cell_type": "markdown",
   "id": "13343c09",
   "metadata": {},
   "source": [
    "## Process kidney data"
   ]
  },
  {
   "cell_type": "code",
   "execution_count": 62,
   "id": "0c95ddc2",
   "metadata": {},
   "outputs": [],
   "source": [
    "anndata_kidney = sc.read_mtx('data/kidney/E-CURD-119.aggregated_filtered_normalised_counts.mtx')\n",
    "df_kidney = anndata_kidney.to_df()\n",
    "df_kidney"
   ]
  },
  {
   "cell_type": "code",
   "execution_count": null,
   "id": "58529119",
   "metadata": {},
   "outputs": [
    {
     "ename": "AttributeError",
     "evalue": "'AnnData' object has no attribute 'colums'",
     "output_type": "error",
     "traceback": [
      "\u001b[1;31m---------------------------------------------------------------------------\u001b[0m",
      "\u001b[1;31mAttributeError\u001b[0m                            Traceback (most recent call last)",
      "Cell \u001b[1;32mIn[82], line 1\u001b[0m\n\u001b[1;32m----> 1\u001b[0m \u001b[43manndata_kidney\u001b[49m\u001b[38;5;241;43m.\u001b[39;49m\u001b[43mcolums\u001b[49m\n",
      "\u001b[1;31mAttributeError\u001b[0m: 'AnnData' object has no attribute 'colums'"
     ]
    }
   ],
   "source": [
    "anndata_kidney."
   ]
  },
  {
   "cell_type": "code",
   "execution_count": null,
   "id": "c8e767d7",
   "metadata": {},
   "outputs": [
    {
     "ename": "TypeError",
     "evalue": "rank_genes_groups() missing 1 required positional argument: 'groupby'",
     "output_type": "error",
     "traceback": [
      "\u001b[1;31m---------------------------------------------------------------------------\u001b[0m",
      "\u001b[1;31mTypeError\u001b[0m                                 Traceback (most recent call last)",
      "Cell \u001b[1;32mIn[81], line 1\u001b[0m\n\u001b[1;32m----> 1\u001b[0m \u001b[43msc\u001b[49m\u001b[38;5;241;43m.\u001b[39;49m\u001b[43mtl\u001b[49m\u001b[38;5;241;43m.\u001b[39;49m\u001b[43mrank_genes_groups\u001b[49m\u001b[43m(\u001b[49m\u001b[43manndata_kidney\u001b[49m\u001b[43m)\u001b[49m\n",
      "File \u001b[1;32mc:\\Users\\abueckle\\Documents\\GitHub\\hra-ftu-explorer-supporting-information\\.venv\\Lib\\site-packages\\legacy_api_wrap\\__init__.py:82\u001b[0m, in \u001b[0;36mlegacy_api.<locals>.wrapper.<locals>.fn_compatible\u001b[1;34m(*args_all, **kw)\u001b[0m\n\u001b[0;32m     79\u001b[0m \u001b[38;5;129m@wraps\u001b[39m(fn)\n\u001b[0;32m     80\u001b[0m \u001b[38;5;28;01mdef\u001b[39;00m\u001b[38;5;250m \u001b[39m\u001b[38;5;21mfn_compatible\u001b[39m(\u001b[38;5;241m*\u001b[39margs_all: P\u001b[38;5;241m.\u001b[39margs, \u001b[38;5;241m*\u001b[39m\u001b[38;5;241m*\u001b[39mkw: P\u001b[38;5;241m.\u001b[39mkwargs) \u001b[38;5;241m-\u001b[39m\u001b[38;5;241m>\u001b[39m R:\n\u001b[0;32m     81\u001b[0m     \u001b[38;5;28;01mif\u001b[39;00m \u001b[38;5;28mlen\u001b[39m(args_all) \u001b[38;5;241m<\u001b[39m\u001b[38;5;241m=\u001b[39m n_positional:\n\u001b[1;32m---> 82\u001b[0m         \u001b[38;5;28;01mreturn\u001b[39;00m \u001b[43mfn\u001b[49m\u001b[43m(\u001b[49m\u001b[38;5;241;43m*\u001b[39;49m\u001b[43margs_all\u001b[49m\u001b[43m,\u001b[49m\u001b[43m \u001b[49m\u001b[38;5;241;43m*\u001b[39;49m\u001b[38;5;241;43m*\u001b[39;49m\u001b[43mkw\u001b[49m\u001b[43m)\u001b[49m\n\u001b[0;32m     84\u001b[0m     args_pos: P\u001b[38;5;241m.\u001b[39margs\n\u001b[0;32m     85\u001b[0m     args_pos, args_rest \u001b[38;5;241m=\u001b[39m args_all[:n_positional], args_all[n_positional:]\n",
      "\u001b[1;31mTypeError\u001b[0m: rank_genes_groups() missing 1 required positional argument: 'groupby'"
     ]
    }
   ],
   "source": [
    "sc.tl.rank_genes_groups(anndata_kidney, groupby='', n_genes=10)"
   ]
  },
  {
   "cell_type": "code",
   "execution_count": 64,
   "id": "f88c37d2",
   "metadata": {},
   "outputs": [],
   "source": [
    "# Load genes and cell type information for kidney\n",
    "rows_kidney = pd.read_csv('data/kidney/E-CURD-119.aggregated_filtered_normalised_counts.mtx_rows',names=['col1', 'col2'], sep='\\t').drop(['col2'], axis=1)\n",
    "cols_kidney = pd.read_csv('data/kidney/E-CURD-119.aggregated_filtered_normalised_counts.mtx_cols', names=['col1'])"
   ]
  },
  {
   "cell_type": "code",
   "execution_count": 65,
   "id": "5efaaffe",
   "metadata": {},
   "outputs": [
    {
     "data": {
      "application/vnd.microsoft.datawrangler.viewer.v0+json": {
       "columns": [
        {
         "name": "index",
         "rawType": "int64",
         "type": "integer"
        },
        {
         "name": "col1",
         "rawType": "object",
         "type": "string"
        }
       ],
       "ref": "56d31a41-46c1-4e9c-b14c-8aec8a44be14",
       "rows": [
        [
         "0",
         "ENSG00000000003"
        ],
        [
         "1",
         "ENSG00000000005"
        ],
        [
         "2",
         "ENSG00000000419"
        ],
        [
         "3",
         "ENSG00000000457"
        ],
        [
         "4",
         "ENSG00000000460"
        ],
        [
         "5",
         "ENSG00000000938"
        ],
        [
         "6",
         "ENSG00000000971"
        ],
        [
         "7",
         "ENSG00000001036"
        ],
        [
         "8",
         "ENSG00000001084"
        ],
        [
         "9",
         "ENSG00000001167"
        ],
        [
         "10",
         "ENSG00000001460"
        ],
        [
         "11",
         "ENSG00000001461"
        ],
        [
         "12",
         "ENSG00000001497"
        ],
        [
         "13",
         "ENSG00000001561"
        ],
        [
         "14",
         "ENSG00000001617"
        ],
        [
         "15",
         "ENSG00000001626"
        ],
        [
         "16",
         "ENSG00000001629"
        ],
        [
         "17",
         "ENSG00000001630"
        ],
        [
         "18",
         "ENSG00000001631"
        ],
        [
         "19",
         "ENSG00000002016"
        ],
        [
         "20",
         "ENSG00000002079"
        ],
        [
         "21",
         "ENSG00000002330"
        ],
        [
         "22",
         "ENSG00000002549"
        ],
        [
         "23",
         "ENSG00000002586"
        ],
        [
         "24",
         "ENSG00000002587"
        ],
        [
         "25",
         "ENSG00000002726"
        ],
        [
         "26",
         "ENSG00000002745"
        ],
        [
         "27",
         "ENSG00000002746"
        ],
        [
         "28",
         "ENSG00000002822"
        ],
        [
         "29",
         "ENSG00000002834"
        ],
        [
         "30",
         "ENSG00000002919"
        ],
        [
         "31",
         "ENSG00000002933"
        ],
        [
         "32",
         "ENSG00000003056"
        ],
        [
         "33",
         "ENSG00000003096"
        ],
        [
         "34",
         "ENSG00000003137"
        ],
        [
         "35",
         "ENSG00000003147"
        ],
        [
         "36",
         "ENSG00000003249"
        ],
        [
         "37",
         "ENSG00000003393"
        ],
        [
         "38",
         "ENSG00000003400"
        ],
        [
         "39",
         "ENSG00000003402"
        ],
        [
         "40",
         "ENSG00000003436"
        ],
        [
         "41",
         "ENSG00000003509"
        ],
        [
         "42",
         "ENSG00000003756"
        ],
        [
         "43",
         "ENSG00000003987"
        ],
        [
         "44",
         "ENSG00000003989"
        ],
        [
         "45",
         "ENSG00000004059"
        ],
        [
         "46",
         "ENSG00000004139"
        ],
        [
         "47",
         "ENSG00000004142"
        ],
        [
         "48",
         "ENSG00000004399"
        ],
        [
         "49",
         "ENSG00000004455"
        ]
       ],
       "shape": {
        "columns": 1,
        "rows": 38917
       }
      },
      "text/html": [
       "<div>\n",
       "<style scoped>\n",
       "    .dataframe tbody tr th:only-of-type {\n",
       "        vertical-align: middle;\n",
       "    }\n",
       "\n",
       "    .dataframe tbody tr th {\n",
       "        vertical-align: top;\n",
       "    }\n",
       "\n",
       "    .dataframe thead th {\n",
       "        text-align: right;\n",
       "    }\n",
       "</style>\n",
       "<table border=\"1\" class=\"dataframe\">\n",
       "  <thead>\n",
       "    <tr style=\"text-align: right;\">\n",
       "      <th></th>\n",
       "      <th>col1</th>\n",
       "    </tr>\n",
       "  </thead>\n",
       "  <tbody>\n",
       "    <tr>\n",
       "      <th>0</th>\n",
       "      <td>ENSG00000000003</td>\n",
       "    </tr>\n",
       "    <tr>\n",
       "      <th>1</th>\n",
       "      <td>ENSG00000000005</td>\n",
       "    </tr>\n",
       "    <tr>\n",
       "      <th>2</th>\n",
       "      <td>ENSG00000000419</td>\n",
       "    </tr>\n",
       "    <tr>\n",
       "      <th>3</th>\n",
       "      <td>ENSG00000000457</td>\n",
       "    </tr>\n",
       "    <tr>\n",
       "      <th>4</th>\n",
       "      <td>ENSG00000000460</td>\n",
       "    </tr>\n",
       "    <tr>\n",
       "      <th>...</th>\n",
       "      <td>...</td>\n",
       "    </tr>\n",
       "    <tr>\n",
       "      <th>38912</th>\n",
       "      <td>ENSG00000290147</td>\n",
       "    </tr>\n",
       "    <tr>\n",
       "      <th>38913</th>\n",
       "      <td>ENSG00000290149</td>\n",
       "    </tr>\n",
       "    <tr>\n",
       "      <th>38914</th>\n",
       "      <td>ENSG00000290163</td>\n",
       "    </tr>\n",
       "    <tr>\n",
       "      <th>38915</th>\n",
       "      <td>ENSG00000290164</td>\n",
       "    </tr>\n",
       "    <tr>\n",
       "      <th>38916</th>\n",
       "      <td>ENSG00000290165</td>\n",
       "    </tr>\n",
       "  </tbody>\n",
       "</table>\n",
       "<p>38917 rows × 1 columns</p>\n",
       "</div>"
      ],
      "text/plain": [
       "                  col1\n",
       "0      ENSG00000000003\n",
       "1      ENSG00000000005\n",
       "2      ENSG00000000419\n",
       "3      ENSG00000000457\n",
       "4      ENSG00000000460\n",
       "...                ...\n",
       "38912  ENSG00000290147\n",
       "38913  ENSG00000290149\n",
       "38914  ENSG00000290163\n",
       "38915  ENSG00000290164\n",
       "38916  ENSG00000290165\n",
       "\n",
       "[38917 rows x 1 columns]"
      ]
     },
     "execution_count": 65,
     "metadata": {},
     "output_type": "execute_result"
    }
   ],
   "source": [
    "rows_kidney"
   ]
  },
  {
   "cell_type": "code",
   "execution_count": 66,
   "id": "89cc6b63",
   "metadata": {},
   "outputs": [
    {
     "data": {
      "application/vnd.microsoft.datawrangler.viewer.v0+json": {
       "columns": [
        {
         "name": "index",
         "rawType": "int64",
         "type": "integer"
        },
        {
         "name": "col1",
         "rawType": "object",
         "type": "string"
        }
       ],
       "ref": "7e20114c-272f-414e-acde-dfee389f07e8",
       "rows": [
        [
         "0",
         "SAMN15040593-AAACCTGAGGACATTA"
        ],
        [
         "1",
         "SAMN15040593-AAACCTGCAGCTCGAC"
        ],
        [
         "2",
         "SAMN15040593-AAACCTGCAGTATAAG"
        ],
        [
         "3",
         "SAMN15040593-AAACCTGCATGCCTAA"
        ],
        [
         "4",
         "SAMN15040593-AAACCTGGTATAGTAG"
        ],
        [
         "5",
         "SAMN15040593-AAACCTGGTCCGAATT"
        ],
        [
         "6",
         "SAMN15040593-AAACCTGGTCCGAGTC"
        ],
        [
         "7",
         "SAMN15040593-AAACCTGGTCTAGCCG"
        ],
        [
         "8",
         "SAMN15040593-AAACCTGGTGATGTCT"
        ],
        [
         "9",
         "SAMN15040593-AAACCTGGTGTCAATC"
        ],
        [
         "10",
         "SAMN15040593-AAACCTGTCAACCAAC"
        ],
        [
         "11",
         "SAMN15040593-AAACCTGTCAATAAGG"
        ],
        [
         "12",
         "SAMN15040593-AAACCTGTCATAACCG"
        ],
        [
         "13",
         "SAMN15040593-AAACCTGTCATGCAAC"
        ],
        [
         "14",
         "SAMN15040593-AAACCTGTCTCGAGTA"
        ],
        [
         "15",
         "SAMN15040593-AAACCTGTCTGAGGGA"
        ],
        [
         "16",
         "SAMN15040593-AAACCTGTCTTACCTA"
        ],
        [
         "17",
         "SAMN15040593-AAACGGGAGACTACAA"
        ],
        [
         "18",
         "SAMN15040593-AAACGGGAGAGGTTGC"
        ],
        [
         "19",
         "SAMN15040593-AAACGGGAGCTGGAAC"
        ],
        [
         "20",
         "SAMN15040593-AAACGGGAGTACATGA"
        ],
        [
         "21",
         "SAMN15040593-AAACGGGAGTATTGGA"
        ],
        [
         "22",
         "SAMN15040593-AAACGGGCAAAGCGGT"
        ],
        [
         "23",
         "SAMN15040593-AAACGGGCAATCACAC"
        ],
        [
         "24",
         "SAMN15040593-AAACGGGCACCAGGTC"
        ],
        [
         "25",
         "SAMN15040593-AAACGGGCATTACGAC"
        ],
        [
         "26",
         "SAMN15040593-AAACGGGGTCGCGAAA"
        ],
        [
         "27",
         "SAMN15040593-AAACGGGGTTATCGGT"
        ],
        [
         "28",
         "SAMN15040593-AAACGGGTCACAAACC"
        ],
        [
         "29",
         "SAMN15040593-AAACGGGTCACTCTTA"
        ],
        [
         "30",
         "SAMN15040593-AAACGGGTCCGTAGGC"
        ],
        [
         "31",
         "SAMN15040593-AAAGATGAGATGTCGG"
        ],
        [
         "32",
         "SAMN15040593-AAAGATGAGGCGATAC"
        ],
        [
         "33",
         "SAMN15040593-AAAGATGAGTTCGATC"
        ],
        [
         "34",
         "SAMN15040593-AAAGATGCAATCCGAT"
        ],
        [
         "35",
         "SAMN15040593-AAAGATGCAATTGCTG"
        ],
        [
         "36",
         "SAMN15040593-AAAGATGGTCTGCAAT"
        ],
        [
         "37",
         "SAMN15040593-AAAGATGGTTGACGTT"
        ],
        [
         "38",
         "SAMN15040593-AAAGATGTCAAACGGG"
        ],
        [
         "39",
         "SAMN15040593-AAAGATGTCGTTACGA"
        ],
        [
         "40",
         "SAMN15040593-AAAGATGTCTTGAGGT"
        ],
        [
         "41",
         "SAMN15040593-AAAGCAAAGAGTGAGA"
        ],
        [
         "42",
         "SAMN15040593-AAAGCAAAGCTAGCCC"
        ],
        [
         "43",
         "SAMN15040593-AAAGCAAAGGATGGAA"
        ],
        [
         "44",
         "SAMN15040593-AAAGCAACAAAGAATC"
        ],
        [
         "45",
         "SAMN15040593-AAAGCAACAAAGGAAG"
        ],
        [
         "46",
         "SAMN15040593-AAAGCAACAACGATGG"
        ],
        [
         "47",
         "SAMN15040593-AAAGCAACAAGACGTG"
        ],
        [
         "48",
         "SAMN15040593-AAAGCAACACGAAAGC"
        ],
        [
         "49",
         "SAMN15040593-AAAGCAACACGAAATA"
        ]
       ],
       "shape": {
        "columns": 1,
        "rows": 30589
       }
      },
      "text/html": [
       "<div>\n",
       "<style scoped>\n",
       "    .dataframe tbody tr th:only-of-type {\n",
       "        vertical-align: middle;\n",
       "    }\n",
       "\n",
       "    .dataframe tbody tr th {\n",
       "        vertical-align: top;\n",
       "    }\n",
       "\n",
       "    .dataframe thead th {\n",
       "        text-align: right;\n",
       "    }\n",
       "</style>\n",
       "<table border=\"1\" class=\"dataframe\">\n",
       "  <thead>\n",
       "    <tr style=\"text-align: right;\">\n",
       "      <th></th>\n",
       "      <th>col1</th>\n",
       "    </tr>\n",
       "  </thead>\n",
       "  <tbody>\n",
       "    <tr>\n",
       "      <th>0</th>\n",
       "      <td>SAMN15040593-AAACCTGAGGACATTA</td>\n",
       "    </tr>\n",
       "    <tr>\n",
       "      <th>1</th>\n",
       "      <td>SAMN15040593-AAACCTGCAGCTCGAC</td>\n",
       "    </tr>\n",
       "    <tr>\n",
       "      <th>2</th>\n",
       "      <td>SAMN15040593-AAACCTGCAGTATAAG</td>\n",
       "    </tr>\n",
       "    <tr>\n",
       "      <th>3</th>\n",
       "      <td>SAMN15040593-AAACCTGCATGCCTAA</td>\n",
       "    </tr>\n",
       "    <tr>\n",
       "      <th>4</th>\n",
       "      <td>SAMN15040593-AAACCTGGTATAGTAG</td>\n",
       "    </tr>\n",
       "    <tr>\n",
       "      <th>...</th>\n",
       "      <td>...</td>\n",
       "    </tr>\n",
       "    <tr>\n",
       "      <th>30584</th>\n",
       "      <td>SAMN15040597-TTTGTCATCACAGGCC</td>\n",
       "    </tr>\n",
       "    <tr>\n",
       "      <th>30585</th>\n",
       "      <td>SAMN15040597-TTTGTCATCACCAGGC</td>\n",
       "    </tr>\n",
       "    <tr>\n",
       "      <th>30586</th>\n",
       "      <td>SAMN15040597-TTTGTCATCACCGTAA</td>\n",
       "    </tr>\n",
       "    <tr>\n",
       "      <th>30587</th>\n",
       "      <td>SAMN15040597-TTTGTCATCCTACAGA</td>\n",
       "    </tr>\n",
       "    <tr>\n",
       "      <th>30588</th>\n",
       "      <td>SAMN15040597-TTTGTCATCGGCGCTA</td>\n",
       "    </tr>\n",
       "  </tbody>\n",
       "</table>\n",
       "<p>30589 rows × 1 columns</p>\n",
       "</div>"
      ],
      "text/plain": [
       "                                col1\n",
       "0      SAMN15040593-AAACCTGAGGACATTA\n",
       "1      SAMN15040593-AAACCTGCAGCTCGAC\n",
       "2      SAMN15040593-AAACCTGCAGTATAAG\n",
       "3      SAMN15040593-AAACCTGCATGCCTAA\n",
       "4      SAMN15040593-AAACCTGGTATAGTAG\n",
       "...                              ...\n",
       "30584  SAMN15040597-TTTGTCATCACAGGCC\n",
       "30585  SAMN15040597-TTTGTCATCACCAGGC\n",
       "30586  SAMN15040597-TTTGTCATCACCGTAA\n",
       "30587  SAMN15040597-TTTGTCATCCTACAGA\n",
       "30588  SAMN15040597-TTTGTCATCGGCGCTA\n",
       "\n",
       "[30589 rows x 1 columns]"
      ]
     },
     "execution_count": 66,
     "metadata": {},
     "output_type": "execute_result"
    }
   ],
   "source": [
    "cols_kidney"
   ]
  },
  {
   "cell_type": "code",
   "execution_count": 67,
   "id": "5f28ce61",
   "metadata": {},
   "outputs": [
    {
     "data": {
      "application/vnd.microsoft.datawrangler.viewer.v0+json": {
       "columns": [
        {
         "name": "index",
         "rawType": "int64",
         "type": "integer"
        },
        {
         "name": "Assay",
         "rawType": "object",
         "type": "string"
        },
        {
         "name": "Sample Characteristic[organism]",
         "rawType": "object",
         "type": "string"
        },
        {
         "name": "Sample Characteristic Ontology Term[organism]",
         "rawType": "object",
         "type": "string"
        },
        {
         "name": "Sample Characteristic[individual]",
         "rawType": "object",
         "type": "string"
        },
        {
         "name": "Sample Characteristic Ontology Term[individual]",
         "rawType": "float64",
         "type": "float"
        },
        {
         "name": "Sample Characteristic[ethnic group]",
         "rawType": "object",
         "type": "string"
        },
        {
         "name": "Sample Characteristic Ontology Term[ethnic group]",
         "rawType": "object",
         "type": "string"
        },
        {
         "name": "Sample Characteristic[sex]",
         "rawType": "object",
         "type": "string"
        },
        {
         "name": "Sample Characteristic Ontology Term[sex]",
         "rawType": "object",
         "type": "string"
        },
        {
         "name": "Sample Characteristic[age]",
         "rawType": "object",
         "type": "string"
        },
        {
         "name": "Sample Characteristic Ontology Term[age]",
         "rawType": "float64",
         "type": "float"
        },
        {
         "name": "Sample Characteristic[developmental stage]",
         "rawType": "object",
         "type": "string"
        },
        {
         "name": "Sample Characteristic Ontology Term[developmental stage]",
         "rawType": "object",
         "type": "string"
        },
        {
         "name": "Sample Characteristic[disease]",
         "rawType": "object",
         "type": "string"
        },
        {
         "name": "Sample Characteristic Ontology Term[disease]",
         "rawType": "object",
         "type": "string"
        },
        {
         "name": "Sample Characteristic[organism part]",
         "rawType": "object",
         "type": "string"
        },
        {
         "name": "Sample Characteristic Ontology Term[organism part]",
         "rawType": "object",
         "type": "string"
        },
        {
         "name": "Sample Characteristic[clinical information]",
         "rawType": "object",
         "type": "string"
        },
        {
         "name": "Sample Characteristic Ontology Term[clinical information]",
         "rawType": "float64",
         "type": "float"
        },
        {
         "name": "Factor Value[sex]",
         "rawType": "object",
         "type": "string"
        },
        {
         "name": "Factor Value Ontology Term[sex]",
         "rawType": "object",
         "type": "string"
        },
        {
         "name": "Factor Value[inferred cell type - ontology labels]",
         "rawType": "object",
         "type": "unknown"
        },
        {
         "name": "Factor Value Ontology Term[inferred cell type - ontology labels]",
         "rawType": "object",
         "type": "unknown"
        },
        {
         "name": "Factor Value[inferred cell type - authors labels]",
         "rawType": "object",
         "type": "unknown"
        },
        {
         "name": "Factor Value Ontology Term[inferred cell type - authors labels]",
         "rawType": "object",
         "type": "unknown"
        }
       ],
       "ref": "b6fc0ea4-fbc2-4ecd-a9f5-07588869e265",
       "rows": [
        [
         "0",
         "SAMN15040593-AAACCTGAGGACATTA",
         "Homo sapiens",
         "http://purl.obolibrary.org/obo/NCBITaxon_9606",
         "Healthy5",
         null,
         "European",
         "http://purl.obolibrary.org/obo/HANCESTRO_0005",
         "female",
         "http://purl.obolibrary.org/obo/PATO_0000383",
         "52 year",
         null,
         "adult",
         "http://www.ebi.ac.uk/efo/EFO_0001272",
         "normal",
         "http://purl.obolibrary.org/obo/PATO_0000461",
         "cortex of kidney",
         "http://purl.obolibrary.org/obo/UBERON_0001225",
         "glomerular filtration rate 98 ml/min/1.73âm2, global glomerulosclerosis none <10%, interstitial fibrosis and tubular atrophy 1-10%",
         null,
         "female",
         "http://purl.obolibrary.org/obo/PATO_0000383",
         "kidney loop of Henle thick ascending limb epithelial cell",
         "http://purl.obolibrary.org/obo/CL_1001106",
         "thick ascending limb",
         null
        ],
        [
         "1",
         "SAMN15040593-AAACCTGCAGCTCGAC",
         "Homo sapiens",
         "http://purl.obolibrary.org/obo/NCBITaxon_9606",
         "Healthy5",
         null,
         "European",
         "http://purl.obolibrary.org/obo/HANCESTRO_0005",
         "female",
         "http://purl.obolibrary.org/obo/PATO_0000383",
         "52 year",
         null,
         "adult",
         "http://www.ebi.ac.uk/efo/EFO_0001272",
         "normal",
         "http://purl.obolibrary.org/obo/PATO_0000461",
         "cortex of kidney",
         "http://purl.obolibrary.org/obo/UBERON_0001225",
         "glomerular filtration rate 98 ml/min/1.73âm2, global glomerulosclerosis none <10%, interstitial fibrosis and tubular atrophy 1-10%",
         null,
         "female",
         "http://purl.obolibrary.org/obo/PATO_0000383",
         null,
         null,
         null,
         null
        ],
        [
         "2",
         "SAMN15040593-AAACCTGCAGTATAAG",
         "Homo sapiens",
         "http://purl.obolibrary.org/obo/NCBITaxon_9606",
         "Healthy5",
         null,
         "European",
         "http://purl.obolibrary.org/obo/HANCESTRO_0005",
         "female",
         "http://purl.obolibrary.org/obo/PATO_0000383",
         "52 year",
         null,
         "adult",
         "http://www.ebi.ac.uk/efo/EFO_0001272",
         "normal",
         "http://purl.obolibrary.org/obo/PATO_0000461",
         "cortex of kidney",
         "http://purl.obolibrary.org/obo/UBERON_0001225",
         "glomerular filtration rate 98 ml/min/1.73âm2, global glomerulosclerosis none <10%, interstitial fibrosis and tubular atrophy 1-10%",
         null,
         "female",
         "http://purl.obolibrary.org/obo/PATO_0000383",
         null,
         null,
         null,
         null
        ],
        [
         "3",
         "SAMN15040593-AAACCTGCATGCCTAA",
         "Homo sapiens",
         "http://purl.obolibrary.org/obo/NCBITaxon_9606",
         "Healthy5",
         null,
         "European",
         "http://purl.obolibrary.org/obo/HANCESTRO_0005",
         "female",
         "http://purl.obolibrary.org/obo/PATO_0000383",
         "52 year",
         null,
         "adult",
         "http://www.ebi.ac.uk/efo/EFO_0001272",
         "normal",
         "http://purl.obolibrary.org/obo/PATO_0000461",
         "cortex of kidney",
         "http://purl.obolibrary.org/obo/UBERON_0001225",
         "glomerular filtration rate 98 ml/min/1.73âm2, global glomerulosclerosis none <10%, interstitial fibrosis and tubular atrophy 1-10%",
         null,
         "female",
         "http://purl.obolibrary.org/obo/PATO_0000383",
         null,
         null,
         null,
         null
        ],
        [
         "4",
         "SAMN15040593-AAACCTGGTATAGTAG",
         "Homo sapiens",
         "http://purl.obolibrary.org/obo/NCBITaxon_9606",
         "Healthy5",
         null,
         "European",
         "http://purl.obolibrary.org/obo/HANCESTRO_0005",
         "female",
         "http://purl.obolibrary.org/obo/PATO_0000383",
         "52 year",
         null,
         "adult",
         "http://www.ebi.ac.uk/efo/EFO_0001272",
         "normal",
         "http://purl.obolibrary.org/obo/PATO_0000461",
         "cortex of kidney",
         "http://purl.obolibrary.org/obo/UBERON_0001225",
         "glomerular filtration rate 98 ml/min/1.73âm2, global glomerulosclerosis none <10%, interstitial fibrosis and tubular atrophy 1-10%",
         null,
         "female",
         "http://purl.obolibrary.org/obo/PATO_0000383",
         null,
         null,
         null,
         null
        ]
       ],
       "shape": {
        "columns": 25,
        "rows": 5
       }
      },
      "text/html": [
       "<div>\n",
       "<style scoped>\n",
       "    .dataframe tbody tr th:only-of-type {\n",
       "        vertical-align: middle;\n",
       "    }\n",
       "\n",
       "    .dataframe tbody tr th {\n",
       "        vertical-align: top;\n",
       "    }\n",
       "\n",
       "    .dataframe thead th {\n",
       "        text-align: right;\n",
       "    }\n",
       "</style>\n",
       "<table border=\"1\" class=\"dataframe\">\n",
       "  <thead>\n",
       "    <tr style=\"text-align: right;\">\n",
       "      <th></th>\n",
       "      <th>Assay</th>\n",
       "      <th>Sample Characteristic[organism]</th>\n",
       "      <th>Sample Characteristic Ontology Term[organism]</th>\n",
       "      <th>Sample Characteristic[individual]</th>\n",
       "      <th>Sample Characteristic Ontology Term[individual]</th>\n",
       "      <th>Sample Characteristic[ethnic group]</th>\n",
       "      <th>Sample Characteristic Ontology Term[ethnic group]</th>\n",
       "      <th>Sample Characteristic[sex]</th>\n",
       "      <th>Sample Characteristic Ontology Term[sex]</th>\n",
       "      <th>Sample Characteristic[age]</th>\n",
       "      <th>...</th>\n",
       "      <th>Sample Characteristic[organism part]</th>\n",
       "      <th>Sample Characteristic Ontology Term[organism part]</th>\n",
       "      <th>Sample Characteristic[clinical information]</th>\n",
       "      <th>Sample Characteristic Ontology Term[clinical information]</th>\n",
       "      <th>Factor Value[sex]</th>\n",
       "      <th>Factor Value Ontology Term[sex]</th>\n",
       "      <th>Factor Value[inferred cell type - ontology labels]</th>\n",
       "      <th>Factor Value Ontology Term[inferred cell type - ontology labels]</th>\n",
       "      <th>Factor Value[inferred cell type - authors labels]</th>\n",
       "      <th>Factor Value Ontology Term[inferred cell type - authors labels]</th>\n",
       "    </tr>\n",
       "  </thead>\n",
       "  <tbody>\n",
       "    <tr>\n",
       "      <th>0</th>\n",
       "      <td>SAMN15040593-AAACCTGAGGACATTA</td>\n",
       "      <td>Homo sapiens</td>\n",
       "      <td>http://purl.obolibrary.org/obo/NCBITaxon_9606</td>\n",
       "      <td>Healthy5</td>\n",
       "      <td>NaN</td>\n",
       "      <td>European</td>\n",
       "      <td>http://purl.obolibrary.org/obo/HANCESTRO_0005</td>\n",
       "      <td>female</td>\n",
       "      <td>http://purl.obolibrary.org/obo/PATO_0000383</td>\n",
       "      <td>52 year</td>\n",
       "      <td>...</td>\n",
       "      <td>cortex of kidney</td>\n",
       "      <td>http://purl.obolibrary.org/obo/UBERON_0001225</td>\n",
       "      <td>glomerular filtration rate 98 ml/min/1.73âm2...</td>\n",
       "      <td>NaN</td>\n",
       "      <td>female</td>\n",
       "      <td>http://purl.obolibrary.org/obo/PATO_0000383</td>\n",
       "      <td>kidney loop of Henle thick ascending limb epit...</td>\n",
       "      <td>http://purl.obolibrary.org/obo/CL_1001106</td>\n",
       "      <td>thick ascending limb</td>\n",
       "      <td>NaN</td>\n",
       "    </tr>\n",
       "    <tr>\n",
       "      <th>1</th>\n",
       "      <td>SAMN15040593-AAACCTGCAGCTCGAC</td>\n",
       "      <td>Homo sapiens</td>\n",
       "      <td>http://purl.obolibrary.org/obo/NCBITaxon_9606</td>\n",
       "      <td>Healthy5</td>\n",
       "      <td>NaN</td>\n",
       "      <td>European</td>\n",
       "      <td>http://purl.obolibrary.org/obo/HANCESTRO_0005</td>\n",
       "      <td>female</td>\n",
       "      <td>http://purl.obolibrary.org/obo/PATO_0000383</td>\n",
       "      <td>52 year</td>\n",
       "      <td>...</td>\n",
       "      <td>cortex of kidney</td>\n",
       "      <td>http://purl.obolibrary.org/obo/UBERON_0001225</td>\n",
       "      <td>glomerular filtration rate 98 ml/min/1.73âm2...</td>\n",
       "      <td>NaN</td>\n",
       "      <td>female</td>\n",
       "      <td>http://purl.obolibrary.org/obo/PATO_0000383</td>\n",
       "      <td>NaN</td>\n",
       "      <td>NaN</td>\n",
       "      <td>NaN</td>\n",
       "      <td>NaN</td>\n",
       "    </tr>\n",
       "    <tr>\n",
       "      <th>2</th>\n",
       "      <td>SAMN15040593-AAACCTGCAGTATAAG</td>\n",
       "      <td>Homo sapiens</td>\n",
       "      <td>http://purl.obolibrary.org/obo/NCBITaxon_9606</td>\n",
       "      <td>Healthy5</td>\n",
       "      <td>NaN</td>\n",
       "      <td>European</td>\n",
       "      <td>http://purl.obolibrary.org/obo/HANCESTRO_0005</td>\n",
       "      <td>female</td>\n",
       "      <td>http://purl.obolibrary.org/obo/PATO_0000383</td>\n",
       "      <td>52 year</td>\n",
       "      <td>...</td>\n",
       "      <td>cortex of kidney</td>\n",
       "      <td>http://purl.obolibrary.org/obo/UBERON_0001225</td>\n",
       "      <td>glomerular filtration rate 98 ml/min/1.73âm2...</td>\n",
       "      <td>NaN</td>\n",
       "      <td>female</td>\n",
       "      <td>http://purl.obolibrary.org/obo/PATO_0000383</td>\n",
       "      <td>NaN</td>\n",
       "      <td>NaN</td>\n",
       "      <td>NaN</td>\n",
       "      <td>NaN</td>\n",
       "    </tr>\n",
       "    <tr>\n",
       "      <th>3</th>\n",
       "      <td>SAMN15040593-AAACCTGCATGCCTAA</td>\n",
       "      <td>Homo sapiens</td>\n",
       "      <td>http://purl.obolibrary.org/obo/NCBITaxon_9606</td>\n",
       "      <td>Healthy5</td>\n",
       "      <td>NaN</td>\n",
       "      <td>European</td>\n",
       "      <td>http://purl.obolibrary.org/obo/HANCESTRO_0005</td>\n",
       "      <td>female</td>\n",
       "      <td>http://purl.obolibrary.org/obo/PATO_0000383</td>\n",
       "      <td>52 year</td>\n",
       "      <td>...</td>\n",
       "      <td>cortex of kidney</td>\n",
       "      <td>http://purl.obolibrary.org/obo/UBERON_0001225</td>\n",
       "      <td>glomerular filtration rate 98 ml/min/1.73âm2...</td>\n",
       "      <td>NaN</td>\n",
       "      <td>female</td>\n",
       "      <td>http://purl.obolibrary.org/obo/PATO_0000383</td>\n",
       "      <td>NaN</td>\n",
       "      <td>NaN</td>\n",
       "      <td>NaN</td>\n",
       "      <td>NaN</td>\n",
       "    </tr>\n",
       "    <tr>\n",
       "      <th>4</th>\n",
       "      <td>SAMN15040593-AAACCTGGTATAGTAG</td>\n",
       "      <td>Homo sapiens</td>\n",
       "      <td>http://purl.obolibrary.org/obo/NCBITaxon_9606</td>\n",
       "      <td>Healthy5</td>\n",
       "      <td>NaN</td>\n",
       "      <td>European</td>\n",
       "      <td>http://purl.obolibrary.org/obo/HANCESTRO_0005</td>\n",
       "      <td>female</td>\n",
       "      <td>http://purl.obolibrary.org/obo/PATO_0000383</td>\n",
       "      <td>52 year</td>\n",
       "      <td>...</td>\n",
       "      <td>cortex of kidney</td>\n",
       "      <td>http://purl.obolibrary.org/obo/UBERON_0001225</td>\n",
       "      <td>glomerular filtration rate 98 ml/min/1.73âm2...</td>\n",
       "      <td>NaN</td>\n",
       "      <td>female</td>\n",
       "      <td>http://purl.obolibrary.org/obo/PATO_0000383</td>\n",
       "      <td>NaN</td>\n",
       "      <td>NaN</td>\n",
       "      <td>NaN</td>\n",
       "      <td>NaN</td>\n",
       "    </tr>\n",
       "  </tbody>\n",
       "</table>\n",
       "<p>5 rows × 25 columns</p>\n",
       "</div>"
      ],
      "text/plain": [
       "                           Assay Sample Characteristic[organism]  \\\n",
       "0  SAMN15040593-AAACCTGAGGACATTA                    Homo sapiens   \n",
       "1  SAMN15040593-AAACCTGCAGCTCGAC                    Homo sapiens   \n",
       "2  SAMN15040593-AAACCTGCAGTATAAG                    Homo sapiens   \n",
       "3  SAMN15040593-AAACCTGCATGCCTAA                    Homo sapiens   \n",
       "4  SAMN15040593-AAACCTGGTATAGTAG                    Homo sapiens   \n",
       "\n",
       "   Sample Characteristic Ontology Term[organism]  \\\n",
       "0  http://purl.obolibrary.org/obo/NCBITaxon_9606   \n",
       "1  http://purl.obolibrary.org/obo/NCBITaxon_9606   \n",
       "2  http://purl.obolibrary.org/obo/NCBITaxon_9606   \n",
       "3  http://purl.obolibrary.org/obo/NCBITaxon_9606   \n",
       "4  http://purl.obolibrary.org/obo/NCBITaxon_9606   \n",
       "\n",
       "  Sample Characteristic[individual]  \\\n",
       "0                          Healthy5   \n",
       "1                          Healthy5   \n",
       "2                          Healthy5   \n",
       "3                          Healthy5   \n",
       "4                          Healthy5   \n",
       "\n",
       "   Sample Characteristic Ontology Term[individual]  \\\n",
       "0                                              NaN   \n",
       "1                                              NaN   \n",
       "2                                              NaN   \n",
       "3                                              NaN   \n",
       "4                                              NaN   \n",
       "\n",
       "  Sample Characteristic[ethnic group]  \\\n",
       "0                            European   \n",
       "1                            European   \n",
       "2                            European   \n",
       "3                            European   \n",
       "4                            European   \n",
       "\n",
       "  Sample Characteristic Ontology Term[ethnic group]  \\\n",
       "0     http://purl.obolibrary.org/obo/HANCESTRO_0005   \n",
       "1     http://purl.obolibrary.org/obo/HANCESTRO_0005   \n",
       "2     http://purl.obolibrary.org/obo/HANCESTRO_0005   \n",
       "3     http://purl.obolibrary.org/obo/HANCESTRO_0005   \n",
       "4     http://purl.obolibrary.org/obo/HANCESTRO_0005   \n",
       "\n",
       "  Sample Characteristic[sex]     Sample Characteristic Ontology Term[sex]  \\\n",
       "0                     female  http://purl.obolibrary.org/obo/PATO_0000383   \n",
       "1                     female  http://purl.obolibrary.org/obo/PATO_0000383   \n",
       "2                     female  http://purl.obolibrary.org/obo/PATO_0000383   \n",
       "3                     female  http://purl.obolibrary.org/obo/PATO_0000383   \n",
       "4                     female  http://purl.obolibrary.org/obo/PATO_0000383   \n",
       "\n",
       "  Sample Characteristic[age]  ...  Sample Characteristic[organism part]  \\\n",
       "0                    52 year  ...                      cortex of kidney   \n",
       "1                    52 year  ...                      cortex of kidney   \n",
       "2                    52 year  ...                      cortex of kidney   \n",
       "3                    52 year  ...                      cortex of kidney   \n",
       "4                    52 year  ...                      cortex of kidney   \n",
       "\n",
       "  Sample Characteristic Ontology Term[organism part]  \\\n",
       "0      http://purl.obolibrary.org/obo/UBERON_0001225   \n",
       "1      http://purl.obolibrary.org/obo/UBERON_0001225   \n",
       "2      http://purl.obolibrary.org/obo/UBERON_0001225   \n",
       "3      http://purl.obolibrary.org/obo/UBERON_0001225   \n",
       "4      http://purl.obolibrary.org/obo/UBERON_0001225   \n",
       "\n",
       "         Sample Characteristic[clinical information]  \\\n",
       "0  glomerular filtration rate 98 ml/min/1.73âm2...   \n",
       "1  glomerular filtration rate 98 ml/min/1.73âm2...   \n",
       "2  glomerular filtration rate 98 ml/min/1.73âm2...   \n",
       "3  glomerular filtration rate 98 ml/min/1.73âm2...   \n",
       "4  glomerular filtration rate 98 ml/min/1.73âm2...   \n",
       "\n",
       "  Sample Characteristic Ontology Term[clinical information] Factor Value[sex]  \\\n",
       "0                                                NaN                   female   \n",
       "1                                                NaN                   female   \n",
       "2                                                NaN                   female   \n",
       "3                                                NaN                   female   \n",
       "4                                                NaN                   female   \n",
       "\n",
       "               Factor Value Ontology Term[sex]  \\\n",
       "0  http://purl.obolibrary.org/obo/PATO_0000383   \n",
       "1  http://purl.obolibrary.org/obo/PATO_0000383   \n",
       "2  http://purl.obolibrary.org/obo/PATO_0000383   \n",
       "3  http://purl.obolibrary.org/obo/PATO_0000383   \n",
       "4  http://purl.obolibrary.org/obo/PATO_0000383   \n",
       "\n",
       "  Factor Value[inferred cell type - ontology labels]  \\\n",
       "0  kidney loop of Henle thick ascending limb epit...   \n",
       "1                                                NaN   \n",
       "2                                                NaN   \n",
       "3                                                NaN   \n",
       "4                                                NaN   \n",
       "\n",
       "  Factor Value Ontology Term[inferred cell type - ontology labels]  \\\n",
       "0          http://purl.obolibrary.org/obo/CL_1001106                 \n",
       "1                                                NaN                 \n",
       "2                                                NaN                 \n",
       "3                                                NaN                 \n",
       "4                                                NaN                 \n",
       "\n",
       "   Factor Value[inferred cell type - authors labels]  \\\n",
       "0                               thick ascending limb   \n",
       "1                                                NaN   \n",
       "2                                                NaN   \n",
       "3                                                NaN   \n",
       "4                                                NaN   \n",
       "\n",
       "  Factor Value Ontology Term[inferred cell type - authors labels]  \n",
       "0                                                NaN               \n",
       "1                                                NaN               \n",
       "2                                                NaN               \n",
       "3                                                NaN               \n",
       "4                                                NaN               \n",
       "\n",
       "[5 rows x 25 columns]"
      ]
     },
     "execution_count": 67,
     "metadata": {},
     "output_type": "execute_result"
    }
   ],
   "source": [
    "ref_data_kidney = pd.read_csv('data/kidney/E-CURD-119.tsv', sep='\\t')\n",
    "ref_data_kidney.head()"
   ]
  },
  {
   "cell_type": "code",
   "execution_count": 68,
   "id": "309fa2b9",
   "metadata": {},
   "outputs": [],
   "source": [
    "index_kidney = pd.read_csv(\n",
    "    'data/kidney/E-CURD-119.aggregated_filtered_normalised_counts.mtx_rows', names=['col1', 'col2'], sep='\\t')\n",
    "cols_kidney = pd.read_csv(\n",
    "    'data/kidney/E-CURD-119.aggregated_filtered_normalised_counts.mtx_cols', names=['col1'])"
   ]
  },
  {
   "cell_type": "code",
   "execution_count": 69,
   "id": "e90b5b36",
   "metadata": {},
   "outputs": [
    {
     "data": {
      "application/vnd.microsoft.datawrangler.viewer.v0+json": {
       "columns": [
        {
         "name": "index",
         "rawType": "int64",
         "type": "integer"
        },
        {
         "name": "col1",
         "rawType": "object",
         "type": "string"
        }
       ],
       "ref": "41e06cff-769f-442e-8df2-e542077f3bca",
       "rows": [
        [
         "0",
         "ENSG00000000003"
        ],
        [
         "1",
         "ENSG00000000005"
        ],
        [
         "2",
         "ENSG00000000419"
        ],
        [
         "3",
         "ENSG00000000457"
        ],
        [
         "4",
         "ENSG00000000460"
        ],
        [
         "5",
         "ENSG00000000938"
        ],
        [
         "6",
         "ENSG00000000971"
        ],
        [
         "7",
         "ENSG00000001036"
        ],
        [
         "8",
         "ENSG00000001084"
        ],
        [
         "9",
         "ENSG00000001167"
        ],
        [
         "10",
         "ENSG00000001460"
        ],
        [
         "11",
         "ENSG00000001461"
        ],
        [
         "12",
         "ENSG00000001497"
        ],
        [
         "13",
         "ENSG00000001561"
        ],
        [
         "14",
         "ENSG00000001617"
        ],
        [
         "15",
         "ENSG00000001626"
        ],
        [
         "16",
         "ENSG00000001629"
        ],
        [
         "17",
         "ENSG00000001630"
        ],
        [
         "18",
         "ENSG00000001631"
        ],
        [
         "19",
         "ENSG00000002016"
        ],
        [
         "20",
         "ENSG00000002079"
        ],
        [
         "21",
         "ENSG00000002330"
        ],
        [
         "22",
         "ENSG00000002549"
        ],
        [
         "23",
         "ENSG00000002586"
        ],
        [
         "24",
         "ENSG00000002587"
        ],
        [
         "25",
         "ENSG00000002726"
        ],
        [
         "26",
         "ENSG00000002745"
        ],
        [
         "27",
         "ENSG00000002746"
        ],
        [
         "28",
         "ENSG00000002822"
        ],
        [
         "29",
         "ENSG00000002834"
        ],
        [
         "30",
         "ENSG00000002919"
        ],
        [
         "31",
         "ENSG00000002933"
        ],
        [
         "32",
         "ENSG00000003056"
        ],
        [
         "33",
         "ENSG00000003096"
        ],
        [
         "34",
         "ENSG00000003137"
        ],
        [
         "35",
         "ENSG00000003147"
        ],
        [
         "36",
         "ENSG00000003249"
        ],
        [
         "37",
         "ENSG00000003393"
        ],
        [
         "38",
         "ENSG00000003400"
        ],
        [
         "39",
         "ENSG00000003402"
        ],
        [
         "40",
         "ENSG00000003436"
        ],
        [
         "41",
         "ENSG00000003509"
        ],
        [
         "42",
         "ENSG00000003756"
        ],
        [
         "43",
         "ENSG00000003987"
        ],
        [
         "44",
         "ENSG00000003989"
        ],
        [
         "45",
         "ENSG00000004059"
        ],
        [
         "46",
         "ENSG00000004139"
        ],
        [
         "47",
         "ENSG00000004142"
        ],
        [
         "48",
         "ENSG00000004399"
        ],
        [
         "49",
         "ENSG00000004455"
        ]
       ],
       "shape": {
        "columns": 1,
        "rows": 38917
       }
      },
      "text/html": [
       "<div>\n",
       "<style scoped>\n",
       "    .dataframe tbody tr th:only-of-type {\n",
       "        vertical-align: middle;\n",
       "    }\n",
       "\n",
       "    .dataframe tbody tr th {\n",
       "        vertical-align: top;\n",
       "    }\n",
       "\n",
       "    .dataframe thead th {\n",
       "        text-align: right;\n",
       "    }\n",
       "</style>\n",
       "<table border=\"1\" class=\"dataframe\">\n",
       "  <thead>\n",
       "    <tr style=\"text-align: right;\">\n",
       "      <th></th>\n",
       "      <th>col1</th>\n",
       "    </tr>\n",
       "  </thead>\n",
       "  <tbody>\n",
       "    <tr>\n",
       "      <th>0</th>\n",
       "      <td>ENSG00000000003</td>\n",
       "    </tr>\n",
       "    <tr>\n",
       "      <th>1</th>\n",
       "      <td>ENSG00000000005</td>\n",
       "    </tr>\n",
       "    <tr>\n",
       "      <th>2</th>\n",
       "      <td>ENSG00000000419</td>\n",
       "    </tr>\n",
       "    <tr>\n",
       "      <th>3</th>\n",
       "      <td>ENSG00000000457</td>\n",
       "    </tr>\n",
       "    <tr>\n",
       "      <th>4</th>\n",
       "      <td>ENSG00000000460</td>\n",
       "    </tr>\n",
       "    <tr>\n",
       "      <th>...</th>\n",
       "      <td>...</td>\n",
       "    </tr>\n",
       "    <tr>\n",
       "      <th>38912</th>\n",
       "      <td>ENSG00000290147</td>\n",
       "    </tr>\n",
       "    <tr>\n",
       "      <th>38913</th>\n",
       "      <td>ENSG00000290149</td>\n",
       "    </tr>\n",
       "    <tr>\n",
       "      <th>38914</th>\n",
       "      <td>ENSG00000290163</td>\n",
       "    </tr>\n",
       "    <tr>\n",
       "      <th>38915</th>\n",
       "      <td>ENSG00000290164</td>\n",
       "    </tr>\n",
       "    <tr>\n",
       "      <th>38916</th>\n",
       "      <td>ENSG00000290165</td>\n",
       "    </tr>\n",
       "  </tbody>\n",
       "</table>\n",
       "<p>38917 rows × 1 columns</p>\n",
       "</div>"
      ],
      "text/plain": [
       "                  col1\n",
       "0      ENSG00000000003\n",
       "1      ENSG00000000005\n",
       "2      ENSG00000000419\n",
       "3      ENSG00000000457\n",
       "4      ENSG00000000460\n",
       "...                ...\n",
       "38912  ENSG00000290147\n",
       "38913  ENSG00000290149\n",
       "38914  ENSG00000290163\n",
       "38915  ENSG00000290164\n",
       "38916  ENSG00000290165\n",
       "\n",
       "[38917 rows x 1 columns]"
      ]
     },
     "execution_count": 69,
     "metadata": {},
     "output_type": "execute_result"
    }
   ],
   "source": [
    "index_kidney = index_kidney.drop(['col2'], axis=1)\n",
    "index_kidney"
   ]
  },
  {
   "cell_type": "code",
   "execution_count": 70,
   "id": "536b15bb",
   "metadata": {},
   "outputs": [],
   "source": [
    "ref_data_kidney = ref_data_kidney.rename(\n",
    "    columns={'Factor Value[inferred cell type - authors labels]': 'Cell_Type', 'Factor Value Ontology Term[inferred cell type - authors labels]': 'CL_ID'})"
   ]
  },
  {
   "cell_type": "code",
   "execution_count": 71,
   "id": "80735cbf",
   "metadata": {},
   "outputs": [],
   "source": [
    "ref_data_mod_kidney = ref_data_kidney[['Assay', 'Cell_Type', 'CL_ID']]"
   ]
  },
  {
   "cell_type": "code",
   "execution_count": 72,
   "id": "94665fc4",
   "metadata": {},
   "outputs": [
    {
     "data": {
      "application/vnd.microsoft.datawrangler.viewer.v0+json": {
       "columns": [
        {
         "name": "index",
         "rawType": "int64",
         "type": "integer"
        },
        {
         "name": "Assay",
         "rawType": "object",
         "type": "string"
        },
        {
         "name": "Cell_Type",
         "rawType": "object",
         "type": "unknown"
        },
        {
         "name": "CL_ID",
         "rawType": "object",
         "type": "unknown"
        }
       ],
       "ref": "9678956d-39eb-400c-b7fb-1cf28d1951e9",
       "rows": [
        [
         "0",
         "SAMN15040593-AAACCTGAGGACATTA",
         "thick ascending limb",
         null
        ],
        [
         "1",
         "SAMN15040593-AAACCTGCAGCTCGAC",
         null,
         null
        ],
        [
         "2",
         "SAMN15040593-AAACCTGCAGTATAAG",
         null,
         null
        ],
        [
         "3",
         "SAMN15040593-AAACCTGCATGCCTAA",
         null,
         null
        ],
        [
         "4",
         "SAMN15040593-AAACCTGGTATAGTAG",
         null,
         null
        ],
        [
         "5",
         "SAMN15040593-AAACCTGGTCCGAATT",
         "parietal epithelial cell",
         "CL:1000452"
        ],
        [
         "6",
         "SAMN15040593-AAACCTGGTCCGAGTC",
         null,
         null
        ],
        [
         "7",
         "SAMN15040593-AAACCTGGTCTAGCCG",
         null,
         null
        ],
        [
         "8",
         "SAMN15040593-AAACCTGGTGATGTCT",
         null,
         null
        ],
        [
         "9",
         "SAMN15040593-AAACCTGGTGTCAATC",
         null,
         null
        ],
        [
         "10",
         "SAMN15040593-AAACCTGTCAACCAAC",
         null,
         null
        ],
        [
         "11",
         "SAMN15040593-AAACCTGTCAATAAGG",
         null,
         null
        ],
        [
         "12",
         "SAMN15040593-AAACCTGTCATAACCG",
         null,
         null
        ],
        [
         "13",
         "SAMN15040593-AAACCTGTCATGCAAC",
         null,
         null
        ],
        [
         "14",
         "SAMN15040593-AAACCTGTCTCGAGTA",
         null,
         null
        ],
        [
         "15",
         "SAMN15040593-AAACCTGTCTGAGGGA",
         null,
         null
        ],
        [
         "16",
         "SAMN15040593-AAACCTGTCTTACCTA",
         null,
         null
        ],
        [
         "17",
         "SAMN15040593-AAACGGGAGACTACAA",
         null,
         null
        ],
        [
         "18",
         "SAMN15040593-AAACGGGAGAGGTTGC",
         "endothelial cell",
         "CL:0000115"
        ],
        [
         "19",
         "SAMN15040593-AAACGGGAGCTGGAAC",
         "Type A intercalated cell",
         null
        ],
        [
         "20",
         "SAMN15040593-AAACGGGAGTACATGA",
         "thick ascending limb",
         null
        ],
        [
         "21",
         "SAMN15040593-AAACGGGAGTATTGGA",
         "parietal epithelial cell",
         "CL:1000452"
        ],
        [
         "22",
         "SAMN15040593-AAACGGGCAAAGCGGT",
         "fibroblast",
         "CL:0000057"
        ],
        [
         "23",
         "SAMN15040593-AAACGGGCAATCACAC",
         "distal convoluted tubule 2",
         "UBERON:0001292"
        ],
        [
         "24",
         "SAMN15040593-AAACGGGCACCAGGTC",
         null,
         null
        ],
        [
         "25",
         "SAMN15040593-AAACGGGCATTACGAC",
         "proximal tubule",
         "UBERON:0004134"
        ],
        [
         "26",
         "SAMN15040593-AAACGGGGTCGCGAAA",
         "podocyte",
         "CL:0000653"
        ],
        [
         "27",
         "SAMN15040593-AAACGGGGTTATCGGT",
         "distal convoluted tubule 1",
         "UBERON:0001292"
        ],
        [
         "28",
         "SAMN15040593-AAACGGGTCACAAACC",
         null,
         null
        ],
        [
         "29",
         "SAMN15040593-AAACGGGTCACTCTTA",
         null,
         null
        ],
        [
         "30",
         "SAMN15040593-AAACGGGTCCGTAGGC",
         "proximal tubule",
         "UBERON:0004134"
        ],
        [
         "31",
         "SAMN15040593-AAAGATGAGATGTCGG",
         "endothelial cell",
         "CL:0000115"
        ],
        [
         "32",
         "SAMN15040593-AAAGATGAGGCGATAC",
         "proximal tubule",
         "UBERON:0004134"
        ],
        [
         "33",
         "SAMN15040593-AAAGATGAGTTCGATC",
         "proximal tubule",
         "UBERON:0004134"
        ],
        [
         "34",
         "SAMN15040593-AAAGATGCAATCCGAT",
         "parietal epithelial cell",
         "CL:1000452"
        ],
        [
         "35",
         "SAMN15040593-AAAGATGCAATTGCTG",
         null,
         null
        ],
        [
         "36",
         "SAMN15040593-AAAGATGGTCTGCAAT",
         "proximal tubule",
         "UBERON:0004134"
        ],
        [
         "37",
         "SAMN15040593-AAAGATGGTTGACGTT",
         "Type A intercalated cell",
         null
        ],
        [
         "38",
         "SAMN15040593-AAAGATGTCAAACGGG",
         "distal convoluted tubule 1",
         "UBERON:0001292"
        ],
        [
         "39",
         "SAMN15040593-AAAGATGTCGTTACGA",
         "proximal tubule",
         "UBERON:0004134"
        ],
        [
         "40",
         "SAMN15040593-AAAGATGTCTTGAGGT",
         "connecting tubule",
         null
        ],
        [
         "41",
         "SAMN15040593-AAAGCAAAGAGTGAGA",
         null,
         null
        ],
        [
         "42",
         "SAMN15040593-AAAGCAAAGCTAGCCC",
         "distal convoluted tubule 1",
         "UBERON:0001292"
        ],
        [
         "43",
         "SAMN15040593-AAAGCAAAGGATGGAA",
         "proximal tubule",
         "UBERON:0004134"
        ],
        [
         "44",
         "SAMN15040593-AAAGCAACAAAGAATC",
         null,
         null
        ],
        [
         "45",
         "SAMN15040593-AAAGCAACAAAGGAAG",
         null,
         null
        ],
        [
         "46",
         "SAMN15040593-AAAGCAACAACGATGG",
         "distal convoluted tubule 1",
         "UBERON:0001292"
        ],
        [
         "47",
         "SAMN15040593-AAAGCAACAAGACGTG",
         null,
         null
        ],
        [
         "48",
         "SAMN15040593-AAAGCAACACGAAAGC",
         "Type A intercalated cell",
         null
        ],
        [
         "49",
         "SAMN15040593-AAAGCAACACGAAATA",
         "distal convoluted tubule 1",
         "UBERON:0001292"
        ]
       ],
       "shape": {
        "columns": 3,
        "rows": 30589
       }
      },
      "text/html": [
       "<div>\n",
       "<style scoped>\n",
       "    .dataframe tbody tr th:only-of-type {\n",
       "        vertical-align: middle;\n",
       "    }\n",
       "\n",
       "    .dataframe tbody tr th {\n",
       "        vertical-align: top;\n",
       "    }\n",
       "\n",
       "    .dataframe thead th {\n",
       "        text-align: right;\n",
       "    }\n",
       "</style>\n",
       "<table border=\"1\" class=\"dataframe\">\n",
       "  <thead>\n",
       "    <tr style=\"text-align: right;\">\n",
       "      <th></th>\n",
       "      <th>Assay</th>\n",
       "      <th>Cell_Type</th>\n",
       "      <th>CL_ID</th>\n",
       "    </tr>\n",
       "  </thead>\n",
       "  <tbody>\n",
       "    <tr>\n",
       "      <th>0</th>\n",
       "      <td>SAMN15040593-AAACCTGAGGACATTA</td>\n",
       "      <td>thick ascending limb</td>\n",
       "      <td>NaN</td>\n",
       "    </tr>\n",
       "    <tr>\n",
       "      <th>1</th>\n",
       "      <td>SAMN15040593-AAACCTGCAGCTCGAC</td>\n",
       "      <td>NaN</td>\n",
       "      <td>NaN</td>\n",
       "    </tr>\n",
       "    <tr>\n",
       "      <th>2</th>\n",
       "      <td>SAMN15040593-AAACCTGCAGTATAAG</td>\n",
       "      <td>NaN</td>\n",
       "      <td>NaN</td>\n",
       "    </tr>\n",
       "    <tr>\n",
       "      <th>3</th>\n",
       "      <td>SAMN15040593-AAACCTGCATGCCTAA</td>\n",
       "      <td>NaN</td>\n",
       "      <td>NaN</td>\n",
       "    </tr>\n",
       "    <tr>\n",
       "      <th>4</th>\n",
       "      <td>SAMN15040593-AAACCTGGTATAGTAG</td>\n",
       "      <td>NaN</td>\n",
       "      <td>NaN</td>\n",
       "    </tr>\n",
       "    <tr>\n",
       "      <th>...</th>\n",
       "      <td>...</td>\n",
       "      <td>...</td>\n",
       "      <td>...</td>\n",
       "    </tr>\n",
       "    <tr>\n",
       "      <th>30584</th>\n",
       "      <td>SAMN15040597-TTTGTCATCACAGGCC</td>\n",
       "      <td>NaN</td>\n",
       "      <td>NaN</td>\n",
       "    </tr>\n",
       "    <tr>\n",
       "      <th>30585</th>\n",
       "      <td>SAMN15040597-TTTGTCATCACCAGGC</td>\n",
       "      <td>NaN</td>\n",
       "      <td>NaN</td>\n",
       "    </tr>\n",
       "    <tr>\n",
       "      <th>30586</th>\n",
       "      <td>SAMN15040597-TTTGTCATCACCGTAA</td>\n",
       "      <td>connecting tubule</td>\n",
       "      <td>NaN</td>\n",
       "    </tr>\n",
       "    <tr>\n",
       "      <th>30587</th>\n",
       "      <td>SAMN15040597-TTTGTCATCCTACAGA</td>\n",
       "      <td>distal convoluted tubule 1</td>\n",
       "      <td>UBERON:0001292</td>\n",
       "    </tr>\n",
       "    <tr>\n",
       "      <th>30588</th>\n",
       "      <td>SAMN15040597-TTTGTCATCGGCGCTA</td>\n",
       "      <td>distal convoluted tubule 1</td>\n",
       "      <td>UBERON:0001292</td>\n",
       "    </tr>\n",
       "  </tbody>\n",
       "</table>\n",
       "<p>30589 rows × 3 columns</p>\n",
       "</div>"
      ],
      "text/plain": [
       "                               Assay                   Cell_Type  \\\n",
       "0      SAMN15040593-AAACCTGAGGACATTA        thick ascending limb   \n",
       "1      SAMN15040593-AAACCTGCAGCTCGAC                         NaN   \n",
       "2      SAMN15040593-AAACCTGCAGTATAAG                         NaN   \n",
       "3      SAMN15040593-AAACCTGCATGCCTAA                         NaN   \n",
       "4      SAMN15040593-AAACCTGGTATAGTAG                         NaN   \n",
       "...                              ...                         ...   \n",
       "30584  SAMN15040597-TTTGTCATCACAGGCC                         NaN   \n",
       "30585  SAMN15040597-TTTGTCATCACCAGGC                         NaN   \n",
       "30586  SAMN15040597-TTTGTCATCACCGTAA           connecting tubule   \n",
       "30587  SAMN15040597-TTTGTCATCCTACAGA  distal convoluted tubule 1   \n",
       "30588  SAMN15040597-TTTGTCATCGGCGCTA  distal convoluted tubule 1   \n",
       "\n",
       "                CL_ID  \n",
       "0                 NaN  \n",
       "1                 NaN  \n",
       "2                 NaN  \n",
       "3                 NaN  \n",
       "4                 NaN  \n",
       "...               ...  \n",
       "30584             NaN  \n",
       "30585             NaN  \n",
       "30586             NaN  \n",
       "30587  UBERON:0001292  \n",
       "30588  UBERON:0001292  \n",
       "\n",
       "[30589 rows x 3 columns]"
      ]
     },
     "execution_count": 72,
     "metadata": {},
     "output_type": "execute_result"
    }
   ],
   "source": [
    "ref_data_mod_kidney['CL_ID'] = ref_data_mod_kidney['CL_ID'].str.split(\n",
    "    '/').str[-1]\n",
    "\n",
    "ref_data_mod_kidney['CL_ID'] = ref_data_mod_kidney['CL_ID'].str.replace(\n",
    "    '_', ':')\n",
    "\n",
    "ref_data_mod_kidney"
   ]
  },
  {
   "cell_type": "code",
   "execution_count": 73,
   "id": "cd7d5949",
   "metadata": {},
   "outputs": [
    {
     "name": "stdout",
     "output_type": "stream",
     "text": [
      "                             col1\n",
      "0            thick ascending limb\n",
      "1                             NaN\n",
      "2                             NaN\n",
      "3                             NaN\n",
      "4                             NaN\n",
      "...                           ...\n",
      "30584                         NaN\n",
      "30585                         NaN\n",
      "30586           connecting tubule\n",
      "30587  distal convoluted tubule 1\n",
      "30588  distal convoluted tubule 1\n",
      "\n",
      "[30589 rows x 1 columns]\n"
     ]
    }
   ],
   "source": [
    "# Create a mapping using dataframe2\n",
    "mapping = ref_data_mod_kidney.set_index('Assay')['Cell_Type']\n",
    "\n",
    "# Use the map function to replace values in dataframe1\n",
    "cols_kidney['col1'] = cols_kidney['col1'].map(mapping)\n",
    "\n",
    "# Display the modified dataframe1\n",
    "print(cols_kidney)"
   ]
  },
  {
   "cell_type": "code",
   "execution_count": 74,
   "id": "bfcdf754",
   "metadata": {},
   "outputs": [
    {
     "data": {
      "application/vnd.microsoft.datawrangler.viewer.v0+json": {
       "columns": [
        {
         "name": "index",
         "rawType": "object",
         "type": "unknown"
        },
        {
         "name": "count",
         "rawType": "int64",
         "type": "integer"
        }
       ],
       "ref": "916e3286-082f-45f0-85b0-098548d33e01",
       "rows": [
        [
         "('proximal tubule',)",
         "5033"
        ],
        [
         "('thick ascending limb',)",
         "4431"
        ],
        [
         "('distal convoluted tubule 1',)",
         "2760"
        ],
        [
         "('connecting tubule',)",
         "1805"
        ],
        [
         "('Type A intercalated cell',)",
         "1107"
        ],
        [
         "('principle cell',)",
         "1022"
        ],
        [
         "('endothelial cell',)",
         "1008"
        ],
        [
         "('parietal epithelial cell',)",
         "551"
        ],
        [
         "('distal convoluted tubule 2',)",
         "489"
        ],
        [
         "('podocyte',)",
         "463"
        ],
        [
         "('proximal tubule with VCAM1 expression',)",
         "448"
        ],
        [
         "('Type B intercalated cell',)",
         "349"
        ],
        [
         "('mesangial cell',)",
         "239"
        ],
        [
         "('fibroblast',)",
         "206"
        ],
        [
         "('leukocyte',)",
         "63"
        ]
       ],
       "shape": {
        "columns": 1,
        "rows": 15
       }
      },
      "text/plain": [
       "col1                                 \n",
       "proximal tubule                          5033\n",
       "thick ascending limb                     4431\n",
       "distal convoluted tubule 1               2760\n",
       "connecting tubule                        1805\n",
       "Type A intercalated cell                 1107\n",
       "principle cell                           1022\n",
       "endothelial cell                         1008\n",
       "parietal epithelial cell                  551\n",
       "distal convoluted tubule 2                489\n",
       "podocyte                                  463\n",
       "proximal tubule with VCAM1 expression     448\n",
       "Type B intercalated cell                  349\n",
       "mesangial cell                            239\n",
       "fibroblast                                206\n",
       "leukocyte                                  63\n",
       "Name: count, dtype: int64"
      ]
     },
     "execution_count": 74,
     "metadata": {},
     "output_type": "execute_result"
    }
   ],
   "source": [
    "cols_kidney.value_counts()"
   ]
  },
  {
   "cell_type": "code",
   "execution_count": 75,
   "id": "a2fc6891",
   "metadata": {},
   "outputs": [
    {
     "ename": "KeyError",
     "evalue": "'gene_name'",
     "output_type": "error",
     "traceback": [
      "\u001b[1;31m---------------------------------------------------------------------------\u001b[0m",
      "\u001b[1;31mKeyError\u001b[0m                                  Traceback (most recent call last)",
      "File \u001b[1;32mc:\\Users\\abueckle\\Documents\\GitHub\\hra-ftu-explorer-supporting-information\\.venv\\Lib\\site-packages\\pandas\\core\\indexes\\base.py:3805\u001b[0m, in \u001b[0;36mIndex.get_loc\u001b[1;34m(self, key)\u001b[0m\n\u001b[0;32m   3804\u001b[0m \u001b[38;5;28;01mtry\u001b[39;00m:\n\u001b[1;32m-> 3805\u001b[0m     \u001b[38;5;28;01mreturn\u001b[39;00m \u001b[38;5;28;43mself\u001b[39;49m\u001b[38;5;241;43m.\u001b[39;49m\u001b[43m_engine\u001b[49m\u001b[38;5;241;43m.\u001b[39;49m\u001b[43mget_loc\u001b[49m\u001b[43m(\u001b[49m\u001b[43mcasted_key\u001b[49m\u001b[43m)\u001b[49m\n\u001b[0;32m   3806\u001b[0m \u001b[38;5;28;01mexcept\u001b[39;00m \u001b[38;5;167;01mKeyError\u001b[39;00m \u001b[38;5;28;01mas\u001b[39;00m err:\n",
      "File \u001b[1;32mindex.pyx:167\u001b[0m, in \u001b[0;36mpandas._libs.index.IndexEngine.get_loc\u001b[1;34m()\u001b[0m\n",
      "File \u001b[1;32mindex.pyx:196\u001b[0m, in \u001b[0;36mpandas._libs.index.IndexEngine.get_loc\u001b[1;34m()\u001b[0m\n",
      "File \u001b[1;32mpandas\\\\_libs\\\\hashtable_class_helper.pxi:7081\u001b[0m, in \u001b[0;36mpandas._libs.hashtable.PyObjectHashTable.get_item\u001b[1;34m()\u001b[0m\n",
      "File \u001b[1;32mpandas\\\\_libs\\\\hashtable_class_helper.pxi:7089\u001b[0m, in \u001b[0;36mpandas._libs.hashtable.PyObjectHashTable.get_item\u001b[1;34m()\u001b[0m\n",
      "\u001b[1;31mKeyError\u001b[0m: 'gene_name'",
      "\nThe above exception was the direct cause of the following exception:\n",
      "\u001b[1;31mKeyError\u001b[0m                                  Traceback (most recent call last)",
      "Cell \u001b[1;32mIn[75], line 1\u001b[0m\n\u001b[1;32m----> 1\u001b[0m index_val_kidney \u001b[38;5;241m=\u001b[39m \u001b[43mindex_kidney\u001b[49m\u001b[43m[\u001b[49m\u001b[38;5;124;43m'\u001b[39;49m\u001b[38;5;124;43mgene_name\u001b[39;49m\u001b[38;5;124;43m'\u001b[39;49m\u001b[43m]\u001b[49m\u001b[38;5;241m.\u001b[39mtolist()\n\u001b[0;32m      2\u001b[0m col_val_kidney \u001b[38;5;241m=\u001b[39m cols_kidney[\u001b[38;5;124m'\u001b[39m\u001b[38;5;124mcol1\u001b[39m\u001b[38;5;124m'\u001b[39m]\u001b[38;5;241m.\u001b[39mtolist()\n\u001b[0;32m      4\u001b[0m \u001b[38;5;28mprint\u001b[39m(\u001b[38;5;28mlen\u001b[39m(index_val_kidney), \u001b[38;5;28mlen\u001b[39m(col_val_kidney))\n",
      "File \u001b[1;32mc:\\Users\\abueckle\\Documents\\GitHub\\hra-ftu-explorer-supporting-information\\.venv\\Lib\\site-packages\\pandas\\core\\frame.py:4102\u001b[0m, in \u001b[0;36mDataFrame.__getitem__\u001b[1;34m(self, key)\u001b[0m\n\u001b[0;32m   4100\u001b[0m \u001b[38;5;28;01mif\u001b[39;00m \u001b[38;5;28mself\u001b[39m\u001b[38;5;241m.\u001b[39mcolumns\u001b[38;5;241m.\u001b[39mnlevels \u001b[38;5;241m>\u001b[39m \u001b[38;5;241m1\u001b[39m:\n\u001b[0;32m   4101\u001b[0m     \u001b[38;5;28;01mreturn\u001b[39;00m \u001b[38;5;28mself\u001b[39m\u001b[38;5;241m.\u001b[39m_getitem_multilevel(key)\n\u001b[1;32m-> 4102\u001b[0m indexer \u001b[38;5;241m=\u001b[39m \u001b[38;5;28;43mself\u001b[39;49m\u001b[38;5;241;43m.\u001b[39;49m\u001b[43mcolumns\u001b[49m\u001b[38;5;241;43m.\u001b[39;49m\u001b[43mget_loc\u001b[49m\u001b[43m(\u001b[49m\u001b[43mkey\u001b[49m\u001b[43m)\u001b[49m\n\u001b[0;32m   4103\u001b[0m \u001b[38;5;28;01mif\u001b[39;00m is_integer(indexer):\n\u001b[0;32m   4104\u001b[0m     indexer \u001b[38;5;241m=\u001b[39m [indexer]\n",
      "File \u001b[1;32mc:\\Users\\abueckle\\Documents\\GitHub\\hra-ftu-explorer-supporting-information\\.venv\\Lib\\site-packages\\pandas\\core\\indexes\\base.py:3812\u001b[0m, in \u001b[0;36mIndex.get_loc\u001b[1;34m(self, key)\u001b[0m\n\u001b[0;32m   3807\u001b[0m     \u001b[38;5;28;01mif\u001b[39;00m \u001b[38;5;28misinstance\u001b[39m(casted_key, \u001b[38;5;28mslice\u001b[39m) \u001b[38;5;129;01mor\u001b[39;00m (\n\u001b[0;32m   3808\u001b[0m         \u001b[38;5;28misinstance\u001b[39m(casted_key, abc\u001b[38;5;241m.\u001b[39mIterable)\n\u001b[0;32m   3809\u001b[0m         \u001b[38;5;129;01mand\u001b[39;00m \u001b[38;5;28many\u001b[39m(\u001b[38;5;28misinstance\u001b[39m(x, \u001b[38;5;28mslice\u001b[39m) \u001b[38;5;28;01mfor\u001b[39;00m x \u001b[38;5;129;01min\u001b[39;00m casted_key)\n\u001b[0;32m   3810\u001b[0m     ):\n\u001b[0;32m   3811\u001b[0m         \u001b[38;5;28;01mraise\u001b[39;00m InvalidIndexError(key)\n\u001b[1;32m-> 3812\u001b[0m     \u001b[38;5;28;01mraise\u001b[39;00m \u001b[38;5;167;01mKeyError\u001b[39;00m(key) \u001b[38;5;28;01mfrom\u001b[39;00m\u001b[38;5;250m \u001b[39m\u001b[38;5;21;01merr\u001b[39;00m\n\u001b[0;32m   3813\u001b[0m \u001b[38;5;28;01mexcept\u001b[39;00m \u001b[38;5;167;01mTypeError\u001b[39;00m:\n\u001b[0;32m   3814\u001b[0m     \u001b[38;5;66;03m# If we have a listlike key, _check_indexing_error will raise\u001b[39;00m\n\u001b[0;32m   3815\u001b[0m     \u001b[38;5;66;03m#  InvalidIndexError. Otherwise we fall through and re-raise\u001b[39;00m\n\u001b[0;32m   3816\u001b[0m     \u001b[38;5;66;03m#  the TypeError.\u001b[39;00m\n\u001b[0;32m   3817\u001b[0m     \u001b[38;5;28mself\u001b[39m\u001b[38;5;241m.\u001b[39m_check_indexing_error(key)\n",
      "\u001b[1;31mKeyError\u001b[0m: 'gene_name'"
     ]
    }
   ],
   "source": [
    "index_val_kidney = index_kidney['gene_name'].tolist()\n",
    "col_val_kidney = cols_kidney['col1'].tolist()\n",
    "\n",
    "print(len(index_val_kidney), len(col_val_kidney))"
   ]
  },
  {
   "cell_type": "code",
   "execution_count": null,
   "id": "f3b3868b",
   "metadata": {},
   "outputs": [],
   "source": [
    "anndata_kidney = anndata_kidney.T"
   ]
  },
  {
   "cell_type": "markdown",
   "id": "206f8fb2",
   "metadata": {},
   "source": [
    "## Process liver data"
   ]
  },
  {
   "cell_type": "code",
   "execution_count": null,
   "id": "b43b1092",
   "metadata": {},
   "outputs": [],
   "source": [
    "# download_anatomogram_data('https://www.ebi.ac.uk/gxa/sc/experiment/E-MTAB-10553/download/zip?fileType=normalised', 'https://www.ebi.ac.uk/gxa/sc/experiment/E-MTAB-10553/download?fileType=experiment-design', 'ExpDesign-E-MTAB-10553', 'liver')"
   ]
  },
  {
   "cell_type": "markdown",
   "id": "0f0a8820",
   "metadata": {},
   "source": [
    "## Process lung data"
   ]
  },
  {
   "cell_type": "code",
   "execution_count": null,
   "id": "62560a1c",
   "metadata": {},
   "outputs": [],
   "source": [
    "# download_anatomogram_data('https://www.ebi.ac.uk/gxa/sc/experiment/E-GEOD-130148/download/zip?fileType=normalised', 'https://www.ebi.ac.uk/gxa/sc/experiment/E-GEOD-130148/download?fileType=experiment-design', 'ExpDesign-E-GEOD-130148', 'lung')"
   ]
  },
  {
   "cell_type": "markdown",
   "id": "cb592988",
   "metadata": {},
   "source": [
    "## Process pancreas"
   ]
  },
  {
   "cell_type": "code",
   "execution_count": null,
   "id": "c0c44dc2",
   "metadata": {},
   "outputs": [],
   "source": [
    "# download_anatomogram_data('https://www.ebi.ac.uk/gxa/sc/experiment/E-MTAB-5061/download/zip?fileType=normalised', 'https://www.ebi.ac.uk/gxa/sc/experiment/E-MTAB-5061/download?fileType=experiment-design','ExpDesign-/E-MTAB-5061', 'pancreas')"
   ]
  },
  {
   "cell_type": "markdown",
   "id": "0452e047",
   "metadata": {},
   "source": [
    "## Filter to only keep CTs in FTUs"
   ]
  },
  {
   "cell_type": "code",
   "execution_count": null,
   "id": "68c8009f",
   "metadata": {},
   "outputs": [],
   "source": [
    "# neet to get listing of AS-CT combos in tables only for FTUs and then the same for crosswalks"
   ]
  }
 ],
 "metadata": {
  "kernelspec": {
   "display_name": ".venv",
   "language": "python",
   "name": "python3"
  },
  "language_info": {
   "codemirror_mode": {
    "name": "ipython",
    "version": 3
   },
   "file_extension": ".py",
   "mimetype": "text/x-python",
   "name": "python",
   "nbconvert_exporter": "python",
   "pygments_lexer": "ipython3",
   "version": "3.12.4"
  }
 },
 "nbformat": 4,
 "nbformat_minor": 5
}
