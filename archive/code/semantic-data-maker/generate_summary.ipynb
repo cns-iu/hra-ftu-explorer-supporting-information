{
 "cells": [
  {
   "cell_type": "code",
   "execution_count": 1,
   "id": "057effd2-d3b6-476f-93d4-03d3d76b8fc6",
   "metadata": {},
   "outputs": [],
   "source": [
    "import json"
   ]
  },
  {
   "cell_type": "code",
   "execution_count": null,
   "id": "7d242996-7756-4f2d-80dc-96a161d63f4d",
   "metadata": {},
   "outputs": [],
   "source": [
    "# Initialize the JSON structure\n",
    "jsonld_data = {\n",
    "    \"@context\": [\n",
    "        \"https://cns-iu.github.io/hra-cell-type-populations-supporting-information/data-processor/ccf-context.jsonld\",\n",
    "        {\n",
    "            \"UBERON\": {\n",
    "                \"@id\": \"http://purl.obolibrary.org/obo/UBERON_\",\n",
    "                \"@prefix\": true\n",
    "            },\n",
    "            \"illustration_files\": {\n",
    "                \"@id\": \"ccf:has_illustration_file\",\n",
    "                \"@type\": \"@id\"\n",
    "            },\n",
    "            \"mapping\": {\n",
    "                \"@id\": \"ccf:has_illustration_node\",\n",
    "                \"@type\": \"@id\"\n",
    "            },\n",
    "            \"organ_id\": {\n",
    "                \"@id\": \"ccf:organ_id\",\n",
    "                \"@type\": \"@id\"\n",
    "            },\n",
    "            \"data_sources\": {\n",
    "                \"@id\": \"ccf:has_data_source\",\n",
    "                \"@type\": \"@id\"\n",
    "            }\n",
    "        }\n",
    "    ],\n",
    "    \"@graph\": []\n",
    "}"
   ]
  },
  {
   "cell_type": "code",
   "execution_count": null,
   "id": "aeb6504a-b316-4dd9-95e0-2bc47ccc8b54",
   "metadata": {},
   "outputs": [],
   "source": [
    "for cell_type in df1['cell_type'].unique():\n",
    "    cell_summary = {\n",
    "        \"@type\": \"CellSummary\",\n",
    "        \"cell_source\": \"Datasource file\",  # Update this with actual data source if available\n",
    "        \"annotation_method\": \"Aggregation\",\n",
    "        \"biomarker_type\": \"gene\",\n",
    "        \"summary\": []\n",
    "    }\n",
    "    \n",
    "    # Fetch CL_ID for the cell_type from df1\n",
    "    cl_id = df1[df1['cell_type'] == cell_type]['CL_ID'].iloc[0]\n",
    "    \n",
    "    genes_data = df2_merged[df2_merged['cell_type'] == cell_type]\n",
    "    for _, row in genes_data.iterrows():\n",
    "        gene_data = {\n",
    "            \"@type\": \"GeneExpression\",\n",
    "            \"ensembl_id\": row['gene'],\n",
    "            \"gene_id\": row['HGNC_ID'],\n",
    "            \"gene_label\": row['HGNC_Symbol'],\n",
    "            \"mean_expression\": row['normalized_mean_expression'],\n",
    "            \"p_val\": row['pvals'],\n",
    "            \"log2fc\": row['log2fc'],\n",
    "            \"pvals_adj\": row['pvals_adj']\n",
    "        }\n",
    "        cell_summary[\"summary\"].append({\n",
    "            \"@type\": \"CellSummaryRow\",\n",
    "            \"cell_id\": cl_id,\n",
    "            \"cell_label\": cell_type,\n",
    "            \"genes\": [gene_data]\n",
    "        })\n",
    "    \n",
    "    jsonld_data[\"@graph\"].append(cell_summary)\n",
    "\n",
    "# Save the JSON-LD data to a file\n",
    "with open('cell_data.jsonld', 'w') as outfile:\n",
    "    json.dump(jsonld_data, outfile, indent=4)\n",
    "\n",
    "print(\"JSON-LD file has been created.\")"
   ]
  }
 ],
 "metadata": {
  "kernelspec": {
   "display_name": "iftuExplorer",
   "language": "python",
   "name": "iftuexplorer"
  },
  "language_info": {
   "codemirror_mode": {
    "name": "ipython",
    "version": 3
   },
   "file_extension": ".py",
   "mimetype": "text/x-python",
   "name": "python",
   "nbconvert_exporter": "python",
   "pygments_lexer": "ipython3",
   "version": "3.10.13"
  }
 },
 "nbformat": 4,
 "nbformat_minor": 5
}
